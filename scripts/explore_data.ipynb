{
 "cells": [
  {
   "cell_type": "code",
   "execution_count": 18,
   "id": "a48e4ed8-c992-40dd-b661-bc2366a8405c",
   "metadata": {},
   "outputs": [],
   "source": [
    "import uproot\n",
    "import matplotlib.pyplot as plt\n",
    "import numpy as np\n",
    "import pandas as pd\n",
    "import plotly.express as px\n",
    "\n",
    "# https://github.com/BNL-DAQ-LDRD/calotrack_tree/tree/main\n",
    "# enum detid {\n",
    "#     mvtxId = 0,\n",
    "#     inttId = 1,\n",
    "#     tpcId = 2,\n",
    "#     tpotId = 3,\n",
    "#     cemcId = 4,\n",
    "#     ihcalId = 5,\n",
    "#     ohcalId = 6,\n",
    "#     epdId = 7,\n",
    "#     mbdId = 8\n",
    "# };\n",
    "\n",
    "# input hits in calarometer is \"nHits_\", and in trackers \"reco_cluster_\"\n",
    "# groundtruth hits in calarometer is \"particle_\" and in trackers \"truth_cluster_\""
   ]
  },
  {
   "cell_type": "code",
   "execution_count": 20,
   "id": "dadb685b-3040-448d-a16f-e4b8e838b42b",
   "metadata": {},
   "outputs": [
    {
     "name": "stdout",
     "output_type": "stream",
     "text": [
      "['nHits', 'Hit_E', 'Hit_x', 'Hit_y', 'Hit_z', 'Hit_t', 'Hit_detid', 'nParticles', 'particle_pid', 'particle_energy', 'particle_px', 'particle_py', 'particle_pz', 'particle_vtx_x', 'particle_vtx_y', 'particle_vtx_z', 'particle_track_id', 'particle_primary_id', 'particle_parent_id', 'particle_is_pythia_primary', 'particle_is_embedded', 'particle_charge', 'nRecoClusters', 'reco_cluster_E', 'reco_cluster_x', 'reco_cluster_y', 'reco_cluster_z', 'reco_cluster_t', 'reco_cluster_detid', 'reco_cluster_trcluster_id', 'reco_cluster_g4hit_id', 'reco_cluster_g4hit_trkid', 'nTruthClusters', 'truth_cluster_E', 'truth_cluster_x', 'truth_cluster_y', 'truth_cluster_z', 'truth_cluster_t', 'truth_cluster_detid', 'truth_cluster_id', 'truth_cluster_trparticle_track_id', 'nTrackG4Hits', 'track_g4hit_x', 'track_g4hit_y', 'track_g4hit_z', 'track_g4hit_t', 'track_g4hit_E', 'track_g4hit_trparticle_track_id', 'track_g4hit_id']\n"
     ]
    }
   ],
   "source": [
    "data_file = \"../macro/testout.root\" # sample data shared by Shuhang containing 100 events\n",
    "with uproot.open(data_file) as fp:\n",
    "    print(list(fp['T;1'].keys()))\n",
    "data = uproot.open(data_file)[\"T;1\"]\n",
    "detid = {\"mvtx\": 0,\"intt\": 1,\"tpc\": 2,\"tpot\": 3,\"cemc\": 4,\"ihcal\": 5,\"ohcal\": 6,\"epd\": 7,\"mbd\": 8 };\n",
    "id2det = {x:str(x)+'-'+y for y,x in detid.items()}"
   ]
  },
  {
   "cell_type": "code",
   "execution_count": 27,
   "id": "9287ca75-0a33-4868-939f-542d6462102d",
   "metadata": {},
   "outputs": [],
   "source": [
    "## combine all hits and clusters per event\n",
    "def get_event(event_id):\n",
    "    calx = data[\"Hit_x\"].array(library=\"np\")[event_id]\n",
    "    caly = data[\"Hit_y\"].array(library=\"np\")[event_id]\n",
    "    calz = data[\"Hit_z\"].array(library=\"np\")[event_id]\n",
    "    calE = data[\"Hit_E\"].array(library=\"np\")[event_id]\n",
    "    calD = data[\"Hit_detid\"].array(library=\"np\")[event_id]\n",
    "    trkx = data[\"reco_cluster_x\"].array(library=\"np\")[event_id]\n",
    "    trky = data[\"reco_cluster_y\"].array(library=\"np\")[event_id]\n",
    "    trkz = data[\"reco_cluster_z\"].array(library=\"np\")[event_id]\n",
    "    trkE = data[\"reco_cluster_E\"].array(library=\"np\")[event_id]\n",
    "    trkD = data[\"reco_cluster_detid\"].array(library=\"np\")[event_id]\n",
    "    trk_g4hit_trkid = data[\"reco_cluster_g4hit_trkid\"].array(library=\"np\")[event_id]\n",
    "    x = np.concatenate([trkx])\n",
    "    y = np.concatenate([trky])\n",
    "    z = np.concatenate([trkz])\n",
    "    E = np.concatenate([trkE])\n",
    "    D = np.concatenate([trkD])\n",
    "    g4hit_trkid = np.concatenate([trk_g4hit_trkid])\n",
    "    # x = np.concatenate([trkx, calx])\n",
    "    # y = np.concatenate([trky, caly])\n",
    "    # z = np.concatenate([trkz, calz])\n",
    "    # E = np.concatenate([trkE, calE])\n",
    "    # D = np.concatenate([trkD, calD])\n",
    "    df = pd.DataFrame({\"x\": x, \"y\": y, \"z\": z, \"E\": E, \"D\": D, \"g4hit_trkid\": g4hit_trkid})\n",
    "    df[\"detector type\"] = df[\"D\"].apply(lambda x: id2det[x])\n",
    "    df = df[(df['g4hit_trkid'] < 100)]\n",
    "    return df"
   ]
  },
  {
   "cell_type": "code",
   "execution_count": 29,
   "id": "30ffbb37-18ef-42b5-8463-494783dde6c9",
   "metadata": {
    "collapsed": true,
    "jupyter": {
     "outputs_hidden": true
    },
    "scrolled": true,
    "tags": []
   },
   "outputs": [
    {
     "data": {
      "application/vnd.plotly.v1+json": {
       "config": {
        "plotlyServerURL": "https://plot.ly"
       },
       "data": [
        {
         "domain": {
          "x": [
           0,
           1
          ],
          "y": [
           0,
           1
          ]
         },
         "hovertemplate": "name=%{label}<br>count=%{value}<extra></extra>",
         "labels": [
          "0-mvtx",
          "1-intt",
          "2-tpc"
         ],
         "legendgroup": "",
         "name": "",
         "showlegend": true,
         "type": "pie",
         "values": [
          121,
          47,
          1292
         ]
        }
       ],
       "layout": {
        "autosize": true,
        "legend": {
         "tracegroupgap": 0,
         "traceorder": "normal"
        },
        "margin": {
         "t": 60
        },
        "template": {
         "data": {
          "bar": [
           {
            "error_x": {
             "color": "#2a3f5f"
            },
            "error_y": {
             "color": "#2a3f5f"
            },
            "marker": {
             "line": {
              "color": "#E5ECF6",
              "width": 0.5
             },
             "pattern": {
              "fillmode": "overlay",
              "size": 10,
              "solidity": 0.2
             }
            },
            "type": "bar"
           }
          ],
          "barpolar": [
           {
            "marker": {
             "line": {
              "color": "#E5ECF6",
              "width": 0.5
             },
             "pattern": {
              "fillmode": "overlay",
              "size": 10,
              "solidity": 0.2
             }
            },
            "type": "barpolar"
           }
          ],
          "carpet": [
           {
            "aaxis": {
             "endlinecolor": "#2a3f5f",
             "gridcolor": "white",
             "linecolor": "white",
             "minorgridcolor": "white",
             "startlinecolor": "#2a3f5f"
            },
            "baxis": {
             "endlinecolor": "#2a3f5f",
             "gridcolor": "white",
             "linecolor": "white",
             "minorgridcolor": "white",
             "startlinecolor": "#2a3f5f"
            },
            "type": "carpet"
           }
          ],
          "choropleth": [
           {
            "colorbar": {
             "outlinewidth": 0,
             "ticks": ""
            },
            "type": "choropleth"
           }
          ],
          "contour": [
           {
            "colorbar": {
             "outlinewidth": 0,
             "ticks": ""
            },
            "colorscale": [
             [
              0,
              "#0d0887"
             ],
             [
              0.1111111111111111,
              "#46039f"
             ],
             [
              0.2222222222222222,
              "#7201a8"
             ],
             [
              0.3333333333333333,
              "#9c179e"
             ],
             [
              0.4444444444444444,
              "#bd3786"
             ],
             [
              0.5555555555555556,
              "#d8576b"
             ],
             [
              0.6666666666666666,
              "#ed7953"
             ],
             [
              0.7777777777777778,
              "#fb9f3a"
             ],
             [
              0.8888888888888888,
              "#fdca26"
             ],
             [
              1,
              "#f0f921"
             ]
            ],
            "type": "contour"
           }
          ],
          "contourcarpet": [
           {
            "colorbar": {
             "outlinewidth": 0,
             "ticks": ""
            },
            "type": "contourcarpet"
           }
          ],
          "heatmap": [
           {
            "colorbar": {
             "outlinewidth": 0,
             "ticks": ""
            },
            "colorscale": [
             [
              0,
              "#0d0887"
             ],
             [
              0.1111111111111111,
              "#46039f"
             ],
             [
              0.2222222222222222,
              "#7201a8"
             ],
             [
              0.3333333333333333,
              "#9c179e"
             ],
             [
              0.4444444444444444,
              "#bd3786"
             ],
             [
              0.5555555555555556,
              "#d8576b"
             ],
             [
              0.6666666666666666,
              "#ed7953"
             ],
             [
              0.7777777777777778,
              "#fb9f3a"
             ],
             [
              0.8888888888888888,
              "#fdca26"
             ],
             [
              1,
              "#f0f921"
             ]
            ],
            "type": "heatmap"
           }
          ],
          "heatmapgl": [
           {
            "colorbar": {
             "outlinewidth": 0,
             "ticks": ""
            },
            "colorscale": [
             [
              0,
              "#0d0887"
             ],
             [
              0.1111111111111111,
              "#46039f"
             ],
             [
              0.2222222222222222,
              "#7201a8"
             ],
             [
              0.3333333333333333,
              "#9c179e"
             ],
             [
              0.4444444444444444,
              "#bd3786"
             ],
             [
              0.5555555555555556,
              "#d8576b"
             ],
             [
              0.6666666666666666,
              "#ed7953"
             ],
             [
              0.7777777777777778,
              "#fb9f3a"
             ],
             [
              0.8888888888888888,
              "#fdca26"
             ],
             [
              1,
              "#f0f921"
             ]
            ],
            "type": "heatmapgl"
           }
          ],
          "histogram": [
           {
            "marker": {
             "pattern": {
              "fillmode": "overlay",
              "size": 10,
              "solidity": 0.2
             }
            },
            "type": "histogram"
           }
          ],
          "histogram2d": [
           {
            "colorbar": {
             "outlinewidth": 0,
             "ticks": ""
            },
            "colorscale": [
             [
              0,
              "#0d0887"
             ],
             [
              0.1111111111111111,
              "#46039f"
             ],
             [
              0.2222222222222222,
              "#7201a8"
             ],
             [
              0.3333333333333333,
              "#9c179e"
             ],
             [
              0.4444444444444444,
              "#bd3786"
             ],
             [
              0.5555555555555556,
              "#d8576b"
             ],
             [
              0.6666666666666666,
              "#ed7953"
             ],
             [
              0.7777777777777778,
              "#fb9f3a"
             ],
             [
              0.8888888888888888,
              "#fdca26"
             ],
             [
              1,
              "#f0f921"
             ]
            ],
            "type": "histogram2d"
           }
          ],
          "histogram2dcontour": [
           {
            "colorbar": {
             "outlinewidth": 0,
             "ticks": ""
            },
            "colorscale": [
             [
              0,
              "#0d0887"
             ],
             [
              0.1111111111111111,
              "#46039f"
             ],
             [
              0.2222222222222222,
              "#7201a8"
             ],
             [
              0.3333333333333333,
              "#9c179e"
             ],
             [
              0.4444444444444444,
              "#bd3786"
             ],
             [
              0.5555555555555556,
              "#d8576b"
             ],
             [
              0.6666666666666666,
              "#ed7953"
             ],
             [
              0.7777777777777778,
              "#fb9f3a"
             ],
             [
              0.8888888888888888,
              "#fdca26"
             ],
             [
              1,
              "#f0f921"
             ]
            ],
            "type": "histogram2dcontour"
           }
          ],
          "mesh3d": [
           {
            "colorbar": {
             "outlinewidth": 0,
             "ticks": ""
            },
            "type": "mesh3d"
           }
          ],
          "parcoords": [
           {
            "line": {
             "colorbar": {
              "outlinewidth": 0,
              "ticks": ""
             }
            },
            "type": "parcoords"
           }
          ],
          "pie": [
           {
            "automargin": true,
            "type": "pie"
           }
          ],
          "scatter": [
           {
            "fillpattern": {
             "fillmode": "overlay",
             "size": 10,
             "solidity": 0.2
            },
            "type": "scatter"
           }
          ],
          "scatter3d": [
           {
            "line": {
             "colorbar": {
              "outlinewidth": 0,
              "ticks": ""
             }
            },
            "marker": {
             "colorbar": {
              "outlinewidth": 0,
              "ticks": ""
             }
            },
            "type": "scatter3d"
           }
          ],
          "scattercarpet": [
           {
            "marker": {
             "colorbar": {
              "outlinewidth": 0,
              "ticks": ""
             }
            },
            "type": "scattercarpet"
           }
          ],
          "scattergeo": [
           {
            "marker": {
             "colorbar": {
              "outlinewidth": 0,
              "ticks": ""
             }
            },
            "type": "scattergeo"
           }
          ],
          "scattergl": [
           {
            "marker": {
             "colorbar": {
              "outlinewidth": 0,
              "ticks": ""
             }
            },
            "type": "scattergl"
           }
          ],
          "scattermapbox": [
           {
            "marker": {
             "colorbar": {
              "outlinewidth": 0,
              "ticks": ""
             }
            },
            "type": "scattermapbox"
           }
          ],
          "scatterpolar": [
           {
            "marker": {
             "colorbar": {
              "outlinewidth": 0,
              "ticks": ""
             }
            },
            "type": "scatterpolar"
           }
          ],
          "scatterpolargl": [
           {
            "marker": {
             "colorbar": {
              "outlinewidth": 0,
              "ticks": ""
             }
            },
            "type": "scatterpolargl"
           }
          ],
          "scatterternary": [
           {
            "marker": {
             "colorbar": {
              "outlinewidth": 0,
              "ticks": ""
             }
            },
            "type": "scatterternary"
           }
          ],
          "surface": [
           {
            "colorbar": {
             "outlinewidth": 0,
             "ticks": ""
            },
            "colorscale": [
             [
              0,
              "#0d0887"
             ],
             [
              0.1111111111111111,
              "#46039f"
             ],
             [
              0.2222222222222222,
              "#7201a8"
             ],
             [
              0.3333333333333333,
              "#9c179e"
             ],
             [
              0.4444444444444444,
              "#bd3786"
             ],
             [
              0.5555555555555556,
              "#d8576b"
             ],
             [
              0.6666666666666666,
              "#ed7953"
             ],
             [
              0.7777777777777778,
              "#fb9f3a"
             ],
             [
              0.8888888888888888,
              "#fdca26"
             ],
             [
              1,
              "#f0f921"
             ]
            ],
            "type": "surface"
           }
          ],
          "table": [
           {
            "cells": {
             "fill": {
              "color": "#EBF0F8"
             },
             "line": {
              "color": "white"
             }
            },
            "header": {
             "fill": {
              "color": "#C8D4E3"
             },
             "line": {
              "color": "white"
             }
            },
            "type": "table"
           }
          ]
         },
         "layout": {
          "annotationdefaults": {
           "arrowcolor": "#2a3f5f",
           "arrowhead": 0,
           "arrowwidth": 1
          },
          "autotypenumbers": "strict",
          "coloraxis": {
           "colorbar": {
            "outlinewidth": 0,
            "ticks": ""
           }
          },
          "colorscale": {
           "diverging": [
            [
             0,
             "#8e0152"
            ],
            [
             0.1,
             "#c51b7d"
            ],
            [
             0.2,
             "#de77ae"
            ],
            [
             0.3,
             "#f1b6da"
            ],
            [
             0.4,
             "#fde0ef"
            ],
            [
             0.5,
             "#f7f7f7"
            ],
            [
             0.6,
             "#e6f5d0"
            ],
            [
             0.7,
             "#b8e186"
            ],
            [
             0.8,
             "#7fbc41"
            ],
            [
             0.9,
             "#4d9221"
            ],
            [
             1,
             "#276419"
            ]
           ],
           "sequential": [
            [
             0,
             "#0d0887"
            ],
            [
             0.1111111111111111,
             "#46039f"
            ],
            [
             0.2222222222222222,
             "#7201a8"
            ],
            [
             0.3333333333333333,
             "#9c179e"
            ],
            [
             0.4444444444444444,
             "#bd3786"
            ],
            [
             0.5555555555555556,
             "#d8576b"
            ],
            [
             0.6666666666666666,
             "#ed7953"
            ],
            [
             0.7777777777777778,
             "#fb9f3a"
            ],
            [
             0.8888888888888888,
             "#fdca26"
            ],
            [
             1,
             "#f0f921"
            ]
           ],
           "sequentialminus": [
            [
             0,
             "#0d0887"
            ],
            [
             0.1111111111111111,
             "#46039f"
            ],
            [
             0.2222222222222222,
             "#7201a8"
            ],
            [
             0.3333333333333333,
             "#9c179e"
            ],
            [
             0.4444444444444444,
             "#bd3786"
            ],
            [
             0.5555555555555556,
             "#d8576b"
            ],
            [
             0.6666666666666666,
             "#ed7953"
            ],
            [
             0.7777777777777778,
             "#fb9f3a"
            ],
            [
             0.8888888888888888,
             "#fdca26"
            ],
            [
             1,
             "#f0f921"
            ]
           ]
          },
          "colorway": [
           "#636efa",
           "#EF553B",
           "#00cc96",
           "#ab63fa",
           "#FFA15A",
           "#19d3f3",
           "#FF6692",
           "#B6E880",
           "#FF97FF",
           "#FECB52"
          ],
          "font": {
           "color": "#2a3f5f"
          },
          "geo": {
           "bgcolor": "white",
           "lakecolor": "white",
           "landcolor": "#E5ECF6",
           "showlakes": true,
           "showland": true,
           "subunitcolor": "white"
          },
          "hoverlabel": {
           "align": "left"
          },
          "hovermode": "closest",
          "mapbox": {
           "style": "light"
          },
          "paper_bgcolor": "white",
          "plot_bgcolor": "#E5ECF6",
          "polar": {
           "angularaxis": {
            "gridcolor": "white",
            "linecolor": "white",
            "ticks": ""
           },
           "bgcolor": "#E5ECF6",
           "radialaxis": {
            "gridcolor": "white",
            "linecolor": "white",
            "ticks": ""
           }
          },
          "scene": {
           "xaxis": {
            "backgroundcolor": "#E5ECF6",
            "gridcolor": "white",
            "gridwidth": 2,
            "linecolor": "white",
            "showbackground": true,
            "ticks": "",
            "zerolinecolor": "white"
           },
           "yaxis": {
            "backgroundcolor": "#E5ECF6",
            "gridcolor": "white",
            "gridwidth": 2,
            "linecolor": "white",
            "showbackground": true,
            "ticks": "",
            "zerolinecolor": "white"
           },
           "zaxis": {
            "backgroundcolor": "#E5ECF6",
            "gridcolor": "white",
            "gridwidth": 2,
            "linecolor": "white",
            "showbackground": true,
            "ticks": "",
            "zerolinecolor": "white"
           }
          },
          "shapedefaults": {
           "line": {
            "color": "#2a3f5f"
           }
          },
          "ternary": {
           "aaxis": {
            "gridcolor": "white",
            "linecolor": "white",
            "ticks": ""
           },
           "baxis": {
            "gridcolor": "white",
            "linecolor": "white",
            "ticks": ""
           },
           "bgcolor": "#E5ECF6",
           "caxis": {
            "gridcolor": "white",
            "linecolor": "white",
            "ticks": ""
           }
          },
          "title": {
           "x": 0.05
          },
          "xaxis": {
           "automargin": true,
           "gridcolor": "white",
           "linecolor": "white",
           "ticks": "",
           "title": {
            "standoff": 15
           },
           "zerolinecolor": "white",
           "zerolinewidth": 2
          },
          "yaxis": {
           "automargin": true,
           "gridcolor": "white",
           "linecolor": "white",
           "ticks": "",
           "title": {
            "standoff": 15
           },
           "zerolinecolor": "white",
           "zerolinewidth": 2
          }
         }
        }
       }
      },
      "image/png": "[encoded data removed]",
      "text/html": [
       "<div>                            <div id=\"599a6180-0c00-401d-9c5d-5731fa1996f8\" class=\"plotly-graph-div\" style=\"height:525px; width:100%;\"></div>            <script type=\"text/javascript\">                require([\"plotly\"], function(Plotly) {                    window.PLOTLYENV=window.PLOTLYENV || {};                                    if (document.getElementById(\"599a6180-0c00-401d-9c5d-5731fa1996f8\")) {                    Plotly.newPlot(                        \"599a6180-0c00-401d-9c5d-5731fa1996f8\",                        [{\"domain\":{\"x\":[0.0,1.0],\"y\":[0.0,1.0]},\"hovertemplate\":\"name=%{label}<br>count=%{value}<extra></extra>\",\"labels\":[\"0-mvtx\",\"1-intt\",\"2-tpc\"],\"legendgroup\":\"\",\"name\":\"\",\"showlegend\":true,\"values\":[121,47,1292],\"type\":\"pie\"}],                        {\"template\":{\"data\":{\"histogram2dcontour\":[{\"type\":\"histogram2dcontour\",\"colorbar\":{\"outlinewidth\":0,\"ticks\":\"\"},\"colorscale\":[[0.0,\"#0d0887\"],[0.1111111111111111,\"#46039f\"],[0.2222222222222222,\"#7201a8\"],[0.3333333333333333,\"#9c179e\"],[0.4444444444444444,\"#bd3786\"],[0.5555555555555556,\"#d8576b\"],[0.6666666666666666,\"#ed7953\"],[0.7777777777777778,\"#fb9f3a\"],[0.8888888888888888,\"#fdca26\"],[1.0,\"#f0f921\"]]}],\"choropleth\":[{\"type\":\"choropleth\",\"colorbar\":{\"outlinewidth\":0,\"ticks\":\"\"}}],\"histogram2d\":[{\"type\":\"histogram2d\",\"colorbar\":{\"outlinewidth\":0,\"ticks\":\"\"},\"colorscale\":[[0.0,\"#0d0887\"],[0.1111111111111111,\"#46039f\"],[0.2222222222222222,\"#7201a8\"],[0.3333333333333333,\"#9c179e\"],[0.4444444444444444,\"#bd3786\"],[0.5555555555555556,\"#d8576b\"],[0.6666666666666666,\"#ed7953\"],[0.7777777777777778,\"#fb9f3a\"],[0.8888888888888888,\"#fdca26\"],[1.0,\"#f0f921\"]]}],\"heatmap\":[{\"type\":\"heatmap\",\"colorbar\":{\"outlinewidth\":0,\"ticks\":\"\"},\"colorscale\":[[0.0,\"#0d0887\"],[0.1111111111111111,\"#46039f\"],[0.2222222222222222,\"#7201a8\"],[0.3333333333333333,\"#9c179e\"],[0.4444444444444444,\"#bd3786\"],[0.5555555555555556,\"#d8576b\"],[0.6666666666666666,\"#ed7953\"],[0.7777777777777778,\"#fb9f3a\"],[0.8888888888888888,\"#fdca26\"],[1.0,\"#f0f921\"]]}],\"heatmapgl\":[{\"type\":\"heatmapgl\",\"colorbar\":{\"outlinewidth\":0,\"ticks\":\"\"},\"colorscale\":[[0.0,\"#0d0887\"],[0.1111111111111111,\"#46039f\"],[0.2222222222222222,\"#7201a8\"],[0.3333333333333333,\"#9c179e\"],[0.4444444444444444,\"#bd3786\"],[0.5555555555555556,\"#d8576b\"],[0.6666666666666666,\"#ed7953\"],[0.7777777777777778,\"#fb9f3a\"],[0.8888888888888888,\"#fdca26\"],[1.0,\"#f0f921\"]]}],\"contourcarpet\":[{\"type\":\"contourcarpet\",\"colorbar\":{\"outlinewidth\":0,\"ticks\":\"\"}}],\"contour\":[{\"type\":\"contour\",\"colorbar\":{\"outlinewidth\":0,\"ticks\":\"\"},\"colorscale\":[[0.0,\"#0d0887\"],[0.1111111111111111,\"#46039f\"],[0.2222222222222222,\"#7201a8\"],[0.3333333333333333,\"#9c179e\"],[0.4444444444444444,\"#bd3786\"],[0.5555555555555556,\"#d8576b\"],[0.6666666666666666,\"#ed7953\"],[0.7777777777777778,\"#fb9f3a\"],[0.8888888888888888,\"#fdca26\"],[1.0,\"#f0f921\"]]}],\"surface\":[{\"type\":\"surface\",\"colorbar\":{\"outlinewidth\":0,\"ticks\":\"\"},\"colorscale\":[[0.0,\"#0d0887\"],[0.1111111111111111,\"#46039f\"],[0.2222222222222222,\"#7201a8\"],[0.3333333333333333,\"#9c179e\"],[0.4444444444444444,\"#bd3786\"],[0.5555555555555556,\"#d8576b\"],[0.6666666666666666,\"#ed7953\"],[0.7777777777777778,\"#fb9f3a\"],[0.8888888888888888,\"#fdca26\"],[1.0,\"#f0f921\"]]}],\"mesh3d\":[{\"type\":\"mesh3d\",\"colorbar\":{\"outlinewidth\":0,\"ticks\":\"\"}}],\"scatter\":[{\"fillpattern\":{\"fillmode\":\"overlay\",\"size\":10,\"solidity\":0.2},\"type\":\"scatter\"}],\"parcoords\":[{\"type\":\"parcoords\",\"line\":{\"colorbar\":{\"outlinewidth\":0,\"ticks\":\"\"}}}],\"scatterpolargl\":[{\"type\":\"scatterpolargl\",\"marker\":{\"colorbar\":{\"outlinewidth\":0,\"ticks\":\"\"}}}],\"bar\":[{\"error_x\":{\"color\":\"#2a3f5f\"},\"error_y\":{\"color\":\"#2a3f5f\"},\"marker\":{\"line\":{\"color\":\"#E5ECF6\",\"width\":0.5},\"pattern\":{\"fillmode\":\"overlay\",\"size\":10,\"solidity\":0.2}},\"type\":\"bar\"}],\"scattergeo\":[{\"type\":\"scattergeo\",\"marker\":{\"colorbar\":{\"outlinewidth\":0,\"ticks\":\"\"}}}],\"scatterpolar\":[{\"type\":\"scatterpolar\",\"marker\":{\"colorbar\":{\"outlinewidth\":0,\"ticks\":\"\"}}}],\"histogram\":[{\"marker\":{\"pattern\":{\"fillmode\":\"overlay\",\"size\":10,\"solidity\":0.2}},\"type\":\"histogram\"}],\"scattergl\":[{\"type\":\"scattergl\",\"marker\":{\"colorbar\":{\"outlinewidth\":0,\"ticks\":\"\"}}}],\"scatter3d\":[{\"type\":\"scatter3d\",\"line\":{\"colorbar\":{\"outlinewidth\":0,\"ticks\":\"\"}},\"marker\":{\"colorbar\":{\"outlinewidth\":0,\"ticks\":\"\"}}}],\"scattermapbox\":[{\"type\":\"scattermapbox\",\"marker\":{\"colorbar\":{\"outlinewidth\":0,\"ticks\":\"\"}}}],\"scatterternary\":[{\"type\":\"scatterternary\",\"marker\":{\"colorbar\":{\"outlinewidth\":0,\"ticks\":\"\"}}}],\"scattercarpet\":[{\"type\":\"scattercarpet\",\"marker\":{\"colorbar\":{\"outlinewidth\":0,\"ticks\":\"\"}}}],\"carpet\":[{\"aaxis\":{\"endlinecolor\":\"#2a3f5f\",\"gridcolor\":\"white\",\"linecolor\":\"white\",\"minorgridcolor\":\"white\",\"startlinecolor\":\"#2a3f5f\"},\"baxis\":{\"endlinecolor\":\"#2a3f5f\",\"gridcolor\":\"white\",\"linecolor\":\"white\",\"minorgridcolor\":\"white\",\"startlinecolor\":\"#2a3f5f\"},\"type\":\"carpet\"}],\"table\":[{\"cells\":{\"fill\":{\"color\":\"#EBF0F8\"},\"line\":{\"color\":\"white\"}},\"header\":{\"fill\":{\"color\":\"#C8D4E3\"},\"line\":{\"color\":\"white\"}},\"type\":\"table\"}],\"barpolar\":[{\"marker\":{\"line\":{\"color\":\"#E5ECF6\",\"width\":0.5},\"pattern\":{\"fillmode\":\"overlay\",\"size\":10,\"solidity\":0.2}},\"type\":\"barpolar\"}],\"pie\":[{\"automargin\":true,\"type\":\"pie\"}]},\"layout\":{\"autotypenumbers\":\"strict\",\"colorway\":[\"#636efa\",\"#EF553B\",\"#00cc96\",\"#ab63fa\",\"#FFA15A\",\"#19d3f3\",\"#FF6692\",\"#B6E880\",\"#FF97FF\",\"#FECB52\"],\"font\":{\"color\":\"#2a3f5f\"},\"hovermode\":\"closest\",\"hoverlabel\":{\"align\":\"left\"},\"paper_bgcolor\":\"white\",\"plot_bgcolor\":\"#E5ECF6\",\"polar\":{\"bgcolor\":\"#E5ECF6\",\"angularaxis\":{\"gridcolor\":\"white\",\"linecolor\":\"white\",\"ticks\":\"\"},\"radialaxis\":{\"gridcolor\":\"white\",\"linecolor\":\"white\",\"ticks\":\"\"}},\"ternary\":{\"bgcolor\":\"#E5ECF6\",\"aaxis\":{\"gridcolor\":\"white\",\"linecolor\":\"white\",\"ticks\":\"\"},\"baxis\":{\"gridcolor\":\"white\",\"linecolor\":\"white\",\"ticks\":\"\"},\"caxis\":{\"gridcolor\":\"white\",\"linecolor\":\"white\",\"ticks\":\"\"}},\"coloraxis\":{\"colorbar\":{\"outlinewidth\":0,\"ticks\":\"\"}},\"colorscale\":{\"sequential\":[[0.0,\"#0d0887\"],[0.1111111111111111,\"#46039f\"],[0.2222222222222222,\"#7201a8\"],[0.3333333333333333,\"#9c179e\"],[0.4444444444444444,\"#bd3786\"],[0.5555555555555556,\"#d8576b\"],[0.6666666666666666,\"#ed7953\"],[0.7777777777777778,\"#fb9f3a\"],[0.8888888888888888,\"#fdca26\"],[1.0,\"#f0f921\"]],\"sequentialminus\":[[0.0,\"#0d0887\"],[0.1111111111111111,\"#46039f\"],[0.2222222222222222,\"#7201a8\"],[0.3333333333333333,\"#9c179e\"],[0.4444444444444444,\"#bd3786\"],[0.5555555555555556,\"#d8576b\"],[0.6666666666666666,\"#ed7953\"],[0.7777777777777778,\"#fb9f3a\"],[0.8888888888888888,\"#fdca26\"],[1.0,\"#f0f921\"]],\"diverging\":[[0,\"#8e0152\"],[0.1,\"#c51b7d\"],[0.2,\"#de77ae\"],[0.3,\"#f1b6da\"],[0.4,\"#fde0ef\"],[0.5,\"#f7f7f7\"],[0.6,\"#e6f5d0\"],[0.7,\"#b8e186\"],[0.8,\"#7fbc41\"],[0.9,\"#4d9221\"],[1,\"#276419\"]]},\"xaxis\":{\"gridcolor\":\"white\",\"linecolor\":\"white\",\"ticks\":\"\",\"title\":{\"standoff\":15},\"zerolinecolor\":\"white\",\"automargin\":true,\"zerolinewidth\":2},\"yaxis\":{\"gridcolor\":\"white\",\"linecolor\":\"white\",\"ticks\":\"\",\"title\":{\"standoff\":15},\"zerolinecolor\":\"white\",\"automargin\":true,\"zerolinewidth\":2},\"scene\":{\"xaxis\":{\"backgroundcolor\":\"#E5ECF6\",\"gridcolor\":\"white\",\"linecolor\":\"white\",\"showbackground\":true,\"ticks\":\"\",\"zerolinecolor\":\"white\",\"gridwidth\":2},\"yaxis\":{\"backgroundcolor\":\"#E5ECF6\",\"gridcolor\":\"white\",\"linecolor\":\"white\",\"showbackground\":true,\"ticks\":\"\",\"zerolinecolor\":\"white\",\"gridwidth\":2},\"zaxis\":{\"backgroundcolor\":\"#E5ECF6\",\"gridcolor\":\"white\",\"linecolor\":\"white\",\"showbackground\":true,\"ticks\":\"\",\"zerolinecolor\":\"white\",\"gridwidth\":2}},\"shapedefaults\":{\"line\":{\"color\":\"#2a3f5f\"}},\"annotationdefaults\":{\"arrowcolor\":\"#2a3f5f\",\"arrowhead\":0,\"arrowwidth\":1},\"geo\":{\"bgcolor\":\"white\",\"landcolor\":\"#E5ECF6\",\"subunitcolor\":\"white\",\"showland\":true,\"showlakes\":true,\"lakecolor\":\"white\"},\"title\":{\"x\":0.05},\"mapbox\":{\"style\":\"light\"}}},\"legend\":{\"tracegroupgap\":0,\"traceorder\":\"normal\"},\"margin\":{\"t\":60}},                        {\"responsive\": true}                    ).then(function(){\n",
       "                            \n",
       "var gd = document.getElementById('599a6180-0c00-401d-9c5d-5731fa1996f8');\n",
       "var x = new MutationObserver(function (mutations, observer) {{\n",
       "        var display = window.getComputedStyle(gd).display;\n",
       "        if (!display || display === 'none') {{\n",
       "            console.log([gd, 'removed!']);\n",
       "            Plotly.purge(gd);\n",
       "            observer.disconnect();\n",
       "        }}\n",
       "}});\n",
       "\n",
       "// Listen for the removal of the full notebook cells\n",
       "var notebookContainer = gd.closest('#notebook-container');\n",
       "if (notebookContainer) {{\n",
       "    x.observe(notebookContainer, {childList: true});\n",
       "}}\n",
       "\n",
       "// Listen for the clearing of the current output cell\n",
       "var outputEl = gd.closest('.output');\n",
       "if (outputEl) {{\n",
       "    x.observe(outputEl, {childList: true});\n",
       "}}\n",
       "\n",
       "                        })                };                });            </script>        </div>"
      ]
     },
     "metadata": {},
     "output_type": "display_data"
    }
   ],
   "source": [
    "event_id = 0  # pick different events\n",
    "## Pie Chart of number of \"hits\" and \"clusters\" from different detectors\n",
    "df = get_event(event_id)\n",
    "tmp = df[\"detector type\"].to_list();\n",
    "a, b= np.unique(tmp, return_counts=True)\n",
    "tmp_df = pd.DataFrame({'name': a, 'count': b})\n",
    "fig = px.pie(tmp_df, values='count', names='name')\n",
    "fig.update_layout(legend_traceorder=\"normal\")\n",
    "fig.show()"
   ]
  },
  {
   "cell_type": "code",
   "execution_count": 30,
   "id": "e123a172-61e3-4d14-b9d6-9fc374d5a1f0",
   "metadata": {},
   "outputs": [
    {
     "data": {
      "application/vnd.plotly.v1+json": {
       "config": {
        "plotlyServerURL": "https://plot.ly"
       },
       "data": [
        {
         "hovertemplate": "g4hit_trkid=87<br>x=%{x}<br>y=%{y}<br>z=%{z}<extra></extra>",
         "legendgroup": "87",
         "marker": {
          "color": "#636efa",
          "opacity": 0.3,
          "size": 3,
          "symbol": "circle"
         },
         "mode": "markers",
         "name": "87",
         "scene": "scene",
         "showlegend": true,
         "type": "scatter3d",
         "x": [
          2.160874128341675,
          3.038215160369873,
          3.6285295486450195,
          7.088272571563721,
          8.819029808044434,
          28.774059295654297,
          29.333086013793945,
          29.879350662231445,
          30.99622917175293,
          31.519372940063477,
          32.07846450805664,
          35.93791580200195,
          37.05207443237305,
          38.69146728515625,
          39.70396423339844,
          40.703800201416016,
          41.71168899536133,
          42.6948356628418,
          45.726200103759766,
          47.74467086791992,
          48.76852798461914,
          49.777339935302734,
          50.78950500488281,
          51.799705505371094,
          52.81702423095703,
          56.88407516479492,
          57.99726867675781,
          59.09248352050781,
          60.204444885253906,
          61.31666564941406,
          62.44076156616211,
          63.545654296875,
          64.6455307006836,
          65.76863098144531,
          66.8960189819336,
          68.0078125,
          69.12098693847656,
          72.48820495605469
         ],
         "y": [
          1.1735187768936157,
          1.635972023010254,
          1.9428348541259766,
          3.686461925506592,
          4.515357494354248,
          12.501090049743652,
          12.650772094726562,
          12.82945442199707,
          13.131484985351562,
          13.362716674804688,
          13.512250900268555,
          14.659457206726074,
          14.950623512268066,
          15.446080207824707,
          15.658562660217285,
          15.903599739074707,
          16.127941131591797,
          16.415895462036133,
          17.069091796875,
          17.510831832885742,
          17.68692970275879,
          17.890363693237305,
          18.08392333984375,
          18.283273696899414,
          18.461641311645508,
          19.110355377197266,
          19.243968963623047,
          19.430553436279297,
          19.567798614501953,
          19.704282760620117,
          19.8057918548584,
          19.953144073486328,
          20.100147247314453,
          20.167449951171875,
          20.22002601623535,
          20.326148986816406,
          20.427507400512695,
          20.636558532714844
         ],
         "z": [
          1.5408166646957397,
          1.1194045543670654,
          0.8348019123077393,
          -1.3724504709243774,
          -1.3724504709243774,
          -10.711257934570312,
          -11.23381233215332,
          -11.321070671081543,
          -11.771672248840332,
          -12.092812538146973,
          -12.361124992370605,
          -13.921601295471191,
          -14.582077980041504,
          -15.093109130859375,
          -15.655288696289062,
          -16.165843963623047,
          -16.58316421508789,
          -17.015491485595703,
          -18.336015701293945,
          -19.21613311767578,
          -19.599803924560547,
          -20.07503890991211,
          -20.56188201904297,
          -20.8630313873291,
          -21.309593200683594,
          -23.104984283447266,
          -23.69737434387207,
          -24.073070526123047,
          -24.538711547851562,
          -24.995820999145508,
          -25.524686813354492,
          -25.94768714904785,
          -26.46082878112793,
          -26.997446060180664,
          -27.421913146972656,
          -27.96771812438965,
          -28.49677276611328,
          -29.884742736816406
         ]
        },
        {
         "hovertemplate": "g4hit_trkid=66<br>x=%{x}<br>y=%{y}<br>z=%{z}<extra></extra>",
         "legendgroup": "66",
         "marker": {
          "color": "#EF553B",
          "opacity": 0.3,
          "size": 3,
          "symbol": "circle"
         },
         "mode": "markers",
         "name": "66",
         "scene": "scene",
         "showlegend": true,
         "type": "scatter3d",
         "x": [
          2.642641067504883,
          3.4544570446014404,
          4.212275981903076,
          7.527457237243652,
          9.948700904846191,
          30.894567489624023,
          31.442792892456055,
          32.00090408325195,
          32.54747009277344,
          33.63954544067383,
          34.21624755859375,
          34.636207580566406,
          34.754180908203125,
          36.94926071166992,
          37.50290298461914,
          38.0502815246582,
          38.591552734375,
          39.13484191894531,
          40.77629089355469,
          41.74134063720703,
          42.72306823730469,
          43.68759536743164,
          44.659236907958984,
          45.622901916503906,
          46.57162094116211,
          47.527587890625,
          48.489200592041016,
          49.458526611328125,
          50.39979553222656,
          51.35041046142578,
          52.31221008300781,
          53.254905700683594,
          54.20366287231445,
          57.03314971923828,
          58.895484924316406,
          60.947486877441406,
          61.94271469116211,
          62.938751220703125,
          63.936370849609375,
          64.9312744140625,
          65.89930725097656,
          66.88327026367188,
          67.8809814453125,
          68.8437728881836,
          69.83299255371094,
          70.78788757324219
         ],
         "y": [
          0.22684749960899353,
          0.30841928720474243,
          0.3892897069454193,
          0.7845435738563538,
          1.111668586730957,
          5.4900922775268555,
          5.665777206420898,
          5.791767597198486,
          5.975796699523926,
          6.349180698394775,
          6.381705284118652,
          7.202226161956787,
          6.609125137329102,
          7.300944805145264,
          7.449399471282959,
          7.629342079162598,
          7.839992046356201,
          8.040488243103027,
          8.540736198425293,
          8.92087173461914,
          9.217145919799805,
          9.599912643432617,
          9.938630104064941,
          10.294626235961914,
          10.711716651916504,
          11.099197387695312,
          11.463584899902344,
          11.796460151672363,
          12.244002342224121,
          12.653336524963379,
          13.016965866088867,
          13.458663940429688,
          13.875608444213867,
          14.777079582214355,
          16.304710388183594,
          17.1055908203125,
          17.611608505249023,
          18.11484718322754,
          18.6126651763916,
          19.119781494140625,
          19.719120025634766,
          20.2637882232666,
          20.76127052307129,
          21.378568649291992,
          21.905200958251953,
          22.519800186157227
         ],
         "z": [
          4.725895881652832,
          5.39013147354126,
          6.012455940246582,
          8.427549362182617,
          10.027549743652344,
          27.778305053710938,
          28.54451560974121,
          28.960241317749023,
          29.537445068359375,
          30.40152359008789,
          30.94520378112793,
          30.705718994140625,
          31.349843978881836,
          33.20432662963867,
          33.60845184326172,
          34.204444885253906,
          34.669334411621094,
          35.36636734008789,
          36.46171188354492,
          37.58932113647461,
          38.10599136352539,
          39.13009262084961,
          39.905452728271484,
          40.64807891845703,
          41.75267028808594,
          42.5022087097168,
          43.429935455322266,
          43.991764068603516,
          45.020233154296875,
          45.90824508666992,
          46.5740852355957,
          47.57984924316406,
          48.44123458862305,
          50.798213958740234,
          52.74949264526367,
          54.61907958984375,
          55.366302490234375,
          56.42084884643555,
          57.16429901123047,
          58.098297119140625,
          59.1865119934082,
          60.16276168823242,
          60.90283966064453,
          61.93524932861328,
          62.822288513183594,
          63.83110809326172
         ]
        },
        {
         "hovertemplate": "g4hit_trkid=42<br>x=%{x}<br>y=%{y}<br>z=%{z}<extra></extra>",
         "legendgroup": "42",
         "marker": {
          "color": "#00cc96",
          "opacity": 0.3,
          "size": 3,
          "symbol": "circle"
         },
         "mode": "markers",
         "name": "42",
         "scene": "scene",
         "showlegend": true,
         "type": "scatter3d",
         "x": [
          2.1391124725341797,
          2.667292833328247,
          3.2252018451690674
         ],
         "y": [
          1.5412178039550781,
          1.9417383670806885,
          2.3675572872161865
         ],
         "z": [
          -1.5910121202468872,
          -2.6436519622802734,
          -3.7498011589050293
         ]
        },
        {
         "hovertemplate": "g4hit_trkid=92<br>x=%{x}<br>y=%{y}<br>z=%{z}<extra></extra>",
         "legendgroup": "92",
         "marker": {
          "color": "#ab63fa",
          "opacity": 0.3,
          "size": 3,
          "symbol": "circle"
         },
         "mode": "markers",
         "name": "92",
         "scene": "scene",
         "showlegend": true,
         "type": "scatter3d",
         "x": [
          2.206345558166504,
          2.758554220199585,
          3.337617874145508,
          6.6872358322143555,
          8.268854141235352,
          27.642314910888672,
          28.189298629760742,
          28.737855911254883,
          29.264829635620117,
          29.817594528198242,
          30.36264991760254,
          31.9915714263916,
          32.544677734375,
          33.08082962036133,
          33.624053955078125,
          34.73703384399414,
          35.286712646484375,
          35.83604431152344,
          38.492271423339844,
          39.459938049316406,
          40.492435455322266,
          41.47416687011719,
          42.494964599609375,
          43.47525405883789,
          44.4876823425293,
          45.506526947021484,
          46.53428268432617,
          48.57443618774414,
          50.621585845947266,
          58.02323532104492,
          59.146026611328125,
          60.253814697265625,
          61.385231018066406,
          62.5394172668457,
          63.65765380859375,
          64.80445861816406,
          65.95270538330078,
          67.0750732421875,
          68.21270751953125,
          69.36893463134766,
          70.5077896118164,
          71.6763916015625
         ],
         "y": [
          1.4975090026855469,
          1.866507887840271,
          2.249178171157837,
          4.3781046867370605,
          5.339125633239746,
          14.838690757751465,
          15.030817031860352,
          15.220077514648438,
          15.448678016662598,
          15.630270004272461,
          15.825910568237305,
          16.404138565063477,
          16.575746536254883,
          16.78173828125,
          16.97338104248047,
          17.30288314819336,
          17.481441497802734,
          17.66069793701172,
          18.44270133972168,
          18.788156509399414,
          19.002153396606445,
          19.31707000732422,
          19.531391143798828,
          19.837785720825195,
          20.071128845214844,
          20.289894104003906,
          20.488399505615234,
          20.92032814025879,
          21.33635711669922,
          22.41510772705078,
          22.554763793945312,
          22.73299789428711,
          22.850475311279297,
          22.909393310546875,
          23.04689598083496,
          23.081506729125977,
          23.11185646057129,
          23.21843719482422,
          23.28005599975586,
          23.28690528869629,
          23.34493064880371,
          23.31532096862793
         ],
         "z": [
          4.255263328552246,
          4.673264026641846,
          5.109427452087402,
          6.827549457550049,
          8.427549362182617,
          21.817148208618164,
          22.195781707763672,
          22.633852005004883,
          22.9787654876709,
          23.41920280456543,
          23.833280563354492,
          24.735828399658203,
          25.11693000793457,
          25.406047821044922,
          25.93492889404297,
          26.61287498474121,
          26.98294448852539,
          27.459428787231445,
          29.031953811645508,
          29.406078338623047,
          30.36178207397461,
          30.835647583007812,
          31.498538970947266,
          32.20793914794922,
          32.71244430541992,
          33.470726013183594,
          33.97514724731445,
          35.38973617553711,
          36.80128860473633,
          41.274051666259766,
          41.863197326660156,
          42.54462814331055,
          43.347198486328125,
          43.96274948120117,
          44.60470199584961,
          45.449283599853516,
          46.2015495300293,
          46.80188751220703,
          47.49904251098633,
          48.3111572265625,
          48.88746643066406,
          49.754310607910156
         ]
        },
        {
         "hovertemplate": "g4hit_trkid=75<br>x=%{x}<br>y=%{y}<br>z=%{z}<extra></extra>",
         "legendgroup": "75",
         "marker": {
          "color": "#FFA15A",
          "opacity": 0.3,
          "size": 3,
          "symbol": "circle"
         },
         "mode": "markers",
         "name": "75",
         "scene": "scene",
         "showlegend": true,
         "type": "scatter3d",
         "x": [
          1.3011391162872314,
          1.7373806238174438,
          2.2224249839782715,
          14.34576416015625,
          14.551836013793945,
          14.749632835388184,
          14.976592063903809,
          15.166648864746094,
          15.384427070617676,
          15.560123443603516,
          16.18222999572754,
          16.34455680847168,
          16.551525115966797,
          16.721965789794922,
          16.425966262817383,
          16.924203872680664,
          16.916990280151367
         ],
         "y": [
          2.0859899520874023,
          2.8097097873687744,
          3.625253915786743,
          28.54250717163086,
          29.0786190032959,
          29.618810653686523,
          30.144620895385742,
          30.688631057739258,
          31.21896743774414,
          31.77005958557129,
          33.37647247314453,
          33.93415832519531,
          34.469825744628906,
          35.02350997924805,
          35.16947937011719,
          35.5615119934082,
          35.565067291259766
         ],
         "z": [
          8.802308082580566,
          10.948587417602539,
          13.361910820007324,
          84.98200225830078,
          86.31855010986328,
          88.32392120361328,
          89.69645690917969,
          91.174560546875,
          92.52194213867188,
          93.8973159790039,
          98.42865753173828,
          99.91886138916016,
          101.42374420166016,
          103.06318664550781,
          104.82720184326172,
          104.42742919921875,
          105.2511978149414
         ]
        },
        {
         "hovertemplate": "g4hit_trkid=69<br>x=%{x}<br>y=%{y}<br>z=%{z}<extra></extra>",
         "legendgroup": "69",
         "marker": {
          "color": "#19d3f3",
          "opacity": 0.3,
          "size": 3,
          "symbol": "circle"
         },
         "mode": "markers",
         "name": "69",
         "scene": "scene",
         "showlegend": true,
         "type": "scatter3d",
         "x": [
          1.0206265449523926,
          1.229569435119629,
          2.4331159591674805,
          3.0271615982055664,
          1.8990808725357056,
          1.6397515535354614,
          1.4358428716659546,
          1.2391518354415894,
          1.0319856405258179,
          0.7724151611328125,
          0.5279849171638489,
          0.24323579668998718,
          0.05631670728325844,
          -0.6104565858840942,
          -0.5396870970726013,
          -0.8297861814498901,
          -1.124048113822937,
          -1.3979148864746094,
          -2.010234832763672,
          -1.7264546155929565,
          -2.5637459754943848,
          -2.2961533069610596,
          -2.919706344604492,
          -3.4064807891845703,
          -2.637519598007202,
          -3.1746959686279297,
          -4.7167439460754395,
          -4.9646100997924805,
          -4.451786041259766,
          -5.367392063140869,
          -5.623584270477295,
          -6.212804794311523,
          -6.511246681213379,
          -7.036489486694336,
          -6.771064281463623,
          -8.592731475830078,
          -9.92759895324707,
          -10.553020477294922,
          -11.384282112121582,
          -11.730535507202148,
          -12.472208976745605,
          -12.763797760009766,
          -13.587417602539062,
          -13.36596393585205,
          -13.680275917053223,
          -13.197314262390137
         ],
         "y": [
          2.407532215118408,
          2.9649648666381836,
          6.720907211303711,
          9.147382736206055,
          31.88803482055664,
          32.47822570800781,
          33.06444549560547,
          33.640838623046875,
          34.217464447021484,
          34.795230865478516,
          35.37266540527344,
          35.95098114013672,
          36.527164459228516,
          37.659278869628906,
          38.23292541503906,
          38.22659683227539,
          38.79227828979492,
          39.35840606689453,
          39.90546417236328,
          39.92333984375,
          41.58034896850586,
          41.5978889465332,
          41.5570182800293,
          42.547969818115234,
          42.59836959838867,
          42.56316375732422,
          44.47182846069336,
          44.44468307495117,
          44.50084686279297,
          45.42734146118164,
          45.39928436279297,
          46.35674285888672,
          46.31081008911133,
          47.26264953613281,
          47.303504943847656,
          49.08849334716797,
          49.866390228271484,
          50.782649993896484,
          51.657962799072266,
          51.57621765136719,
          52.44551086425781,
          52.37416076660156,
          53.2234001159668,
          53.277591705322266,
          53.200679779052734,
          53.3188591003418
         ],
         "z": [
          -2.0115807056427,
          -3.063246011734009,
          -9.372450828552246,
          -14.572450637817383,
          -55.53327178955078,
          -56.648887634277344,
          -57.708946228027344,
          -59.06330490112305,
          -60.048702239990234,
          -61.08453369140625,
          -62.38105010986328,
          -63.60588073730469,
          -64.44022369384766,
          -67.26458740234375,
          -67.161865234375,
          -68.46795654296875,
          -69.27056121826172,
          -70.17655944824219,
          -72.73789978027344,
          -71.3311996459961,
          -74.13336181640625,
          -73.0271987915039,
          -75.72715759277344,
          -77.60328674316406,
          -75.72966003417969,
          -76.2849349975586,
          -81.3750991821289,
          -82.48625183105469,
          -80.23519897460938,
          -83.24076843261719,
          -84.2586898803711,
          -85.72122192382812,
          -87.01919555664062,
          -88.06724548339844,
          -86.91661834716797,
          -91.9297103881836,
          -96.00130462646484,
          -97.2162857055664,
          -99.07169342041016,
          -100.40706634521484,
          -101.76151275634766,
          -102.88300323486328,
          -104.60428619384766,
          -103.78433990478516,
          -105.2511978149414,
          -103.1312026977539
         ]
        },
        {
         "hovertemplate": "g4hit_trkid=30<br>x=%{x}<br>y=%{y}<br>z=%{z}<extra></extra>",
         "legendgroup": "30",
         "marker": {
          "color": "#FF6692",
          "opacity": 0.3,
          "size": 3,
          "symbol": "circle"
         },
         "mode": "markers",
         "name": "30",
         "scene": "scene",
         "showlegend": true,
         "type": "scatter3d",
         "x": [
          0.4077235758304596,
          0.5612058043479919,
          0.7249000072479248,
          1.3626552820205688,
          2.00944447517395,
          11.759540557861328,
          12.156241416931152,
          12.490523338317871,
          12.874884605407715,
          13.212198257446289,
          14.339302062988281,
          14.70305347442627,
          15.110642433166504,
          15.510810852050781,
          15.889213562011719,
          16.31476402282715,
          16.663442611694336,
          17.101839065551758,
          17.62213706970215,
          18.65116310119629,
          19.53165626525879,
          20.2917537689209,
          21.06121826171875,
          23.586944580078125,
          24.4573974609375,
          25.372644424438477,
          26.216928482055664,
          27.134929656982422,
          27.98640251159668,
          29.02129364013672,
          29.986968994140625,
          30.929677963256836,
          31.93082046508789,
          33.526432037353516,
          34.881492614746094,
          35.82584762573242,
          37.052513122558594,
          38.211585998535156,
          39.35704040527344,
          40.6858024597168,
          41.72712707519531,
          42.833335876464844,
          44.187713623046875,
          45.2204704284668,
          45.456459045410156,
          46.53316116333008,
          46.733890533447266,
          47.75252151489258,
          49.200828552246094,
          50.23539733886719,
          50.50969696044922
         ],
         "y": [
          2.439955472946167,
          3.263714551925659,
          4.099146366119385,
          7.005321502685547,
          9.348506927490234,
          29.08762550354004,
          29.547048568725586,
          30.028484344482422,
          30.484249114990234,
          30.96071434020996,
          32.339439392089844,
          32.80427169799805,
          33.24981689453125,
          33.69862747192383,
          34.157012939453125,
          34.586585998535156,
          35.0523681640625,
          35.47391128540039,
          35.85506057739258,
          37.251441955566406,
          37.955257415771484,
          38.71243667602539,
          39.454471588134766,
          41.56134796142578,
          42.24508285522461,
          42.883583068847656,
          43.56514358520508,
          44.20197296142578,
          44.87916946411133,
          45.44198989868164,
          46.0242919921875,
          46.6219367980957,
          47.1805419921875,
          48.45001220703125,
          48.83448028564453,
          49.50242614746094,
          49.96337127685547,
          50.473880767822266,
          50.98426818847656,
          51.324527740478516,
          51.895477294921875,
          52.41435623168945,
          52.73405456542969,
          53.290260314941406,
          53.08330154418945,
          53.598236083984375,
          53.422203063964844,
          53.98806381225586,
          54.17710876464844,
          54.72518539428711,
          54.46260070800781
         ],
         "z": [
          0.9527366161346436,
          0.4064359664916992,
          -0.14912402629852295,
          -1.3724504709243774,
          -2.9724504947662354,
          -17.860992431640625,
          -18.348867416381836,
          -18.883914947509766,
          -19.20061683654785,
          -19.494171142578125,
          -20.74526596069336,
          -21.064531326293945,
          -21.562265396118164,
          -21.817062377929688,
          -22.08331298828125,
          -22.725383758544922,
          -22.995203018188477,
          -23.38825035095215,
          -24.03753089904785,
          -24.64801597595215,
          -25.55217933654785,
          -26.233219146728516,
          -26.845577239990234,
          -29.059249877929688,
          -29.81934356689453,
          -30.582571029663086,
          -31.288867950439453,
          -32.00141525268555,
          -32.449337005615234,
          -33.478492736816406,
          -34.28012466430664,
          -34.911556243896484,
          -35.727272033691406,
          -36.57217025756836,
          -37.96839141845703,
          -38.50148391723633,
          -39.39459991455078,
          -40.29383087158203,
          -41.148921966552734,
          -42.23095703125,
          -42.7684326171875,
          -43.441139221191406,
          -44.544288635253906,
          -44.92503356933594,
          -45.46719741821289,
          -45.97130584716797,
          -46.739200592041016,
          -46.8009033203125,
          -47.94596862792969,
          -48.23910140991211,
          -48.85919952392578
         ]
        },
        {
         "hovertemplate": "g4hit_trkid=89<br>x=%{x}<br>y=%{y}<br>z=%{z}<extra></extra>",
         "legendgroup": "89",
         "marker": {
          "color": "#B6E880",
          "opacity": 0.3,
          "size": 3,
          "symbol": "circle"
         },
         "mode": "markers",
         "name": "89",
         "scene": "scene",
         "showlegend": true,
         "type": "scatter3d",
         "x": [
          1.323499083518982,
          1.564125895500183,
          1.9686816930770874,
          3.4909799098968506,
          8.676798820495605,
          8.2798490524292,
          8.42054557800293,
          8.43608570098877,
          8.40908432006836,
          8.356755256652832,
          8.340707778930664,
          8.25752067565918,
          8.253937721252441,
          8.133944511413574,
          8.09552001953125,
          8.040536880493164,
          8.028754234313965,
          7.805567741394043,
          8.051077842712402,
          7.596795082092285,
          7.544423580169678,
          7.377561092376709,
          6.744405269622803,
          6.643465518951416,
          6.8318986892700195,
          6.251601696014404,
          6.561562538146973,
          6.162691593170166,
          6.3206682205200195,
          5.847989559173584,
          5.530907154083252,
          5.205333232879639,
          4.845228672027588,
          4.627926826477051,
          4.347119331359863,
          4.1660003662109375,
          3.9550609588623047
         ],
         "y": [
          2.391510009765625,
          2.8626797199249268,
          3.6721909046173096,
          6.986047744750977,
          30.74418067932129,
          32.62688064575195,
          33.181297302246094,
          33.766334533691406,
          34.36178207397461,
          34.96342849731445,
          35.55619812011719,
          36.16539764404297,
          36.7551155090332,
          37.366737365722656,
          37.95755386352539,
          38.55166244506836,
          39.137176513671875,
          40.922523498535156,
          40.873687744140625,
          40.96405029296875,
          42.015132904052734,
          43.07941436767578,
          45.24223709106445,
          46.29045867919922,
          46.26145553588867,
          47.38345718383789,
          47.335750579833984,
          48.42054748535156,
          48.40324783325195,
          49.48178482055664,
          50.543277740478516,
          51.60570526123047,
          52.671913146972656,
          52.695709228515625,
          53.73773956298828,
          54.77246856689453,
          54.78629684448242
         ],
         "z": [
          7.3721160888671875,
          8.303181648254395,
          9.891497611999512,
          15.627549171447754,
          59.88319778442383,
          62.77827453613281,
          64.04431915283203,
          65.14493560791016,
          65.98536682128906,
          67.24925994873047,
          68.20790100097656,
          69.6235122680664,
          70.36395263671875,
          71.45419311523438,
          72.72545623779297,
          73.81635284423828,
          74.53506469726562,
          77.67377471923828,
          76.24601745605469,
          78.96319580078125,
          80.05701446533203,
          81.98202514648438,
          87.01919555664062,
          88.12378692626953,
          87.01919555664062,
          90.7357406616211,
          89.16151428222656,
          91.85205841064453,
          90.83519744873047,
          93.90186309814453,
          95.85591888427734,
          97.86089324951172,
          99.81233215332031,
          101.01119995117188,
          102.37799072265625,
          103.52399444580078,
          104.6505355834961
         ]
        },
        {
         "hovertemplate": "g4hit_trkid=61<br>x=%{x}<br>y=%{y}<br>z=%{z}<extra></extra>",
         "legendgroup": "61",
         "marker": {
          "color": "#FF97FF",
          "opacity": 0.3,
          "size": 3,
          "symbol": "circle"
         },
         "mode": "markers",
         "name": "61",
         "scene": "scene",
         "showlegend": true,
         "type": "scatter3d",
         "x": [
          0.023876257240772247,
          0.020729413256049156,
          0.013376626186072826,
          1.5336545705795288,
          -2.224172592163086,
          -2.313174247741699,
          -2.3953702449798584,
          -2.471684455871582,
          -2.56843900680542,
          -2.7338201999664307,
          -2.981414794921875,
          -2.818817377090454,
          -2.931631565093994,
          -3.1655352115631104,
          -2.829071044921875,
          -3.256399154663086,
          -2.8172569274902344,
          -3.632781982421875,
          -3.82511305809021,
          -4.079641342163086,
          -4.29443883895874,
          -4.270578384399414
         ],
         "y": [
          2.460261344909668,
          3.2116739749908447,
          4.005220413208008,
          31.33879280090332,
          31.866727828979492,
          32.43408966064453,
          33.001895904541016,
          33.57008743286133,
          34.136940002441406,
          34.69929504394531,
          34.68306350708008,
          35.26691818237305,
          36.40591049194336,
          37.53696823120117,
          37.55902099609375,
          38.10420608520508,
          38.13298797607422,
          39.79252243041992,
          41.48917007446289,
          42.48806381225586,
          43.491310119628906,
          43.49392318725586
         ],
         "z": [
          8.369556427001953,
          10.131265640258789,
          11.991286277770996,
          77.58436584472656,
          77.46822357177734,
          79.05557250976562,
          80.24443817138672,
          81.45490264892578,
          82.93062591552734,
          84.41815948486328,
          85.89488220214844,
          85.78762817382812,
          88.60635375976562,
          90.84395599365234,
          92.53119659423828,
          92.3486328125,
          93.80486297607422,
          98.04319763183594,
          98.7415542602539,
          101.4352035522461,
          105.2511978149414,
          104.53614807128906
         ]
        },
        {
         "hovertemplate": "g4hit_trkid=65<br>x=%{x}<br>y=%{y}<br>z=%{z}<extra></extra>",
         "legendgroup": "65",
         "marker": {
          "color": "#FECB52",
          "opacity": 0.3,
          "size": 3,
          "symbol": "circle"
         },
         "mode": "markers",
         "name": "65",
         "scene": "scene",
         "showlegend": true,
         "type": "scatter3d",
         "x": [
          0.9718627333641052,
          1.199365496635437,
          1.5160406827926636,
          13.783769607543945,
          13.996670722961426,
          14.782940864562988,
          20.030303955078125,
          15.823675155639648,
          16.132129669189453
         ],
         "y": [
          2.410111904144287,
          2.974199056625366,
          3.755919933319092,
          30.08432960510254,
          30.61553955078125,
          32.14423370361328,
          31.2259464263916,
          34.185848236083984,
          34.67501449584961
         ],
         "z": [
          9.52599811553955,
          11.155021667480469,
          13.410887718200684,
          90.81280517578125,
          92.32219696044922,
          95.83187866210938,
          2.739562511444092,
          102.72457885742188,
          104.2930679321289
         ]
        },
        {
         "hovertemplate": "g4hit_trkid=79<br>x=%{x}<br>y=%{y}<br>z=%{z}<extra></extra>",
         "legendgroup": "79",
         "marker": {
          "color": "#636efa",
          "opacity": 0.3,
          "size": 3,
          "symbol": "circle"
         },
         "mode": "markers",
         "name": "79",
         "scene": "scene",
         "showlegend": true,
         "type": "scatter3d",
         "x": [
          -0.3550134301185608,
          -0.45493510365486145,
          -0.5418691635131836,
          0.3663542866706848,
          -0.15340739488601685,
          0.9722538590431213,
          0.7832200527191162,
          0.8829389214515686,
          1.0052201747894287,
          1.1835095882415771,
          1.3263041973114014,
          1.4475973844528198,
          1.5843902826309204,
          1.766710638999939,
          1.8884021043777466,
          2.0648438930511475,
          2.2396180629730225,
          2.3901329040527344,
          2.646885395050049,
          3.0684797763824463,
          2.8413281440734863,
          3.548321008682251,
          3.9358065128326416,
          4.148566722869873,
          3.5870611667633057,
          4.15526819229126,
          4.9016852378845215,
          6.170101642608643,
          6.539270401000977,
          7.055386066436768,
          6.886335372924805,
          7.49530029296875,
          8.1040620803833,
          7.963539123535156,
          8.966500282287598,
          9.413565635681152,
          11.358176231384277,
          11.731778144836426,
          11.765085220336914,
          12.37827205657959,
          12.948262214660645,
          13.664536476135254,
          14.178152084350586,
          14.642939567565918,
          15.703259468078613,
          15.49945068359375,
          16.43279457092285,
          16.61282730102539,
          17.18877410888672,
          18.079301834106445,
          19.232017517089844,
          20.279396057128906,
          20.063533782958984,
          20.97764778137207,
          21.187715530395508
         ],
         "y": [
          2.5774166584014893,
          3.376553535461426,
          4.139433860778809,
          31.37147331237793,
          31.37611961364746,
          31.930355072021484,
          33.07868576049805,
          33.64861297607422,
          34.218048095703125,
          34.786258697509766,
          35.355247497558594,
          35.92470169067383,
          36.49382019042969,
          37.055458068847656,
          37.62067413330078,
          38.18230438232422,
          38.744041442871094,
          39.307373046875,
          39.86373519897461,
          41.54726791381836,
          41.562156677246094,
          42.538673400878906,
          43.53058624267578,
          43.507286071777344,
          43.558990478515625,
          44.533321380615234,
          46.50511169433594,
          49.44650650024414,
          50.43284606933594,
          51.39048385620117,
          51.41650390625,
          52.35546112060547,
          52.26176452636719,
          53.316078186035156,
          55.22707748413086,
          56.190956115722656,
          58.92441177368164,
          59.968658447265625,
          59.962032318115234,
          60.958621978759766,
          61.963802337646484,
          62.93988800048828,
          63.95628356933594,
          64.97200775146484,
          65.84198760986328,
          65.89185333251953,
          66.79290008544922,
          66.74884796142578,
          67.73735046386719,
          69.77830505371094,
          69.46943664550781,
          71.44959259033203,
          71.51251220703125,
          72.38878631591797,
          72.32756042480469
         ],
         "z": [
          -0.13680146634578705,
          -0.9815868139266968,
          -1.7907212972640991,
          -31.148632049560547,
          -32.27589797973633,
          -90.28205108642578,
          -33.3387336730957,
          -33.95785140991211,
          -34.55913162231445,
          -35.35967254638672,
          -35.87619400024414,
          -36.567203521728516,
          -37.21925735473633,
          -37.8851318359375,
          -38.43714141845703,
          -39.130428314208984,
          -39.75196838378906,
          -40.37556457519531,
          -41.31389236450195,
          -42.84696578979492,
          -41.65119934082031,
          -43.79871368408203,
          -45.56672668457031,
          -43.0157356262207,
          -44.088619232177734,
          -46.36225509643555,
          -48.718849182128906,
          -52.330020904541016,
          -53.32122039794922,
          -54.64321517944336,
          -53.35662841796875,
          -55.58608627319336,
          -54.619842529296875,
          -56.8492546081543,
          -59.322383880615234,
          -60.101810455322266,
          -66.81610107421875,
          -65.37584686279297,
          -67.84300231933594,
          -66.73676300048828,
          -67.85969543457031,
          -69.32931518554688,
          -69.63520050048828,
          -71.48612213134766,
          -73.25361633300781,
          -72.17919921875,
          -74.54438018798828,
          -75.57119750976562,
          -75.92770385742188,
          -78.25847625732422,
          -78.79728698730469,
          -81.32011413574219,
          -80.23519897460938,
          -82.29427337646484,
          -83.26180267333984
         ]
        },
        {
         "hovertemplate": "g4hit_trkid=26<br>x=%{x}<br>y=%{y}<br>z=%{z}<extra></extra>",
         "legendgroup": "26",
         "marker": {
          "color": "#EF553B",
          "opacity": 0.3,
          "size": 3,
          "symbol": "circle"
         },
         "mode": "markers",
         "name": "26",
         "scene": "scene",
         "showlegend": true,
         "type": "scatter3d",
         "x": [
          -1.1060419082641602,
          -1.5658708810806274,
          -1.8531733751296997,
          -3.3997395038604736,
          -4.41209602355957,
          -11.604063987731934,
          -11.900505065917969,
          -12.053524017333984,
          -12.211941719055176,
          -12.345788955688477,
          -12.494532585144043,
          -12.627165794372559,
          -12.797811508178711,
          -12.885677337646484,
          -13.087491035461426,
          -13.203597068786621,
          -13.385870933532715,
          -13.459607124328613,
          -13.645112991333008,
          -13.717175483703613,
          -14.12735652923584,
          -14.302925109863281,
          -14.520578384399414,
          -14.73403263092041,
          -14.932878494262695,
          -15.309535026550293,
          -15.508502960205078,
          -15.629117965698242,
          -15.844206809997559,
          -15.93763256072998,
          -16.106124877929688,
          -16.216529846191406,
          -16.398908615112305,
          -16.51338005065918,
          -16.54319953918457,
          -16.958084106445312,
          -17.02972984313965,
          -17.21078109741211,
          -17.283283233642578,
          -17.47563362121582,
          -17.76836395263672,
          -18.061094284057617,
          -16.978561401367188,
          -17.253747940063477,
          -17.500438690185547,
          -17.546401977539062,
          -17.581771850585938,
          -17.64695167541504,
          -17.629297256469727,
          -17.499149322509766
         ],
         "y": [
          2.195213556289673,
          3.1232540607452393,
          3.713674306869507,
          6.992469310760498,
          9.228165626525879,
          29.148086547851562,
          30.26019287109375,
          30.81437873840332,
          31.366466522216797,
          31.928110122680664,
          32.48395919799805,
          33.04607391357422,
          33.593406677246094,
          34.17293167114258,
          34.7081413269043,
          35.27668380737305,
          35.819496154785156,
          36.40451431274414,
          36.946067810058594,
          37.53173828125,
          39.198150634765625,
          40.21642303466797,
          41.22040939331055,
          42.2258186340332,
          43.23619079589844,
          45.264068603515625,
          46.27439880371094,
          47.31132507324219,
          48.31618118286133,
          49.362335205078125,
          50.38300704956055,
          51.42340087890625,
          52.433502197265625,
          53.46327590942383,
          54.517723083496094,
          57.56232452392578,
          58.68416213989258,
          60.91682815551758,
          62.038414001464844,
          63.125064849853516,
          64.18246459960938,
          65.23986053466797,
          65.52992248535156,
          66.5920181274414,
          67.66108703613281,
          68.7792739868164,
          69.90005493164062,
          71.01353454589844,
          72.14729309082031,
          73.3085708618164
         ],
         "z": [
          0.9327559471130371,
          0.2422046661376953,
          -0.19590801000595093,
          -2.9724504947662354,
          -4.572450160980225,
          -18.349077224731445,
          -19.361618041992188,
          -19.69341468811035,
          -20.00102424621582,
          -20.468156814575195,
          -20.84575843811035,
          -21.289226531982422,
          -21.47265625,
          -21.927350997924805,
          -22.462055206298828,
          -22.789297103881836,
          -23.16257095336914,
          -23.589805603027344,
          -23.974258422851562,
          -24.44891357421875,
          -25.317413330078125,
          -26.242149353027344,
          -26.955617904663086,
          -27.529897689819336,
          -28.288211822509766,
          -29.70169448852539,
          -30.15656280517578,
          -31.01531219482422,
          -31.507204055786133,
          -32.45313262939453,
          -32.978092193603516,
          -33.912086486816406,
          -34.399375915527344,
          -35.21199035644531,
          -36.22941589355469,
          -37.977413177490234,
          -38.62704086303711,
          -40.290496826171875,
          -41.01725769042969,
          -41.85386657714844,
          -42.57941818237305,
          -43.10810089111328,
          -43.29217529296875,
          -44.1781005859375,
          -44.79866027832031,
          -45.57969284057617,
          -46.3510856628418,
          -46.939422607421875,
          -47.74759292602539,
          -48.71080017089844
         ]
        },
        {
         "hovertemplate": "g4hit_trkid=32<br>x=%{x}<br>y=%{y}<br>z=%{z}<extra></extra>",
         "legendgroup": "32",
         "marker": {
          "color": "#00cc96",
          "opacity": 0.3,
          "size": 3,
          "symbol": "circle"
         },
         "mode": "markers",
         "name": "32",
         "scene": "scene",
         "showlegend": true,
         "type": "scatter3d",
         "x": [
          -0.6424884796142578,
          -0.8301643133163452,
          -1.0098763704299927,
          -1.6744378805160522,
          -3.368597984313965,
          -3.2778003215789795,
          -3.27553653717041,
          -3.184979200363159,
          -3.16286039352417,
          -3.1553852558135986,
          -2.992110013961792,
          -2.851022720336914,
          -2.7709803581237793,
          -2.684814453125,
          -2.663166046142578,
          -2.5589096546173096,
          -2.4189138412475586,
          -2.2961716651916504,
          -2.1039879322052,
          -1.8410718441009521,
          -1.6397204399108887,
          -1.4167879819869995,
          -0.9207165837287903,
          -0.6825119853019714,
          -0.3992833197116852,
          0.5314145684242249,
          1.8918882608413696,
          2.382502794265747,
          2.9287948608398438,
          2.580517530441284,
          3.5411646366119385,
          3.95713210105896,
          4.4818806648254395,
          4.927854061126709,
          5.9616923332214355,
          6.442802429199219,
          6.998032093048096,
          7.607354640960693,
          8.180829048156738,
          8.83879566192627,
          10.619112014770508,
          11.467750549316406
         ],
         "y": [
          2.4311187267303467,
          3.177042007446289,
          3.916005849838257,
          6.883200168609619,
          31.190658569335938,
          31.77598762512207,
          32.35162353515625,
          32.936927795410156,
          33.51473617553711,
          34.0909423828125,
          34.68236541748047,
          36.41119384765625,
          36.98963165283203,
          37.56847381591797,
          38.143089294433594,
          38.723114013671875,
          39.305484771728516,
          39.886722564697266,
          41.6104850769043,
          42.649654388427734,
          43.674957275390625,
          44.70072937011719,
          46.75337219238281,
          47.77947998046875,
          48.80657196044922,
          51.866416931152344,
          55.92036819458008,
          56.930572509765625,
          58.84543991088867,
          58.86826705932617,
          59.90472412109375,
          60.97687911987305,
          62.041908264160156,
          63.112098693847656,
          65.23208618164062,
          66.28302001953125,
          67.32584381103516,
          68.36273956298828,
          69.40355682373047,
          70.43512725830078,
          73.51006317138672,
          74.48943328857422
         ],
         "z": [
          2.3132400512695312,
          2.2357540130615234,
          2.158755302429199,
          2.0275495052337646,
          -0.6531327962875366,
          -0.8260546922683716,
          -0.8996796607971191,
          -0.9240702986717224,
          -0.943164050579071,
          -1.076242208480835,
          -1.1428905725479126,
          -1.3561640977859497,
          -1.3739687204360962,
          -1.4033203125,
          -1.5796093940734863,
          -2.1376640796661377,
          -1.634374976158142,
          -1.7032500505447388,
          -1.8228203058242798,
          -2.107109308242798,
          -2.1283438205718994,
          -2.256953239440918,
          -2.5198514461517334,
          -2.588843822479248,
          -2.79603910446167,
          -3.1307969093322754,
          -3.6657891273498535,
          -3.7675702571868896,
          -3.896273374557495,
          -3.6767032146453857,
          -4.058125019073486,
          -4.264101505279541,
          -4.371984481811523,
          -4.466148376464844,
          -4.801421642303467,
          -4.957531452178955,
          -4.969140529632568,
          -5.1600470542907715,
          -5.299202919006348,
          -5.366859436035156,
          -5.830859184265137,
          -5.954984188079834
         ]
        },
        {
         "hovertemplate": "g4hit_trkid=33<br>x=%{x}<br>y=%{y}<br>z=%{z}<extra></extra>",
         "legendgroup": "33",
         "marker": {
          "color": "#ab63fa",
          "opacity": 0.3,
          "size": 3,
          "symbol": "circle"
         },
         "mode": "markers",
         "name": "33",
         "scene": "scene",
         "showlegend": true,
         "type": "scatter3d",
         "x": [
          -1.171921730041504,
          -1.6684579849243164,
          -2.014953851699829,
          -4.086449146270752,
          -5.242431163787842,
          -21.887788772583008,
          -22.88641929626465,
          -22.286842346191406,
          -23.296207427978516,
          -24.24018669128418,
          -24.778606414794922,
          -25.365013122558594,
          -25.912189483642578,
          -26.47301483154297,
          -27.001436233520508,
          -27.603532791137695,
          -28.15103530883789,
          -29.92119789123535,
          -30.55545425415039,
          -33.294029235839844,
          -35.59087371826172,
          -36.62004089355469,
          -37.66817855834961,
          -38.84878158569336,
          -39.963932037353516,
          -41.10480880737305,
          -42.280033111572266,
          -43.463104248046875,
          -45.799720764160156,
          -47.000091552734375,
          -46.911590576171875,
          -47.183616638183594,
          -48.1245002746582,
          -49.481910705566406,
          -51.82049560546875,
          -52.9307861328125,
          -54.31882858276367,
          -55.63198471069336,
          -57.05486297607422,
          -56.94285583496094,
          -58.30362319946289,
          -58.50163269042969,
          -59.599613189697266,
          -59.810184478759766,
          -60.01969909667969,
          -61.00960922241211,
          -61.216453552246094,
          -62.4671516418457,
          -62.3367919921875,
          -63.73727035522461,
          -63.91781997680664,
          -64.95519256591797,
          -65.0552749633789,
          -66.63541412353516,
          -67.85367584228516,
          -68.0377426147461,
          -69.22308349609375,
          -69.37337493896484,
          -70.57574462890625,
          -70.75513458251953,
          -71.98014068603516
         ],
         "y": [
          2.161686897277832,
          2.9988067150115967,
          3.5600433349609375,
          6.59071159362793,
          8.116072654724121,
          22.47663116455078,
          22.286842346191406,
          22.88641929626465,
          22.685895919799805,
          23.354049682617188,
          23.618732452392578,
          23.83328628540039,
          24.088821411132812,
          24.33009910583496,
          24.598541259765625,
          24.779457092285156,
          25.022626876831055,
          25.606571197509766,
          25.750818252563477,
          26.703214645385742,
          27.090599060058594,
          27.413103103637695,
          27.709735870361328,
          27.825706481933594,
          28.030948638916016,
          28.163740158081055,
          28.242042541503906,
          28.3085994720459,
          28.436847686767578,
          28.426156997680664,
          28.57200050354004,
          28.123716354370117,
          28.5406551361084,
          28.24782371520996,
          28.022663116455078,
          28.279726028442383,
          28.008981704711914,
          27.82659912109375,
          27.421720504760742,
          27.648849487304688,
          27.369915008544922,
          26.937820434570312,
          27.16642951965332,
          26.687868118286133,
          26.211711883544922,
          26.685932159423828,
          26.215843200683594,
          26.097373962402344,
          26.393644332885742,
          25.8829402923584,
          25.418655395507812,
          25.777969360351562,
          25.520605087280273,
          24.48418426513672,
          24.33773422241211,
          23.795499801635742,
          23.716581344604492,
          23.273822784423828,
          23.144744873046875,
          22.616287231445312,
          22.379642486572266
         ],
         "z": [
          3.953603982925415,
          4.496980667114258,
          4.864786148071289,
          6.827549457550049,
          8.427549362182617,
          20.621171951293945,
          21.3184757232666,
          21.05458641052246,
          21.608163833618164,
          22.316797256469727,
          22.71695327758789,
          23.073883056640625,
          23.32392120361328,
          23.7653751373291,
          24.052898406982422,
          24.52861785888672,
          24.785703659057617,
          26.088882446289062,
          26.443735122680664,
          27.974836349487305,
          29.779203414916992,
          30.11663246154785,
          30.634977340698242,
          31.350234985351562,
          32.071937561035156,
          32.75505447387695,
          33.39262390136719,
          34.0772819519043,
          35.44440460205078,
          36.299232482910156,
          38.3635139465332,
          38.063507080078125,
          36.84292984008789,
          37.90285110473633,
          39.273773193359375,
          39.6414909362793,
          40.58401107788086,
          41.22719955444336,
          42.36623764038086,
          41.65119934082031,
          42.87481689453125,
          43.29140853881836,
          43.62208938598633,
          44.01853561401367,
          44.52329635620117,
          44.55989074707031,
          45.15765380859375,
          45.92934036254883,
          45.04319763183594,
          46.539283752441406,
          46.67279052734375,
          47.49043655395508,
          46.739200592041016,
          48.27367401123047,
          48.831398010253906,
          49.2741813659668,
          49.722904205322266,
          50.18075942993164,
          50.56238555908203,
          51.03976821899414,
          51.55975341796875
         ]
        },
        {
         "hovertemplate": "g4hit_trkid=63<br>x=%{x}<br>y=%{y}<br>z=%{z}<extra></extra>",
         "legendgroup": "63",
         "marker": {
          "color": "#FFA15A",
          "opacity": 0.3,
          "size": 3,
          "symbol": "circle"
         },
         "mode": "markers",
         "name": "63",
         "scene": "scene",
         "showlegend": true,
         "type": "scatter3d",
         "x": [
          -0.9090017676353455,
          -1.1770713329315186,
          -1.5548123121261597,
          -2.5164473056793213,
          -8.676798820495605,
          -8.987520217895508,
          -8.561241149902344,
          -8.701936721801758,
          -8.701936721801758,
          -8.842632293701172,
          -9.054256439208984,
          -9.065305709838867,
          -9.183917045593262,
          -9.229601860046387,
          -9.246574401855469,
          -9.279593467712402,
          -9.54780387878418,
          -9.499187469482422,
          -9.638750076293945,
          -9.516373634338379
         ],
         "y": [
          2.2954883575439453,
          2.992589235305786,
          3.9970059394836426,
          6.650397300720215,
          30.74418067932129,
          31.845149993896484,
          33.73571014404297,
          34.290122985839844,
          34.290122985839844,
          34.84453582763672,
          35.970436096191406,
          36.55657196044922,
          37.116390228271484,
          37.694053649902344,
          38.278743743896484,
          38.85950469970703,
          40.55175018310547,
          41.61442565917969,
          42.63105773925781,
          42.66100311279297
         ],
         "z": [
          8.309614181518555,
          10.039159774780273,
          12.52136516571045,
          19.62755012512207,
          77.00267028808594,
          80.38484954833984,
          83.90577697753906,
          85.30316925048828,
          83.1966781616211,
          86.52581787109375,
          89.10233306884766,
          91.02613830566406,
          91.84636688232422,
          93.32266998291016,
          94.87230682373047,
          96.80974578857422,
          98.50328826904297,
          102.70133209228516,
          104.48944854736328,
          105.2511978149414
         ]
        },
        {
         "hovertemplate": "g4hit_trkid=9<br>x=%{x}<br>y=%{y}<br>z=%{z}<extra></extra>",
         "legendgroup": "9",
         "marker": {
          "color": "#19d3f3",
          "opacity": 0.3,
          "size": 3,
          "symbol": "circle"
         },
         "mode": "markers",
         "name": "9",
         "scene": "scene",
         "showlegend": true,
         "type": "scatter3d",
         "x": [
          -1.6556419134140015,
          -2.114853858947754,
          -2.803032398223877
         ],
         "y": [
          1.963104248046875,
          2.4572880268096924,
          3.156538248062134
         ],
         "z": [
          -2.6503772735595703,
          -4.016469955444336,
          -6.005146026611328
         ]
        },
        {
         "hovertemplate": "g4hit_trkid=28<br>x=%{x}<br>y=%{y}<br>z=%{z}<extra></extra>",
         "legendgroup": "28",
         "marker": {
          "color": "#FF6692",
          "opacity": 0.3,
          "size": 3,
          "symbol": "circle"
         },
         "mode": "markers",
         "name": "28",
         "scene": "scene",
         "showlegend": true,
         "type": "scatter3d",
         "x": [
          -1.7228899002075195,
          -2.1870923042297363,
          -2.8382813930511475,
          -4.861250400543213,
          -6.873684406280518,
          -19.283714294433594,
          -20.182315826416016,
          -21.04338836669922,
          -21.410140991210938,
          -21.692659378051758,
          -21.97247886657715,
          -22.54599952697754,
          -22.83525276184082,
          -24.57686996459961,
          -25.03653335571289,
          -25.503549575805664,
          -26.000917434692383,
          -26.48806381225586,
          -26.96852684020996,
          -27.8652400970459,
          -28.32097625732422,
          -28.78340721130371,
          -29.204992294311523,
          -29.700559616088867,
          -30.078039169311523,
          -30.469642639160156,
          -30.87065315246582,
          -31.311067581176758,
          -32.13412857055664,
          -32.53904724121094,
          -32.93621063232422,
          -33.32537078857422,
          -33.80581283569336,
          -34.544822692871094,
          -34.02063751220703,
          -34.9621696472168,
          -35.30613327026367,
          -35.70235824584961,
          -36.04747772216797,
          -36.80271911621094,
          -37.07231521606445,
          -37.79838943481445
         ],
         "y": [
          1.8596627712249756,
          2.3696563243865967,
          3.0915637016296387,
          5.390279769897461,
          7.749497890472412,
          24.749652862548828,
          26.228647232055664,
          27.727436065673828,
          28.167766571044922,
          28.66986083984375,
          29.173933029174805,
          30.171899795532227,
          30.669055938720703,
          33.63710021972656,
          34.56570053100586,
          35.48890686035156,
          36.389862060546875,
          37.29830551147461,
          38.21165466308594,
          40.07671356201172,
          40.9997444152832,
          41.918304443359375,
          42.86415481567383,
          43.76057434082031,
          44.73589324951172,
          45.701778411865234,
          46.661376953125,
          47.59464645385742,
          49.38031768798828,
          50.42919158935547,
          51.483245849609375,
          52.53628158569336,
          53.527992248535156,
          55.64604949951172,
          55.964134216308594,
          56.676048278808594,
          57.750579833984375,
          58.79339599609375,
          59.86722183227539,
          61.975433349609375,
          63.095088958740234,
          65.22100067138672
         ],
         "z": [
          3.443366050720215,
          3.677286148071289,
          4.0062360763549805,
          5.2275495529174805,
          6.827549457550049,
          13.186484336853027,
          13.688945770263672,
          14.281265258789062,
          14.515203475952148,
          14.79520320892334,
          14.875203132629395,
          15.325226783752441,
          15.479164123535156,
          16.636796951293945,
          17.006929397583008,
          17.458045959472656,
          17.737241744995117,
          18.13872718811035,
          18.484561920166016,
          19.17100715637207,
          19.46381950378418,
          19.852890014648438,
          20.21586799621582,
          20.432218551635742,
          20.869274139404297,
          21.250391006469727,
          21.597991943359375,
          21.95379638671875,
          22.5106258392334,
          22.978656768798828,
          23.311203002929688,
          23.792797088623047,
          24.05438232421875,
          24.888242721557617,
          24.065977096557617,
          25.194616317749023,
          25.58732032775879,
          25.98190689086914,
          26.313461303710938,
          27.055273056030273,
          27.5295467376709,
          28.274499893188477
         ]
        },
        {
         "hovertemplate": "g4hit_trkid=78<br>x=%{x}<br>y=%{y}<br>z=%{z}<extra></extra>",
         "legendgroup": "78",
         "marker": {
          "color": "#B6E880",
          "opacity": 0.3,
          "size": 3,
          "symbol": "circle"
         },
         "mode": "markers",
         "name": "78",
         "scene": "scene",
         "showlegend": true,
         "type": "scatter3d",
         "x": [
          -1.5159448385238647,
          -1.8776214122772217,
          -2.2454421520233154,
          -4.056153297424316,
          -7.963921070098877,
          -7.424600124359131,
          -7.396154880523682,
          -7.13539981842041,
          -6.970208644866943,
          -6.803727149963379,
          -6.183276176452637,
          -4.294064521789551,
          -3.6083691120147705,
          -3.9417996406555176,
          -3.2378294467926025,
          -2.959378242492676,
          -2.5515308380126953,
          -1.921000361442566,
          -0.3720170259475708,
          -0.6277086138725281,
          0.22817809879779816,
          0.6567504405975342,
          0.9783574342727661,
          1.3067030906677246,
          2.0306906700134277,
          1.7236981391906738,
          2.306540012359619,
          3.1123974323272705,
          2.777513027191162,
          3.926297426223755,
          3.5073108673095703,
          4.866153717041016,
          5.096472263336182,
          5.960474967956543,
          5.657788276672363,
          6.663930892944336,
          8.30286979675293,
          7.686487674713135,
          10.363580703735352,
          10.907951354980469,
          11.121841430664062,
          12.012046813964844,
          11.612711906433105,
          14.02709674835205,
          14.663774490356445,
          15.06110954284668,
          15.408469200134277,
          14.409505844116211,
          16.386180877685547,
          16.06977081298828,
          17.47563362121582,
          18.343881607055664,
          17.76836395263672,
          18.74604034423828,
          20.41596794128418,
          22.281333923339844,
          22.129072189331055,
          21.6922607421875
         ],
         "y": [
          2.177987575531006,
          2.745072364807129,
          3.341165542602539,
          6.608436107635498,
          32.11534881591797,
          34.59197235107422,
          35.18080520629883,
          35.81584548950195,
          36.4318733215332,
          37.048160552978516,
          38.89155197143555,
          43.49134826660156,
          44.58045196533203,
          44.556697845458984,
          45.627593994140625,
          45.645843505859375,
          46.6954345703125,
          47.75245666503906,
          49.82807540893555,
          49.82249450683594,
          50.85212326049805,
          50.8427734375,
          51.85666275024414,
          51.8494987487793,
          52.854610443115234,
          52.86130905151367,
          52.848594665527344,
          53.818668365478516,
          53.84061813354492,
          54.78818130493164,
          54.815643310546875,
          55.74943542480469,
          55.72470474243164,
          56.65685272216797,
          56.689998626708984,
          56.579811096191406,
          58.32677459716797,
          58.42143249511719,
          60.22957229614258,
          60.13252639770508,
          60.08998107910156,
          61.03146743774414,
          61.11090087890625,
          61.734405517578125,
          62.70804214477539,
          62.610816955566406,
          62.52581787109375,
          62.770263671875,
          63.41600799560547,
          63.493431091308594,
          63.125064849853516,
          64.01471710205078,
          64.18246459960938,
          63.89749526977539,
          64.55073547363281,
          65.07608032226562,
          65.12776184082031,
          65.27603912353516
         ],
         "z": [
          5.8150858879089355,
          6.633806228637695,
          7.490538120269775,
          11.627549171447754,
          44.585052490234375,
          47.875877380371094,
          48.3365364074707,
          49.42906951904297,
          50.153560638427734,
          50.62900924682617,
          53.35360336303711,
          59.630859375,
          61.35694122314453,
          60.582523345947266,
          62.40510177612305,
          63.27519989013672,
          63.99225616455078,
          65.39520263671875,
          69.14324951171875,
          68.36319732666016,
          70.32849884033203,
          71.28050231933594,
          71.79759979248047,
          72.60320281982422,
          73.87667083740234,
          73.0271987915039,
          74.72319793701172,
          75.95879364013672,
          75.14720153808594,
          77.4009780883789,
          76.41919708251953,
          79.00067901611328,
          79.81120300292969,
          80.98108673095703,
          80.23519897460938,
          82.11964416503906,
          84.80660247802734,
          83.62354278564453,
          87.84638977050781,
          88.85203552246094,
          89.56320190429688,
          90.38032531738281,
          89.68434143066406,
          93.64509582519531,
          94.21183776855469,
          95.07520294189453,
          95.49919891357422,
          93.37920379638672,
          97.09465026855469,
          95.92320251464844,
          97.91899871826172,
          99.55003356933594,
          98.38867950439453,
          100.39363098144531,
          102.56317901611328,
          105.2511978149414,
          104.82720184326172,
          104.05797576904297
         ]
        },
        {
         "hovertemplate": "g4hit_trkid=35<br>x=%{x}<br>y=%{y}<br>z=%{z}<extra></extra>",
         "legendgroup": "35",
         "marker": {
          "color": "#FF97FF",
          "opacity": 0.3,
          "size": 3,
          "symbol": "circle"
         },
         "mode": "markers",
         "name": "35",
         "scene": "scene",
         "showlegend": true,
         "type": "scatter3d",
         "x": [
          -1.4672303199768066,
          -1.822224497795105,
          -2.188754081726074,
          -4.110012531280518,
          -5.061251163482666,
          -14.05990219116211,
          -14.431224822998047,
          -14.59807014465332,
          -14.788737297058105,
          -15.184086799621582,
          -15.304548263549805,
          -15.523948669433594,
          -15.677342414855957,
          -15.826658248901367,
          -16.017621994018555,
          -16.420490264892578,
          -16.603979110717773,
          -17.19169807434082,
          -17.4095401763916,
          -17.68380355834961,
          -17.890098571777344,
          -18.163820266723633,
          -19.020212173461914,
          -19.218297958374023,
          -19.398019790649414,
          -20.12166976928711,
          -20.973323822021484,
          -20.715742111206055,
          -20.768558502197266,
          -21.066781997680664,
          -21.1758975982666,
          -21.666234970092773,
          -21.683490753173828,
          -21.51613426208496,
          -21.760507583618164,
          -21.647197723388672
         ],
         "y": [
          2.252920627593994,
          2.8122739791870117,
          3.394998073577881,
          6.576925754547119,
          8.238025665283203,
          28.045745849609375,
          29.138097763061523,
          29.693553924560547,
          30.237260818481445,
          31.317766189575195,
          31.896095275878906,
          32.42563247680664,
          32.98772048950195,
          33.551822662353516,
          34.09538269042969,
          35.797908782958984,
          36.34205627441406,
          37.94894027709961,
          38.96818923950195,
          39.962615966796875,
          40.98694610595703,
          41.98160934448242,
          46.06257629394531,
          47.08067321777344,
          48.10591125488281,
          52.20500564575195,
          55.052616119384766,
          56.32988357543945,
          57.479740142822266,
          59.69561004638672,
          60.81711959838867,
          68.75992584228516,
          69.89761352539062,
          69.94639587402344,
          71.01788330078125,
          71.05091094970703
         ],
         "z": [
          6.309241771697998,
          7.2221150398254395,
          8.16828727722168,
          13.627549171447754,
          15.627549171447754,
          45.23873519897461,
          47.19221115112305,
          47.83009338378906,
          48.781803131103516,
          50.12198257446289,
          51.191200256347656,
          52.0057258605957,
          52.605262756347656,
          53.47711181640625,
          54.22779083251953,
          56.69398498535156,
          57.8448600769043,
          59.097286224365234,
          60.93647003173828,
          62.23542022705078,
          64.24613952636719,
          65.19641876220703,
          71.05709838867188,
          72.62976837158203,
          74.0172119140625,
          79.54190063476562,
          85.20878601074219,
          85.01099395751953,
          87.06036376953125,
          89.74934387207031,
          91.21854400634766,
          101.99818420410156,
          103.59437561035156,
          104.5495834350586,
          104.82720184326172,
          105.2511978149414
         ]
        },
        {
         "hovertemplate": "g4hit_trkid=49<br>x=%{x}<br>y=%{y}<br>z=%{z}<extra></extra>",
         "legendgroup": "49",
         "marker": {
          "color": "#FECB52",
          "opacity": 0.3,
          "size": 3,
          "symbol": "circle"
         },
         "mode": "markers",
         "name": "49",
         "scene": "scene",
         "showlegend": true,
         "type": "scatter3d",
         "x": [
          -1.7637661695480347,
          -2.2547996044158936,
          -2.91890549659729,
          -5.1471052169799805,
          -7.423671245574951,
          -23.816448211669922,
          -24.2972469329834,
          -24.77927017211914,
          -25.21685218811035,
          -25.72064781188965,
          -26.201852798461914,
          -26.66732406616211,
          -27.160234451293945,
          -27.626554489135742,
          -28.094749450683594,
          -28.581653594970703,
          -30.06477165222168,
          -30.53179931640625,
          -31.02618980407715,
          -32.44773864746094,
          -33.34833526611328,
          -34.22811508178711,
          -35.12193298339844,
          -35.99822998046875,
          -38.70835494995117,
          -39.59170913696289,
          -40.70008850097656,
          -40.5190544128418,
          -40.40003967285156,
          -41.411895751953125,
          -42.394832611083984,
          -42.27055740356445
         ],
         "y": [
          1.7967866659164429,
          2.2875208854675293,
          2.9429495334625244,
          5.0970611572265625,
          7.196402549743652,
          20.42304039001465,
          20.74226951599121,
          21.060104370117188,
          21.428613662719727,
          21.721620559692383,
          22.040388107299805,
          22.37709617614746,
          22.676767349243164,
          23.00954246520996,
          23.33997917175293,
          23.647106170654297,
          24.54056739807129,
          24.872461318969727,
          25.170259475708008,
          26.127016067504883,
          26.63555335998535,
          27.170028686523438,
          27.68701171875,
          28.22582244873047,
          29.74104881286621,
          30.264705657958984,
          30.47918128967285,
          30.726078033447266,
          30.888397216796875,
          31.234508514404297,
          31.620065689086914,
          31.7895565032959
         ],
         "z": [
          7.057201385498047,
          8.2897310256958,
          9.9464693069458,
          15.627549171447754,
          21.62755012512207,
          57.881446838378906,
          59.01488494873047,
          60.23606872558594,
          61.02230453491211,
          62.18788528442383,
          63.26032257080078,
          64.34092712402344,
          65.31006622314453,
          66.42584991455078,
          67.07276916503906,
          68.36319732666016,
          71.43551635742188,
          72.45855712890625,
          73.62080383300781,
          75.9082260131836,
          78.2780532836914,
          79.93905639648438,
          81.75753021240234,
          83.4551010131836,
          89.13528442382812,
          91.04008483886719,
          91.74922943115234,
          93.04730224609375,
          91.900634765625,
          94.6192398071289,
          96.66072082519531,
          95.3729019165039
         ]
        },
        {
         "hovertemplate": "g4hit_trkid=29<br>x=%{x}<br>y=%{y}<br>z=%{z}<extra></extra>",
         "legendgroup": "29",
         "marker": {
          "color": "#636efa",
          "opacity": 0.3,
          "size": 3,
          "symbol": "circle"
         },
         "mode": "markers",
         "name": "29",
         "scene": "scene",
         "showlegend": true,
         "type": "scatter3d",
         "x": [
          -1.586740493774414,
          -2.0082976818084717,
          -23.381988525390625,
          -23.904409408569336,
          -24.415151596069336,
          -24.359386444091797
         ],
         "y": [
          2.06908917427063,
          2.586550235748291,
          20.918447494506836,
          21.190214157104492,
          21.47530174255371,
          21.538888931274414
         ],
         "z": [
          10.257833480834961,
          12.21434497833252,
          94.41178131103516,
          96.64441680908203,
          98.47567749023438,
          97.48530578613281
         ]
        },
        {
         "hovertemplate": "g4hit_trkid=62<br>x=%{x}<br>y=%{y}<br>z=%{z}<extra></extra>",
         "legendgroup": "62",
         "marker": {
          "color": "#EF553B",
          "opacity": 0.3,
          "size": 3,
          "symbol": "circle"
         },
         "mode": "markers",
         "name": "62",
         "scene": "scene",
         "showlegend": true,
         "type": "scatter3d",
         "x": [
          -1.7872495651245117,
          -2.2801804542541504,
          -18.70138168334961,
          -20.461132049560547,
          -20.763168334960938
         ],
         "y": [
          1.7606642246246338,
          2.2567317485809326,
          25.189197540283203,
          23.783042907714844,
          24.278919219970703
         ],
         "z": [
          10.644157409667969,
          12.883755683898926,
          70.61676025390625,
          101.28435516357422,
          104.34313201904297
         ]
        },
        {
         "hovertemplate": "g4hit_trkid=47<br>x=%{x}<br>y=%{y}<br>z=%{z}<extra></extra>",
         "legendgroup": "47",
         "marker": {
          "color": "#00cc96",
          "opacity": 0.3,
          "size": 3,
          "symbol": "circle"
         },
         "mode": "markers",
         "name": "47",
         "scene": "scene",
         "showlegend": true,
         "type": "scatter3d",
         "x": [
          -1.8535277843475342
         ],
         "y": [
          1.6587145328521729
         ],
         "z": [
          10.922564506530762
         ]
        },
        {
         "hovertemplate": "g4hit_trkid=39<br>x=%{x}<br>y=%{y}<br>z=%{z}<extra></extra>",
         "legendgroup": "39",
         "marker": {
          "color": "#ab63fa",
          "opacity": 0.3,
          "size": 3,
          "symbol": "circle"
         },
         "mode": "markers",
         "name": "39",
         "scene": "scene",
         "showlegend": true,
         "type": "scatter3d",
         "x": [
          -2.399320125579834,
          -2.902027130126953,
          -3.693744659423828,
          -7.000503063201904,
          -25.723970413208008,
          -26.1210880279541,
          -25.9932861328125,
          -27.771888732910156,
          -28.17896842956543,
          -28.277379989624023,
          -28.55800437927246,
          -29.345109939575195,
          -29.750877380371094,
          -30.12482452392578,
          -30.523075103759766,
          -30.917150497436523,
          -31.29929542541504,
          -31.657894134521484,
          -32.85246276855469,
          -33.44663619995117,
          -35.395484924316406,
          -36.660640716552734,
          -37.2704963684082,
          -37.867408752441406,
          -38.43437194824219,
          -39.05915451049805,
          -39.593177795410156,
          -40.19178009033203,
          -40.795387268066406,
          -41.288082122802734,
          -41.820194244384766,
          -42.9371337890625,
          -42.775489807128906,
          -43.39595031738281,
          -43.8305549621582,
          -43.95024108886719,
          -46.43336868286133
         ],
         "y": [
          1.1758655309677124,
          1.435427188873291,
          1.852162480354309,
          3.7126224040985107,
          17.969465255737305,
          18.39773178100586,
          18.572031021118164,
          20.015474319458008,
          20.427576065063477,
          20.293359756469727,
          20.877925872802734,
          21.739023208618164,
          22.15291404724121,
          22.610204696655273,
          23.034345626831055,
          23.464181900024414,
          23.910289764404297,
          24.38317108154297,
          25.622737884521484,
          26.513071060180664,
          28.976829528808594,
          30.66179084777832,
          31.519460678100586,
          32.38681411743164,
          33.28831100463867,
          34.12388229370117,
          35.06294250488281,
          35.92837142944336,
          36.7880859375,
          37.77427291870117,
          38.69717025756836,
          40.3387336730957,
          40.507591247558594,
          41.4459228515625,
          42.578399658203125,
          42.45337677001953,
          47.73381042480469
         ],
         "z": [
          0.397663950920105,
          -0.06189131736755371,
          -0.7889926433563232,
          -4.572450160980225,
          -22.651132583618164,
          -23.388477325439453,
          -24.64494514465332,
          -24.404836654663086,
          -25.520601272583008,
          -24.11301612854004,
          -26.058835983276367,
          -27.122577667236328,
          -27.45450782775879,
          -27.972383499145508,
          -28.490570068359375,
          -28.94392204284668,
          -29.268476486206055,
          -29.905000686645508,
          -30.917688369750977,
          -32.13604736328125,
          -34.67390441894531,
          -36.27989959716797,
          -37.167030334472656,
          -37.99174880981445,
          -38.79582977294922,
          -39.54188919067383,
          -40.63153076171875,
          -41.35601806640625,
          -42.081172943115234,
          -43.05039978027344,
          -44.09424591064453,
          -45.13080596923828,
          -45.965396881103516,
          -46.482540130615234,
          -47.713497161865234,
          -47.16320037841797,
          -51.90926742553711
         ]
        },
        {
         "hovertemplate": "g4hit_trkid=36<br>x=%{x}<br>y=%{y}<br>z=%{z}<extra></extra>",
         "legendgroup": "36",
         "marker": {
          "color": "#FFA15A",
          "opacity": 0.3,
          "size": 3,
          "symbol": "circle"
         },
         "mode": "markers",
         "name": "36",
         "scene": "scene",
         "showlegend": true,
         "type": "scatter3d",
         "x": [
          -2.4296367168426514,
          -3.2848398685455322,
          -4.127112865447998,
          -7.290417194366455,
          -9.780381202697754,
          -32.41497039794922,
          -32.96980667114258,
          -35.14055633544922,
          -36.22412872314453,
          -36.752662658691406,
          -37.806427001953125,
          -39.3489875793457,
          -40.95490264892578,
          -45.05616760253906,
          -45.28462219238281,
          -47.54062271118164,
          -48.29170608520508,
          -48.3742790222168,
          -49.09861755371094,
          -49.01499557495117,
          -49.74492645263672,
          -49.85902786254883,
          -50.444053649902344,
          -51.12123107910156,
          -51.78966522216797,
          -51.69684600830078,
          -52.348304748535156,
          -52.13286590576172,
          -53.61762619018555,
          -53.770931243896484,
          -53.83802032470703,
          -54.05727767944336,
          -54.55508041381836,
          -54.36199188232422,
          -54.84778594970703,
          -55.033241271972656,
          -55.50720977783203,
          -55.25857925415039,
          -55.85610580444336,
          -55.581016540527344,
          -55.963130950927734,
          -56.3408317565918,
          -56.149620056152344,
          -56.527435302734375,
          -56.021461486816406,
          -56.81004333496094,
          -56.42463302612305,
          -56.8713493347168,
          -56.959659576416016,
          -56.65450668334961,
          -56.937068939208984,
          -56.57931137084961,
          -56.91609573364258,
          -56.20640563964844,
          -56.742637634277344,
          -56.2436637878418,
          -56.57687759399414,
          -56.73479080200195,
          -56.49325180053711,
          -55.686729431152344,
          -56.09925842285156,
          -56.03822326660156,
          -55.56033706665039,
          -56.2608757019043
         ],
         "y": [
          0.6027788519859314,
          0.7806070446968079,
          0.9367580413818359,
          1.3678542375564575,
          1.5479286909103394,
          -2.6048831939697266,
          -2.8847498893737793,
          -4.079050540924072,
          -4.692657947540283,
          -5.040325164794922,
          -5.71366024017334,
          -6.963912010192871,
          -7.6427836418151855,
          -12.52967643737793,
          -11.677064895629883,
          -14.948286056518555,
          -15.916302680969238,
          -15.673049926757812,
          -16.714523315429688,
          -16.96086311340332,
          -17.985851287841797,
          -17.649723052978516,
          -19.017715454101562,
          -20.09247589111328,
          -21.189712524414062,
          -21.42690658569336,
          -22.48062515258789,
          -22.970243453979492,
          -24.417760848999023,
          -24.069347381591797,
          -26.5035343170166,
          -26.05892562866211,
          -27.529909133911133,
          -27.921457290649414,
          -29.34720802307129,
          -29.00916862487793,
          -30.426095962524414,
          -30.879287719726562,
          -32.07099914550781,
          -32.53726577758789,
          -34.02229309082031,
          -33.39986038208008,
          -35.82582473754883,
          -35.20708084106445,
          -36.01763153076172,
          -36.812103271484375,
          -37.38890838623047,
          -38.69501876831055,
          -40.49799346923828,
          -40.9141731262207,
          -42.384124755859375,
          -42.87204360961914,
          -44.23515319824219,
          -45.119407653808594,
          -44.45127868652344,
          -46.82570266723633,
          -46.410526275634766,
          -46.21377182006836,
          -48.2236442565918,
          -49.143306732177734,
          -48.672908782958984,
          -50.406375885009766,
          -50.949459075927734,
          -50.15249252319336
         ],
         "z": [
          4.638175964355469,
          5.339936256408691,
          6.032924175262451,
          8.427549362182617,
          10.027549743652344,
          29.305679321289062,
          29.699968338012695,
          31.75540542602539,
          32.70282745361328,
          32.99181365966797,
          34.31451416015625,
          35.86112594604492,
          36.66231918334961,
          42.287200927734375,
          42.04491424560547,
          45.46719741821289,
          46.20625305175781,
          45.46719741821289,
          46.81541061401367,
          47.58720016479492,
          48.15669250488281,
          47.49392318725586,
          49.19265365600586,
          50.164066314697266,
          51.05747604370117,
          51.82719802856445,
          52.29252624511719,
          53.09919738769531,
          53.86842727661133,
          53.35906982421875,
          55.962249755859375,
          55.354644775390625,
          56.67588424682617,
          57.08744812011719,
          58.442562103271484,
          57.8623161315918,
          59.0301399230957,
          59.61559295654297,
          60.42573928833008,
          60.9789924621582,
          62.2330322265625,
          61.40328598022461,
          63.75013732910156,
          62.919586181640625,
          64.54719543457031,
          64.3405990600586,
          64.9638900756836,
          65.69071197509766,
          67.2191162109375,
          67.86499786376953,
          68.80221557617188,
          69.47805786132812,
          70.28008270263672,
          71.91183471679688,
          70.90719604492188,
          72.61775970458984,
          73.66883087158203,
          72.03624725341797,
          73.5372314453125,
          74.80269622802734,
          74.08866119384766,
          75.47506713867188,
          76.08534240722656,
          74.72319793701172
         ]
        },
        {
         "hovertemplate": "g4hit_trkid=8<br>x=%{x}<br>y=%{y}<br>z=%{z}<extra></extra>",
         "legendgroup": "8",
         "marker": {
          "color": "#19d3f3",
          "opacity": 0.3,
          "size": 3,
          "symbol": "circle"
         },
         "mode": "markers",
         "name": "8",
         "scene": "scene",
         "showlegend": true,
         "type": "scatter3d",
         "x": [
          -2.58168363571167,
          -3.3720107078552246,
          -4.121947288513184,
          -8.074880599975586,
          -9.896089553833008,
          -31.299209594726562,
          -31.518054962158203,
          -32.07246780395508,
          -32.62688064575195,
          -32.94611740112305,
          -33.181297302246094,
          -34.04708480834961,
          -35.14805221557617,
          -27.494295120239258,
          -36.76054763793945,
          -37.273841857910156,
          -37.795249938964844,
          -38.3015022277832,
          -40.139034271240234,
          -36.49429702758789,
          -42.57431411743164,
          -46.1286735534668,
          -45.98457717895508,
          -47.109432220458984,
          -47.92408752441406,
          -47.9816780090332,
          -48.787628173828125,
          -50.518341064453125,
          -51.35392761230469,
          -52.21509552001953,
          -53.034706115722656,
          -54.397125244140625,
          -54.873069763183594,
          -55.53101348876953,
          -56.44792175292969,
          -58.03392028808594,
          -59.062171936035156,
          -58.90203094482422,
          -59.898502349853516,
          -60.74187088012695,
          -63.25215530395508,
          -63.17384338378906,
          -64.0587158203125,
          -64.85051727294922,
          -65.67143249511719,
          -66.43960571289062,
          -67.24910736083984
         ],
         "y": [
          -0.3466287851333618,
          -0.463479220867157,
          -0.5784978866577148,
          -1.2723616361618042,
          -1.6308915615081787,
          -6.387622356414795,
          -7.998457908630371,
          -8.139153480529785,
          -8.2798490524292,
          -9.29824161529541,
          -8.42054557800293,
          -9.608963966369629,
          -9.919685363769531,
          -25.744625091552734,
          -10.519425392150879,
          -10.802382469177246,
          -11.0574951171875,
          -11.364614486694336,
          -11.162270545959473,
          -22.12963104248047,
          -13.707401275634766,
          -15.937795639038086,
          -16.362293243408203,
          -16.223873138427734,
          -16.99927520751953,
          -16.829618453979492,
          -17.630661010742188,
          -18.826688766479492,
          -19.494094848632812,
          -20.09571647644043,
          -20.80421257019043,
          -22.64621353149414,
          -21.435026168823242,
          -22.77002716064453,
          -23.433347702026367,
          -25.276813507080078,
          -25.663898468017578,
          -26.027847290039062,
          -26.487150192260742,
          -27.294416427612305,
          -29.737438201904297,
          -29.896240234375,
          -30.582326889038086,
          -31.457136154174805,
          -32.272918701171875,
          -33.19565963745117,
          -34.03458023071289
         ],
         "z": [
          2.903887987136841,
          3.0091519355773926,
          3.1114919185638428,
          3.627549409866333,
          3.627549409866333,
          61.613189697265625,
          7.329452991485596,
          7.390570163726807,
          7.4480156898498535,
          7.519921779632568,
          7.447101593017578,
          7.672820091247559,
          7.848281383514404,
          69.56453704833984,
          8.083757400512695,
          8.135156631469727,
          8.212859153747559,
          8.343578338623047,
          47.66276931762695,
          39.15182876586914,
          8.99860954284668,
          9.638218879699707,
          10.720843315124512,
          11.22193717956543,
          9.843226432800293,
          8.218483924865723,
          9.984108924865723,
          10.287375450134277,
          10.433694839477539,
          10.512460708618164,
          10.776741981506348,
          12.309758186340332,
          12.187054634094238,
          11.17354679107666,
          11.302023887634277,
          11.722328186035156,
          11.767398834228516,
          11.77639102935791,
          11.972999572753906,
          12.123906135559082,
          12.589491844177246,
          14.486015319824219,
          12.7279691696167,
          12.917046546936035,
          13.077750205993652,
          13.28403091430664,
          13.373687744140625
         ]
        },
        {
         "hovertemplate": "g4hit_trkid=60<br>x=%{x}<br>y=%{y}<br>z=%{z}<extra></extra>",
         "legendgroup": "60",
         "marker": {
          "color": "#FF6692",
          "opacity": 0.3,
          "size": 3,
          "symbol": "circle"
         },
         "mode": "markers",
         "name": "60",
         "scene": "scene",
         "showlegend": true,
         "type": "scatter3d",
         "x": [
          -2.576197385787964,
          -3.3802132606506348,
          -4.147424697875977,
          -8.075496673583984,
          -10.599167823791504,
          -31.282413482666016,
          -32.95314407348633,
          -33.50425338745117,
          -34.053131103515625,
          -34.60574722290039,
          -35.16364669799805,
          -35.711265563964844,
          -36.264163970947266,
          -36.81227111816406,
          -38.4485969543457,
          -38.979705810546875,
          -39.51078796386719,
          -41.1326904296875,
          -42.080596923828125,
          -43.01728820800781,
          -44.885616302490234,
          -46.71617889404297,
          -47.64944076538086,
          -48.558223724365234,
          -49.41780090332031,
          -50.323455810546875,
          -51.940155029296875,
          -52.203514099121094,
          -52.90917205810547,
          -53.76198959350586,
          -54.551422119140625,
          -56.26321792602539,
          -57.12511444091797,
          -58.75579071044922,
          -58.807247161865234,
          -59.59154510498047,
          -60.4465446472168,
          -62.795143127441406,
          -62.6276969909668,
          -63.55263137817383,
          -63.46869659423828,
          -64.23723602294922,
          -65.03730773925781,
          -64.88733673095703,
          -65.66044616699219,
          -65.8492202758789,
          -66.92073059082031,
          -67.69471740722656
         ],
         "y": [
          -0.3574090898036957,
          -0.4480523467063904,
          -0.5251314640045166,
          -0.7926620841026306,
          -0.8509470224380493,
          2.3938522338867188,
          3.0368874073028564,
          3.258570671081543,
          3.5006439685821533,
          3.708559989929199,
          3.868229627609253,
          4.121758460998535,
          4.3271002769470215,
          4.5761895179748535,
          5.3013200759887695,
          5.610538482666016,
          5.9199137687683105,
          6.606689929962158,
          7.157498359680176,
          7.738005638122559,
          8.808808326721191,
          10.069487571716309,
          10.60122013092041,
          11.181516647338867,
          11.962896347045898,
          12.555963516235352,
          14.444046020507812,
          13.461166381835938,
          14.766961097717285,
          15.488536834716797,
          16.42758560180664,
          17.494632720947266,
          18.400272369384766,
          20.422414779663086,
          20.270832061767578,
          21.373342514038086,
          22.237396240234375,
          25.278709411621094,
          25.709299087524414,
          26.354400634765625,
          26.54515838623047,
          27.52247428894043,
          28.428146362304688,
          28.76896858215332,
          29.735910415649414,
          29.306882858276367,
          32.22003173828125,
          33.13097381591797
         ],
         "z": [
          3.7781641483306885,
          4.149511814117432,
          4.500391960144043,
          6.827549457550049,
          6.827549457550049,
          17.131820678710938,
          18.01103973388672,
          18.424476623535156,
          18.682960510253906,
          18.930797576904297,
          19.134899139404297,
          19.4630069732666,
          19.709938049316406,
          20.027202606201172,
          20.875202178955078,
          21.143733978271484,
          21.536296844482422,
          22.150297164916992,
          22.75528907775879,
          23.359344482421875,
          24.262493133544922,
          25.381906509399414,
          25.812055587768555,
          26.302398681640625,
          27.014257431030273,
          27.370515823364258,
          28.54460906982422,
          28.192617416381836,
          28.972515106201172,
          29.524797439575195,
          30.315969467163086,
          30.745803833007812,
          31.05120277404785,
          32.88853073120117,
          32.323204040527344,
          33.43598556518555,
          33.910736083984375,
          35.691795349121094,
          35.94486618041992,
          36.26668930053711,
          36.98720169067383,
          36.96613311767578,
          37.40023422241211,
          37.96185302734375,
          38.285125732421875,
          38.009788513183594,
          39.620243072509766,
          40.07634353637695
         ]
        },
        {
         "hovertemplate": "g4hit_trkid=4<br>x=%{x}<br>y=%{y}<br>z=%{z}<extra></extra>",
         "legendgroup": "4",
         "marker": {
          "color": "#B6E880",
          "opacity": 0.3,
          "size": 3,
          "symbol": "circle"
         },
         "mode": "markers",
         "name": "4",
         "scene": "scene",
         "showlegend": true,
         "type": "scatter3d",
         "x": [
          -2.679337501525879,
          -3.5051445960998535,
          -4.266125679016113,
          -8.075641632080078,
          -10.599363327026367,
          -30.72317886352539,
          -31.251440048217773,
          -31.80543327331543,
          -32.32781219482422,
          -32.87392807006836,
          -33.41740798950195,
          -33.93954086303711,
          -34.469879150390625,
          -35.0119743347168,
          -35.528297424316406,
          -37.127227783203125,
          -38.171016693115234,
          -38.725433349609375,
          -40.34255599975586,
          -41.122459411621094,
          -42.10588836669922,
          -43.01350784301758,
          -43.05583953857422,
          -43.957969665527344,
          -44.86019515991211,
          -45.73856735229492,
          -45.78380584716797,
          -46.6629638671875,
          -48.445457458496094,
          -49.33802032470703,
          -50.196495056152344,
          -51.091400146484375,
          -51.96711730957031,
          -52.815513610839844,
          -53.61579513549805,
          -53.70000076293945,
          -55.32227325439453,
          -55.3983268737793,
          -56.23421859741211,
          -57.0775146484375,
          -57.12525177001953,
          -58.01337432861328,
          -58.88404846191406,
          -59.79841995239258,
          -59.737403869628906,
          -60.62260818481445,
          -61.52136993408203,
          -61.448951721191406,
          -62.33747482299805,
          -63.154415130615234,
          -63.2381706237793,
          -64.02876281738281,
          -63.96391677856445,
          -64.86506652832031,
          -65.65525817871094,
          -65.72834777832031,
          -66.54911804199219,
          -67.29248046875,
          -68.16534423828125,
          -68.02338409423828
         ],
         "y": [
          -0.1547391414642334,
          -0.21308909356594086,
          -0.27649256587028503,
          -0.6795621514320374,
          -1.0303469896316528,
          -6.351720333099365,
          -6.627769470214844,
          -6.774466514587402,
          -7.080094814300537,
          -7.266396522521973,
          -7.455636978149414,
          -7.728249549865723,
          -7.967336654663086,
          -8.158366203308105,
          -8.454732894897461,
          -9.139628410339355,
          -9.686806678771973,
          -9.827502250671387,
          -10.40270709991455,
          -11.435751914978027,
          -11.709232330322266,
          -12.242793083190918,
          -12.09755802154541,
          -12.64995002746582,
          -13.202024459838867,
          -13.83592700958252,
          -13.68072509765625,
          -14.311934471130371,
          -15.463372230529785,
          -16.00925636291504,
          -16.655576705932617,
          -17.194568634033203,
          -17.790096282958984,
          -18.466100692749023,
          -19.28384780883789,
          -19.03577995300293,
          -20.279891967773438,
          -20.074249267578125,
          -20.96173667907715,
          -21.82012176513672,
          -21.69736099243164,
          -22.440467834472656,
          -23.228439331054688,
          -23.904043197631836,
          -24.060949325561523,
          -24.811561584472656,
          -25.522871017456055,
          -25.687450408935547,
          -26.39208984375,
          -27.25941276550293,
          -27.069067001342773,
          -27.996267318725586,
          -28.14364242553711,
          -28.819580078125,
          -29.747699737548828,
          -29.581592559814453,
          -30.440214157104492,
          -31.466201782226562,
          -32.1766357421875,
          -32.46449661254883
         ],
         "z": [
          5.8495893478393555,
          6.854568004608154,
          7.781832218170166,
          11.627549171447754,
          15.627549171447754,
          40.472843170166016,
          41.61738204956055,
          42.207698822021484,
          43.022342681884766,
          43.797698974609375,
          44.24309158325195,
          45.06814193725586,
          45.63457107543945,
          46.365081787109375,
          47.29615020751953,
          49.23289489746094,
          50.87744140625,
          51.67569351196289,
          53.094749450683594,
          54.84846115112305,
          56.18073654174805,
          57.7203254699707,
          56.915199279785156,
          58.42459487915039,
          59.82071304321289,
          61.61606979370117,
          60.644962310791016,
          62.461673736572266,
          65.21070098876953,
          66.29574584960938,
          67.84561157226562,
          68.88349914550781,
          70.2100830078125,
          71.59517669677734,
          73.71935272216797,
          72.5718994140625,
          75.25047302246094,
          74.17913055419922,
          76.5023193359375,
          78.43960571289062,
          77.56846618652344,
          79.42076110839844,
          80.9012680053711,
          81.9620361328125,
          82.7791976928711,
          83.96697998046875,
          85.02569580078125,
          85.74720001220703,
          86.80272674560547,
          88.37628173828125,
          87.44319915771484,
          89.51046752929688,
          90.41120147705078,
          90.98367309570312,
          92.81041717529297,
          92.1072006225586,
          93.60926055908203,
          95.59607696533203,
          96.43572998046875,
          97.38792419433594
         ]
        },
        {
         "hovertemplate": "g4hit_trkid=91<br>x=%{x}<br>y=%{y}<br>z=%{z}<extra></extra>",
         "legendgroup": "91",
         "marker": {
          "color": "#FF97FF",
          "opacity": 0.3,
          "size": 3,
          "symbol": "circle"
         },
         "mode": "markers",
         "name": "91",
         "scene": "scene",
         "showlegend": true,
         "type": "scatter3d",
         "x": [
          -1.7390937805175781,
          -2.2217020988464355,
          -2.8438732624053955,
          -5.237931251525879,
          -8.521438598632812,
          -20.305744171142578,
          -22.15987777709961,
          -22.4466609954834,
          -22.773883819580078,
          -23.048986434936523,
          -23.371915817260742,
          -23.659595489501953,
          -23.946773529052734,
          -24.214527130126953,
          -16.13841438293457,
          -25.16729164123535,
          -11.742599487304688,
          -26.579252243041992,
          -27.055158615112305,
          -27.54462432861328,
          -28.02381706237793,
          -28.46100616455078,
          -28.940101623535156,
          -29.421344757080078,
          -29.88873863220215,
          -30.318437576293945,
          -30.769119262695312,
          -30.66721534729004,
          -31.182178497314453,
          -31.621129989624023,
          -32.00394058227539,
          -33.25432586669922,
          -33.71968078613281,
          -33.67132568359375
         ],
         "y": [
          -1.8012726306915283,
          -2.3090567588806152,
          -2.9726548194885254,
          -5.590479373931885,
          -30.193696975708008,
          -25.39618682861328,
          -28.308483123779297,
          -28.81171226501465,
          -29.282487869262695,
          -29.795095443725586,
          -30.269315719604492,
          -30.771827697753906,
          -31.272544860839844,
          -31.785465240478516,
          -38.41239547729492,
          -33.204185485839844,
          -41.03302001953125,
          -35.9658088684082,
          -36.88249588012695,
          -37.789241790771484,
          -38.703521728515625,
          -39.648597717285156,
          -40.562950134277344,
          -41.47572708129883,
          -42.39865493774414,
          -43.347721099853516,
          -44.27412796020508,
          -44.342220306396484,
          -45.225677490234375,
          -46.1599235534668,
          -47.131683349609375,
          -49.95125961303711,
          -50.959747314453125,
          -50.99205780029297
         ],
         "z": [
          6.758076190948486,
          7.924620628356934,
          9.439252853393555,
          15.627549171447754,
          51.54698181152344,
          56.77018737792969,
          62.51765060424805,
          63.55267333984375,
          64.33846282958984,
          65.28839874267578,
          66.17329406738281,
          67.2242202758789,
          68.16866302490234,
          69.43133544921875,
          83.51133728027344,
          70.42005157470703,
          105.2511978149414,
          77.23910522460938,
          78.95549011230469,
          80.66960144042969,
          82.28382110595703,
          84.1552734375,
          85.84809875488281,
          87.41532897949219,
          88.85601806640625,
          90.93077087402344,
          92.43851470947266,
          93.48980712890625,
          94.36133575439453,
          95.92927551269531,
          98.0828857421875,
          103.11470031738281,
          104.46824645996094,
          105.2511978149414
         ]
        },
        {
         "hovertemplate": "g4hit_trkid=58<br>x=%{x}<br>y=%{y}<br>z=%{z}<extra></extra>",
         "legendgroup": "58",
         "marker": {
          "color": "#FECB52",
          "opacity": 0.3,
          "size": 3,
          "symbol": "circle"
         },
         "mode": "markers",
         "name": "58",
         "scene": "scene",
         "showlegend": true,
         "type": "scatter3d",
         "x": [
          -1.5126043558120728,
          -2.070596694946289,
          -2.42315411567688,
          -12.081048965454102,
          -11.962783813476562,
          -12.01480770111084,
          -12.112964630126953,
          -12.166380882263184,
          -12.210043907165527,
          -12.238515853881836,
          -12.24649715423584,
          -12.249070167541504,
          -12.255941390991211,
          -12.248865127563477,
          -12.279383659362793,
          -12.185120582580566,
          -12.214014053344727,
          -12.045931816101074,
          -12.182766914367676
         ],
         "y": [
          -1.9485150575637817,
          -2.707834482192993,
          -3.200896978378296,
          -28.958881378173828,
          -29.008586883544922,
          -29.60205078125,
          -30.791263580322266,
          -31.384185791015625,
          -31.980897903442383,
          -32.583518981933594,
          -33.19410705566406,
          -33.80439376831055,
          -34.40608215332031,
          -35.012508392333984,
          -35.606170654296875,
          -36.84621047973633,
          -37.440425872802734,
          -37.49748229980469,
          -37.45103454589844
         ],
         "z": [
          8.82716178894043,
          11.206818580627441,
          12.733397483825684,
          81.91178131103516,
          83.47050476074219,
          84.80219268798828,
          87.74103546142578,
          89.31663513183594,
          90.71405792236328,
          92.191650390625,
          93.64698791503906,
          95.60598754882812,
          97.08768463134766,
          98.67691802978516,
          99.76338195800781,
          103.18585205078125,
          104.50064086914062,
          102.8121109008789,
          105.2511978149414
         ]
        },
        {
         "hovertemplate": "g4hit_trkid=74<br>x=%{x}<br>y=%{y}<br>z=%{z}<extra></extra>",
         "legendgroup": "74",
         "marker": {
          "color": "#636efa",
          "opacity": 0.3,
          "size": 3,
          "symbol": "circle"
         },
         "mode": "markers",
         "name": "74",
         "scene": "scene",
         "showlegend": true,
         "type": "scatter3d",
         "x": [
          -1.967836856842041
         ],
         "y": [
          -1.6525652408599854
         ],
         "z": [
          13.146265983581543
         ]
        },
        {
         "hovertemplate": "g4hit_trkid=76<br>x=%{x}<br>y=%{y}<br>z=%{z}<extra></extra>",
         "legendgroup": "76",
         "marker": {
          "color": "#EF553B",
          "opacity": 0.3,
          "size": 3,
          "symbol": "circle"
         },
         "mode": "markers",
         "name": "76",
         "scene": "scene",
         "showlegend": true,
         "type": "scatter3d",
         "x": [
          -1.3060513734817505,
          -1.5412479639053345,
          -1.9385056495666504,
          -3.5734786987304688
         ],
         "y": [
          -2.3924331665039062,
          -2.8696742057800293,
          -3.6777729988098145,
          -7.476553440093994
         ],
         "z": [
          3.747462034225464,
          3.9726099967956543,
          4.345907211303711,
          6.827549457550049
         ]
        },
        {
         "hovertemplate": "g4hit_trkid=68<br>x=%{x}<br>y=%{y}<br>z=%{z}<extra></extra>",
         "legendgroup": "68",
         "marker": {
          "color": "#00cc96",
          "opacity": 0.3,
          "size": 3,
          "symbol": "circle"
         },
         "mode": "markers",
         "name": "68",
         "scene": "scene",
         "showlegend": true,
         "type": "scatter3d",
         "x": [
          -0.8032026290893555,
          -1.136911153793335,
          -1.318244218826294,
          -2.74249005317688,
          -4.094738006591797,
          -16.295127868652344,
          -18.436656951904297,
          -18.907419204711914,
          -19.770479202270508,
          -20.24936866760254,
          -20.70250129699707,
          -21.12967872619629,
          -21.625579833984375,
          -22.088279724121094,
          -22.535552978515625,
          -23.098257064819336,
          -24.30182456970215,
          -27.153331756591797,
          -28.070240020751953,
          -28.944353103637695,
          -29.956880569458008,
          -30.914342880249023,
          -31.76959991455078,
          -32.8985710144043,
          -33.82493591308594,
          -34.845760345458984,
          -35.82826614379883,
          -36.88520050048828,
          -37.916351318359375,
          -38.99093246459961,
          -40.910274505615234,
          -40.7085075378418,
          -44.45404052734375,
          -45.80371856689453,
          -47.07192611694336,
          -48.22687530517578,
          -48.491241455078125,
          -49.456153869628906,
          -50.73409652709961,
          -52.08638381958008,
          -51.90287780761719,
          -53.292694091796875,
          -55.837337493896484,
          -57.04863739013672,
          -58.386741638183594,
          -58.63179016113281,
          -59.862083435058594,
          -60.1031379699707
         ],
         "y": [
          -2.419034242630005,
          -3.3191471099853516,
          -3.792508125305176,
          -7.196692943572998,
          -9.984624862670898,
          -26.808053970336914,
          -28.851295471191406,
          -29.224639892578125,
          -30.023759841918945,
          -30.391674041748047,
          -30.77680015563965,
          -31.17926597595215,
          -31.53581428527832,
          -31.914546966552734,
          -32.3035888671875,
          -32.603946685791016,
          -33.83877182006836,
          -35.54487609863281,
          -36.12310028076172,
          -36.730289459228516,
          -37.22639083862305,
          -37.76668930053711,
          -38.38901138305664,
          -38.77616500854492,
          -39.32132339477539,
          -39.78364562988281,
          -40.27956771850586,
          -40.71022033691406,
          -41.15471267700195,
          -41.538978576660156,
          -42.39000701904297,
          -42.58315658569336,
          -43.513572692871094,
          -43.69015121459961,
          -43.951839447021484,
          -44.33183670043945,
          -44.0372200012207,
          -44.60081481933594,
          -44.807472229003906,
          -44.929359436035156,
          -45.13860321044922,
          -45.21769714355469,
          -45.579254150390625,
          -45.822723388671875,
          -45.908199310302734,
          -45.602874755859375,
          -45.8161735534668,
          -45.48741912841797
         ],
         "z": [
          4.303996562957764,
          4.959328651428223,
          5.304360866546631,
          8.427549362182617,
          10.027549743652344,
          23.750350952148438,
          25.837148666381836,
          26.22820281982422,
          26.974172592163086,
          27.410860061645508,
          27.759899139404297,
          28.111297607421875,
          28.52261734008789,
          28.97718048095703,
          29.293210983276367,
          30.026758193969727,
          30.52051544189453,
          33.13053894042969,
          33.83803939819336,
          34.4689826965332,
          35.32128143310547,
          36.03943634033203,
          36.529476165771484,
          37.49557876586914,
          38.23015594482422,
          38.84977340698242,
          39.643009185791016,
          40.55194091796875,
          41.16046142578125,
          41.94147491455078,
          43.24238967895508,
          42.49919891357422,
          45.76154708862305,
          46.737510681152344,
          47.68983459472656,
          48.365013122558594,
          48.613006591796875,
          49.20182800292969,
          50.07912826538086,
          51.19325637817383,
          50.555198669433594,
          51.81584548950195,
          53.47090148925781,
          54.21179962158203,
          55.02010726928711,
          55.50539779663086,
          56.1749382019043,
          56.737396240234375
         ]
        },
        {
         "hovertemplate": "g4hit_trkid=41<br>x=%{x}<br>y=%{y}<br>z=%{z}<extra></extra>",
         "legendgroup": "41",
         "marker": {
          "color": "#ab63fa",
          "opacity": 0.3,
          "size": 3,
          "symbol": "circle"
         },
         "mode": "markers",
         "name": "41",
         "scene": "scene",
         "showlegend": true,
         "type": "scatter3d",
         "x": [
          0.44262492656707764,
          0.5071491599082947,
          0.5322354435920715,
          -19.635334014892578,
          -19.10277557373047,
          -19.371660232543945,
          -18.833215713500977,
          -19.819564819335938,
          -20.45864486694336,
          -20.765981674194336,
          -21.43189239501953,
          -21.99547576904297,
          -23.065549850463867,
          -22.495296478271484,
          -22.573974609375,
          -23.48400115966797,
          -24.19894027709961,
          -24.29350471496582,
          -25.403228759765625,
          -25.575603485107422,
          -26.263225555419922,
          -26.443328857421875,
          -26.521879196166992
         ],
         "y": [
          -2.5328304767608643,
          -3.3487911224365234,
          -4.144032955169678,
          -24.467449188232422,
          -24.894872665405273,
          -24.67906951904297,
          -25.092533111572266,
          -24.31958770751953,
          -24.540071487426758,
          -24.276453018188477,
          -24.453222274780273,
          -23.95713996887207,
          -23.724565505981445,
          -24.270463943481445,
          -24.195146560668945,
          -24.115785598754883,
          -23.39713478088379,
          -23.298351287841797,
          -22.9510440826416,
          -22.754487991333008,
          -22.837881088256836,
          -22.63251304626465,
          -22.542943954467773
         ],
         "z": [
          -3.629666566848755,
          -5.630289077758789,
          -7.564829349517822,
          -87.44609069824219,
          -85.34387969970703,
          -86.38548278808594,
          -84.33790588378906,
          -88.29119873046875,
          -89.04772186279297,
          -90.38359069824219,
          -91.33264923095703,
          -93.8031997680664,
          -96.5936050415039,
          -93.91381072998047,
          -94.7677993774414,
          -97.08338928222656,
          -97.94949340820312,
          -99.73919677734375,
          -102.28451538085938,
          -103.1312026977539,
          -104.02474212646484,
          -104.82720184326172,
          -105.2511978149414
         ]
        },
        {
         "hovertemplate": "g4hit_trkid=97<br>x=%{x}<br>y=%{y}<br>z=%{z}<extra></extra>",
         "legendgroup": "97",
         "marker": {
          "color": "#FFA15A",
          "opacity": 0.3,
          "size": 3,
          "symbol": "circle"
         },
         "mode": "markers",
         "name": "97",
         "scene": "scene",
         "showlegend": true,
         "type": "scatter3d",
         "x": [
          1.0296214818954468,
          1.6631300449371338,
          2.550200939178467
         ],
         "y": [
          -2.2341043949127197,
          -3.8941445350646973,
          -7.2194952964782715
         ],
         "z": [
          5.285257339477539,
          7.328882694244385,
          11.627549171447754
         ]
        },
        {
         "hovertemplate": "g4hit_trkid=6<br>x=%{x}<br>y=%{y}<br>z=%{z}<extra></extra>",
         "legendgroup": "6",
         "marker": {
          "color": "#19d3f3",
          "opacity": 0.3,
          "size": 3,
          "symbol": "circle"
         },
         "mode": "markers",
         "name": "6",
         "scene": "scene",
         "showlegend": true,
         "type": "scatter3d",
         "x": [
          0.3725813925266266,
          0.4743289053440094,
          1.0761077404022217
         ],
         "y": [
          -2.5684762001037598,
          -3.366241931915283,
          -31.355987548828125
         ],
         "z": [
          10.696441650390625,
          13.215606689453125,
          100.66336059570312
         ]
        },
        {
         "hovertemplate": "g4hit_trkid=51<br>x=%{x}<br>y=%{y}<br>z=%{z}<extra></extra>",
         "legendgroup": "51",
         "marker": {
          "color": "#FF6692",
          "opacity": 0.3,
          "size": 3,
          "symbol": "circle"
         },
         "mode": "markers",
         "name": "51",
         "scene": "scene",
         "showlegend": true,
         "type": "scatter3d",
         "x": [
          1.9211665391921997,
          2.733713150024414,
          3.595062494277954
         ],
         "y": [
          -1.5546720027923584,
          -1.9859522581100464,
          -2.3856401443481445
         ],
         "z": [
          -0.44834670424461365,
          -1.5895500183105469,
          -2.735758066177368
         ]
        },
        {
         "hovertemplate": "g4hit_trkid=84<br>x=%{x}<br>y=%{y}<br>z=%{z}<extra></extra>",
         "legendgroup": "84",
         "marker": {
          "color": "#B6E880",
          "opacity": 0.3,
          "size": 3,
          "symbol": "circle"
         },
         "mode": "markers",
         "name": "84",
         "scene": "scene",
         "showlegend": true,
         "type": "scatter3d",
         "x": [
          1.7324130535125732,
          2.2172985076904297,
          2.8940389156341553,
          5.554554462432861,
          8.054840087890625,
          27.149742126464844,
          27.736988067626953,
          28.345298767089844,
          28.85889434814453,
          28.930797576904297,
          29.537967681884766,
          29.315692901611328,
          30.13247299194336,
          30.778459548950195,
          31.361631393432617,
          31.96055030822754,
          32.55374526977539,
          33.189640045166016,
          33.816795349121094,
          34.43260955810547,
          35.07039260864258,
          35.67546081542969,
          36.36141586303711,
          38.103450775146484,
          38.26780700683594,
          39.33579635620117,
          41.6068229675293,
          42.730926513671875,
          43.84791564941406,
          45.04602813720703,
          46.183528900146484,
          47.30453872680664,
          48.457096099853516,
          50.8390998840332,
          50.721473693847656,
          51.93204116821289,
          53.20200729370117,
          54.277278900146484,
          38.79597854614258,
          39.79200744628906,
          39.336669921875,
          40.72499465942383,
          41.2242431640625,
          55.50579833984375,
          40.01982879638672,
          37.1405029296875,
          36.626548767089844,
          37.58707809448242,
          38.030731201171875,
          39.6236457824707,
          40.410152435302734,
          39.37613296508789,
          45.0390739440918,
          45.6496696472168,
          44.21059799194336,
          44.67243957519531,
          43.790611267089844,
          43.0273323059082,
          45.965999603271484,
          45.35911560058594,
          43.49028396606445,
          42.7606201171875,
          57.70706558227539,
          57.55588912963867,
          42.02642059326172,
          40.941551208496094,
          36.70648956298828,
          41.369407653808594,
          41.69709777832031,
          40.500640869140625,
          36.05577087402344,
          40.35890197753906,
          37.060157775878906,
          40.18834686279297,
          42.872596740722656,
          43.6016845703125,
          47.12516403198242,
          47.489200592041016,
          44.43708419799805,
          47.768943786621094,
          43.23188781738281,
          44.39615249633789,
          46.951622009277344,
          58.85810852050781,
          58.953880310058594,
          39.17143630981445,
          40.934627532958984,
          39.659461975097656,
          40.261558532714844,
          41.41242980957031,
          40.56590270996094,
          35.47626495361328,
          36.02029037475586,
          41.75395202636719,
          42.06538772583008,
          40.091636657714844,
          41.406150817871094,
          44.5779914855957,
          45.02056121826172,
          46.17613983154297,
          45.42403030395508,
          49.38910675048828,
          48.97303009033203,
          45.45660400390625,
          46.1417236328125,
          45.827247619628906,
          45.825775146484375,
          45.034305572509766,
          44.70167541503906,
          60.13653564453125,
          60.221900939941406,
          38.708030700683594,
          39.149112701416016,
          35.47269058227539,
          39.48460388183594,
          35.085670471191406,
          38.28645324707031,
          50.49755096435547,
          51.09126281738281,
          61.376678466796875,
          61.31663513183594,
          38.78534698486328,
          38.33218765258789,
          38.026973724365234,
          52.382286071777344,
          52.103553771972656,
          62.63521194458008,
          35.28556442260742,
          38.203887939453125,
          38.62350845336914,
          34.90192413330078,
          35.109188079833984,
          53.57998275756836,
          63.80605697631836,
          63.8788948059082,
          38.29060745239258,
          35.26343536376953,
          38.644046783447266,
          34.909908294677734,
          54.8997917175293,
          65.0281753540039,
          65.08401489257812,
          38.42671585083008,
          35.291038513183594,
          35.42542266845703,
          66.22698211669922,
          66.2944107055664,
          57.46773910522461,
          67.43103790283203,
          67.4637680053711,
          38.98249053955078,
          35.76634979248047,
          58.42939758300781,
          68.59120178222656,
          36.1265983581543,
          59.52837371826172,
          69.79981994628906,
          21.550273895263672,
          36.48627471923828,
          60.591915130615234,
          70.94629669189453,
          70.92915344238281,
          19.232017517089844,
          61.60796356201172,
          72.07105255126953,
          72.0530014038086,
          72.06018829345703,
          19.524747848510742,
          73.17434692382812,
          73.18604278564453,
          37.9827766418457,
          63.538291931152344,
          74.2706298828125,
          74.25836181640625,
          38.596073150634766,
          64.45590209960938,
          75.33414459228516,
          75.32164764404297
         ],
         "y": [
          -1.845014214515686,
          -2.3330132961273193,
          -2.988785982131958,
          -5.316518783569336,
          -7.239167213439941,
          -15.732043266296387,
          -15.855269432067871,
          -15.935615539550781,
          -16.188600540161133,
          -16.057538986206055,
          -16.13996124267578,
          -16.545114517211914,
          -16.245468139648438,
          -16.257139205932617,
          -16.383304595947266,
          -16.467044830322266,
          -16.55735969543457,
          -16.561092376708984,
          -16.58254051208496,
          -16.626991271972656,
          -16.62689781188965,
          -16.693138122558594,
          -16.559988021850586,
          -16.840547561645508,
          -16.467016220092773,
          -16.574092864990234,
          -16.397602081298828,
          -16.32308578491211,
          -16.266870498657227,
          -15.951868057250977,
          -15.776195526123047,
          -15.649107933044434,
          -15.429078102111816,
          -14.574118614196777,
          -14.97768783569336,
          -14.471875190734863,
          -13.674846649169922,
          -13.57475757598877,
          41.72560501098633,
          40.772117614746094,
          41.2080078125,
          39.84123229980469,
          39.31970977783203,
          -12.848397254943848,
          43.2424201965332,
          45.729705810546875,
          46.14219665527344,
          45.37129211425781,
          45.00373077392578,
          43.60678482055664,
          42.86876678466797,
          43.82384490966797,
          37.99042892456055,
          37.2402229309082,
          38.935123443603516,
          38.40849685668945,
          39.41402816772461,
          40.244510650634766,
          36.84608459472656,
          37.60224533081055,
          39.75648498535156,
          40.52312469482422,
          -11.85480785369873,
          -12.61483097076416,
          42.84024429321289,
          43.878780364990234,
          47.4847412109375,
          43.469200134277344,
          43.15550231933594,
          44.296852111816406,
          47.97346496582031,
          44.42115783691406,
          47.20089340209961,
          44.57072830200195,
          41.99262619018555,
          41.23101043701172,
          37.154510498046875,
          36.70093536376953,
          40.34074020385742,
          36.33470153808594,
          41.61730194091797,
          40.38741683959961,
          37.37074279785156,
          -11.691514015197754,
          -11.210034370422363,
          46.913116455078125,
          45.37543487548828,
          46.49372482299805,
          45.965702056884766,
          44.94672775268555,
          45.698795318603516,
          49.758750915527344,
          49.3598518371582,
          44.61979293823242,
          44.321659088134766,
          46.11471939086914,
          44.95273971557617,
          41.7976188659668,
          41.335304260253906,
          40.02159881591797,
          40.879215240478516,
          35.98039245605469,
          36.5478515625,
          40.842071533203125,
          40.06084442138672,
          40.41943359375,
          40.42111587524414,
          41.320945739746094,
          41.668418884277344,
          -10.887795448303223,
          -10.413411140441895,
          48.69174575805664,
          48.337738037109375,
          51.10785675048828,
          48.068477630615234,
          51.366455078125,
          49.030094146728516,
          36.3239860534668,
          35.49752426147461,
          -10.122401237487793,
          -10.512505531311035,
          50.03639602661133,
          50.38544845581055,
          50.6092414855957,
          35.540035247802734,
          35.957191467285156,
          -9.157275199890137,
          53.87175369262695,
          51.83989715576172,
          51.53221893310547,
          54.12809371948242,
          53.989601135253906,
          35.722225189208984,
          -8.76184368133545,
          -8.24044418334961,
          53.136688232421875,
          55.205970764160156,
          52.877532958984375,
          55.42451095581055,
          35.72166061401367,
          -7.823623180389404,
          -7.313708305358887,
          54.39726257324219,
          56.47648620605469,
          56.39493942260742,
          -6.9545392990112305,
          -6.33883810043335,
          35.772239685058594,
          -6.037483215332031,
          -5.629903316497803,
          56.67926788330078,
          58.75456237792969,
          36.302207946777344,
          -5.202419281005859,
          59.819210052490234,
          36.60588455200195,
          -3.5364394187927246,
          67.64134216308594,
          60.88420486450195,
          36.967952728271484,
          -2.2608120441436768,
          -3.0463638305664062,
          69.46943664550781,
          37.408287048339844,
          -1.0037273168563843,
          -1.8311946392059326,
          -1.5018963813781738,
          70.5268325805664,
          -0.7302248477935791,
          -0.19454392790794373,
          63.82585906982422,
          38.45667266845703,
          0.7782021760940552,
          1.3406598567962646,
          64.73695373535156,
          39.059234619140625,
          2.3279969692230225,
          2.9006118774414062
         ],
         "z": [
          1.6377960443496704,
          1.3776912689208984,
          1.0233999490737915,
          0.42754969000816345,
          -1.3724504709243774,
          -8.882804870605469,
          -9.162023544311523,
          -9.367687225341797,
          -10.833468437194824,
          -9.61829662322998,
          -9.802391052246094,
          -11.040555000305176,
          -10.048187255859375,
          -10.08735179901123,
          -10.442703247070312,
          -10.53796100616455,
          -10.859874725341797,
          -11.10339069366455,
          -11.165132522583008,
          -11.543272972106934,
          -11.799383163452148,
          -12.128969192504883,
          -12.367304801940918,
          -12.69585132598877,
          -13.000913619995117,
          -13.32028865814209,
          -14.120367050170898,
          -14.486421585083008,
          -14.791953086853027,
          -15.35672664642334,
          -15.70142936706543,
          -15.936726570129395,
          -16.34113311767578,
          -17.445680618286133,
          -17.225772857666016,
          -17.778461456298828,
          -18.322046279907227,
          -18.652772903442383,
          -70.20379638671875,
          -70.59168243408203,
          -70.38700103759766,
          -70.87933349609375,
          -71.06672668457031,
          -19.203889846801758,
          -70.15628814697266,
          -69.03282928466797,
          -68.74215698242188,
          -69.16453552246094,
          -69.3787841796875,
          -69.93805694580078,
          -70.22879791259766,
          -69.85603332519531,
          -72.21516418457031,
          -72.50689697265625,
          -71.8024673461914,
          -72.04932403564453,
          -71.65182495117188,
          -71.25021362304688,
          -72.61450958251953,
          -72.36516571044922,
          -71.4891586303711,
          -71.18074798583984,
          -20.0788516998291,
          -19.466148376464844,
          -103.81683349609375,
          -103.27999114990234,
          -68.53653717041016,
          -103.48416900634766,
          -103.60790252685547,
          -103.14079284667969,
          -68.26290130615234,
          -104.13567352294922,
          -68.56914520263672,
          -103.43955993652344,
          -104.12679290771484,
          -104.42129516601562,
          -72.90733337402344,
          -73.01029205322266,
          -105.2511978149414,
          -73.1148681640625,
          -104.30767059326172,
          -104.82720184326172,
          -72.17919921875,
          -20.25745391845703,
          -20.58485221862793,
          -102.14407348632812,
          -102.7054214477539,
          -102.3248519897461,
          -102.64999389648438,
          -103.16275787353516,
          -102.27488708496094,
          -67.62574768066406,
          -67.93113708496094,
          -103.6600112915039,
          -104.29641723632812,
          -101.1878662109375,
          -104.68586730957031,
          -104.47474670410156,
          -104.63123321533203,
          -105.2511978149414,
          -104.72920227050781,
          -73.59471893310547,
          -73.38597106933594,
          -105.2511978149414,
          -104.82720184326172,
          -105.2511978149414,
          -104.82720184326172,
          -105.2511978149414,
          -105.2511978149414,
          -20.87685203552246,
          -21.078367233276367,
          -101.50426483154297,
          -101.71001434326172,
          -67.36878204345703,
          -101.89887237548828,
          -67.25823211669922,
          -101.36825561523438,
          -73.77616119384766,
          -74.10563659667969,
          -21.429813385009766,
          -20.875202178955078,
          -101.13121795654297,
          -100.85302734375,
          -100.73957824707031,
          -74.4288330078125,
          -74.24557495117188,
          -22.100828170776367,
          -66.63480377197266,
          -100.31773376464844,
          -100.59957122802734,
          -66.42039489746094,
          -65.81919860839844,
          -74.69429016113281,
          -22.419631958007812,
          -22.710329055786133,
          -99.84342193603516,
          -66.21118927001953,
          -100.0804672241211,
          -66.0067367553711,
          -75.05728149414062,
          -22.924531936645508,
          -23.187414169311523,
          -99.35702514648438,
          -65.79609680175781,
          -66.66719818115234,
          -23.457632064819336,
          -23.701868057250977,
          -75.8732681274414,
          -23.981781005859375,
          -24.183687210083008,
          -98.45397186279297,
          -65.08850860595703,
          -76.04362487792969,
          -24.452922821044922,
          -64.81563568115234,
          -76.30924987792969,
          -25.305187225341797,
          -31.887624740600586,
          -64.4212875366211,
          -76.62727355957031,
          -25.862781524658203,
          -25.569133758544922,
          -13.170609474182129,
          -76.90711975097656,
          -26.48062515258789,
          -25.96320343017578,
          -26.270601272583008,
          -13.010992050170898,
          -26.72892951965332,
          -26.86616325378418,
          -63.487579345703125,
          -77.49410247802734,
          -27.37920379638672,
          -27.565921783447266,
          -63.113189697265625,
          -77.78643798828125,
          -28.066999435424805,
          -28.29003143310547
         ]
        },
        {
         "hovertemplate": "g4hit_trkid=59<br>x=%{x}<br>y=%{y}<br>z=%{z}<extra></extra>",
         "legendgroup": "59",
         "marker": {
          "color": "#FF97FF",
          "opacity": 0.3,
          "size": 3,
          "symbol": "circle"
         },
         "mode": "markers",
         "name": "59",
         "scene": "scene",
         "showlegend": true,
         "type": "scatter3d",
         "x": [
          1.5316946506500244,
          1.9226456880569458,
          2.336240768432617,
          4.954987049102783,
          6.1285319328308105,
          20.723012924194336,
          21.160011291503906,
          21.60568618774414,
          22.00885581970215,
          22.47945213317871,
          22.916994094848633,
          23.347625732421875,
          23.77945899963379,
          24.22682762145996,
          24.69939422607422,
          25.129575729370117,
          25.581497192382812,
          26.020206451416016,
          26.47617530822754,
          27.41709327697754,
          29.575969696044922,
          30.401216506958008,
          31.2509822845459,
          32.75494384765625,
          34.10765838623047,
          33.469879150390625,
          34.836212158203125,
          35.56476593017578,
          36.34879684448242,
          38.9474983215332,
          39.914772033691406,
          40.75314712524414,
          44.38239669799805,
          45.34469985961914,
          47.297752380371094,
          48.31676483154297,
          49.32209396362305,
          53.45564270019531,
          54.42597198486328,
          55.495487213134766,
          56.54738998413086,
          57.59054183959961,
          58.621986389160156
         ],
         "y": [
          -2.153761148452759,
          -2.6904537677764893,
          -3.254940986633301,
          -6.682709693908691,
          -8.156216621398926,
          -23.55337905883789,
          -23.930896759033203,
          -24.30080795288086,
          -24.707992553710938,
          -25.056047439575195,
          -25.433090209960938,
          -25.816192626953125,
          -26.198240280151367,
          -26.56666374206543,
          -26.911291122436523,
          -27.29128074645996,
          -27.65045738220215,
          -28.02228355407715,
          -28.377586364746094,
          -29.060449600219727,
          -30.770496368408203,
          -31.393447875976562,
          -31.99292755126953,
          -33.37910079956055,
          -33.469879150390625,
          -34.10765838623047,
          -34.184810638427734,
          -34.899742126464844,
          -35.556724548339844,
          -37.27005386352539,
          -37.735618591308594,
          -38.33583068847656,
          -40.403099060058594,
          -40.96967315673828,
          -42.07038497924805,
          -42.572296142578125,
          -43.08980941772461,
          -45.03188705444336,
          -45.58506393432617,
          -46.00519561767578,
          -46.447269439697266,
          -46.900245666503906,
          -47.3678092956543
         ],
         "z": [
          4.8472418785095215,
          5.42132043838501,
          6.026588439941406,
          10.027549743652344,
          11.627549171447754,
          29.332351684570312,
          29.843093872070312,
          30.532133102416992,
          30.78417205810547,
          31.326101303100586,
          31.776710510253906,
          32.285587310791016,
          32.733524322509766,
          33.207672119140625,
          33.857608795166016,
          34.36283493041992,
          34.78590774536133,
          35.24491500854492,
          35.76030349731445,
          37.01197814941406,
          39.0922737121582,
          39.97934341430664,
          40.95487594604492,
          42.480072021484375,
          43.580833435058594,
          43.404205322265625,
          44.33892822265625,
          45.22016143798828,
          46.015907287597656,
          48.622135162353516,
          49.856388092041016,
          50.540409088134766,
          54.223262786865234,
          55.02104187011719,
          56.84105682373047,
          57.86540603637695,
          58.8134880065918,
          62.85378646850586,
          63.56346130371094,
          64.69481658935547,
          65.71965026855469,
          66.69156646728516,
          67.47035217285156
         ]
        },
        {
         "hovertemplate": "g4hit_trkid=18<br>x=%{x}<br>y=%{y}<br>z=%{z}<extra></extra>",
         "legendgroup": "18",
         "marker": {
          "color": "#FECB52",
          "opacity": 0.3,
          "size": 3,
          "symbol": "circle"
         },
         "mode": "markers",
         "name": "18",
         "scene": "scene",
         "showlegend": true,
         "type": "scatter3d",
         "x": [
          1.5746707916259766,
          1.97268545627594,
          2.389192819595337,
          2.6101245880126953,
          4.857179164886475,
          5.908290386199951,
          16.402053833007812,
          16.63336753845215,
          16.821290969848633,
          17.06475067138672,
          17.284536361694336,
          17.54595947265625,
          17.746450424194336,
          17.95979881286621,
          18.184616088867188,
          18.81385612487793,
          19.018959045410156,
          19.246440887451172,
          19.427940368652344,
          20.030942916870117,
          20.37149429321289,
          22.319725036621094,
          22.579936981201172,
          22.84427261352539,
          23.172134399414062,
          23.421743392944336,
          23.693077087402344,
          23.932373046875,
          24.179180145263672,
          24.377389907836914,
          24.883684158325195,
          25.034727096557617,
          25.037246704101562,
          25.12900733947754,
          25.5827579498291,
          25.786378860473633,
          25.97463035583496,
          26.192977905273438,
          26.308185577392578,
          26.52488899230957,
          26.67139434814453,
          26.821109771728516,
          27.021337509155273,
          27.053014755249023
         ],
         "y": [
          -2.0876545906066895,
          -2.629751205444336,
          -3.2046561241149902,
          -3.5121254920959473,
          -6.739500522613525,
          -8.303948402404785,
          -27.41220474243164,
          -27.940876007080078,
          -28.495878219604492,
          -29.01717758178711,
          -29.552845001220703,
          -30.06324577331543,
          -30.610620498657227,
          -31.149126052856445,
          -31.67817497253418,
          -33.29012680053711,
          -33.829994201660156,
          -34.357582092285156,
          -34.910396575927734,
          -36.527164459228516,
          -37.50450897216797,
          -43.408504486083984,
          -44.418212890625,
          -45.42588424682617,
          -46.40222930908203,
          -47.41716384887695,
          -48.421382904052734,
          -49.44140625,
          -50.45772171020508,
          -51.49800491333008,
          -53.41261291503906,
          -53.339141845703125,
          -54.543617248535156,
          -54.50324249267578,
          -56.70072937011719,
          -57.80970764160156,
          -58.925445556640625,
          -60.0279426574707,
          -61.17582321166992,
          -62.2790412902832,
          -63.413150787353516,
          -64.54584503173828,
          -65.64877319335938,
          -65.6364517211914
         ],
         "z": [
          6.2751288414001465,
          7.233810901641846,
          8.246747970581055,
          8.787688255310059,
          13.627549171447754,
          17.62755012512207,
          48.09519958496094,
          48.842464447021484,
          49.88114929199219,
          50.86859130859375,
          51.41989517211914,
          52.507652282714844,
          53.122467041015625,
          53.971290588378906,
          54.84687042236328,
          57.22708511352539,
          58.252647399902344,
          58.99922180175781,
          59.8194580078125,
          62.300621032714844,
          63.859989166259766,
          72.66944885253906,
          74.08025360107422,
          75.8110580444336,
          77.04019927978516,
          78.6467056274414,
          80.20443725585938,
          81.6584701538086,
          83.23065185546875,
          85.07025909423828,
          87.5448226928711,
          86.23249816894531,
          89.52876281738281,
          88.57386779785156,
          92.1891098022461,
          93.72686004638672,
          95.38094329833984,
          97.00603485107422,
          99.0035171508789,
          100.38137817382812,
          102.14599609375,
          103.83660125732422,
          105.2511978149414,
          104.82720184326172
         ]
        },
        {
         "hovertemplate": "g4hit_trkid=16<br>x=%{x}<br>y=%{y}<br>z=%{z}<extra></extra>",
         "legendgroup": "16",
         "marker": {
          "color": "#636efa",
          "opacity": 0.3,
          "size": 3,
          "symbol": "circle"
         },
         "mode": "markers",
         "name": "16",
         "scene": "scene",
         "showlegend": true,
         "type": "scatter3d",
         "x": [
          1.7900402545928955,
          2.2939536571502686,
          2.9586405754089355,
          5.582026481628418,
          28.893030166625977,
          24.782079696655273,
          25.267684936523438,
          25.743579864501953,
          26.731428146362305,
          26.566614151000977,
          27.199506759643555,
          27.687219619750977,
          28.189733505249023,
          28.673383712768555,
          29.152620315551758,
          29.664180755615234,
          30.137235641479492,
          30.643552780151367,
          31.14630889892578,
          33.178348541259766,
          33.058650970458984,
          33.76634216308594,
          34.93043899536133,
          35.83792495727539,
          36.71465301513672,
          36.73661804199219
         ],
         "y": [
          -1.7563716173171997,
          -2.240023612976074,
          -2.8697056770324707,
          -5.288836479187012,
          -12.230707168579102,
          -20.157106399536133,
          -20.46585464477539,
          -20.786697387695312,
          -21.38345718383789,
          -21.58881187438965,
          -21.714038848876953,
          -22.020156860351562,
          -22.30783462524414,
          -22.619016647338867,
          -22.935697555541992,
          -23.212100982666016,
          -23.536483764648438,
          -23.819421768188477,
          -24.10679817199707,
          -25.202531814575195,
          -25.36577796936035,
          -26.114727020263672,
          -26.26520538330078,
          -26.753660202026367,
          -27.284069061279297,
          -27.254114151000977
         ],
         "z": [
          8.126864433288574,
          9.680970191955566,
          11.718769073486328,
          19.62755012512207,
          33.1107177734375,
          73.9357681274414,
          75.11752319335938,
          76.2853012084961,
          79.26483917236328,
          82.12481689453125,
          80.1273422241211,
          81.52867126464844,
          82.9541015625,
          84.03671264648438,
          85.4132080078125,
          86.69112396240234,
          88.00971984863281,
          89.21775817871094,
          90.58465576171875,
          38.60861587524414,
          93.6568603515625,
          99.44463348388672,
          100.24141693115234,
          102.81572723388672,
          104.19815063476562,
          105.2511978149414
         ]
        },
        {
         "hovertemplate": "g4hit_trkid=50<br>x=%{x}<br>y=%{y}<br>z=%{z}<extra></extra>",
         "legendgroup": "50",
         "marker": {
          "color": "#EF553B",
          "opacity": 0.3,
          "size": 3,
          "symbol": "circle"
         },
         "mode": "markers",
         "name": "50",
         "scene": "scene",
         "showlegend": true,
         "type": "scatter3d",
         "x": [
          2.3933701515197754,
          2.8677093982696533,
          3.6680350303649902,
          7.208246231079102,
          8.864740371704102,
          26.390380859375,
          26.806928634643555,
          27.227405548095703,
          27.723783493041992,
          27.366153717041016,
          28.14234161376953,
          29.02368927001953,
          30.0190486907959,
          29.927997589111328,
          30.41799545288086,
          30.589672088623047,
          31.241518020629883,
          32.56282424926758,
          32.97913360595703,
          34.297607421875,
          35.054988861083984,
          35.816192626953125,
          36.575992584228516,
          37.32101821899414,
          38.08898162841797,
          38.81969451904297,
          40.32256317138672,
          41.042545318603516,
          41.759674072265625,
          42.482704162597656,
          43.218719482421875,
          43.92403030395508,
          44.65999221801758,
          45.34587478637695,
          45.43118667602539,
          46.77468490600586,
          46.690032958984375,
          48.59929656982422,
          48.919403076171875,
          49.67609786987305,
          50.38665008544922,
          51.12813186645508,
          51.806129455566406,
          52.56146240234375,
          53.27495574951172,
          54.672943115234375,
          55.38047790527344,
          56.059329986572266,
          56.723243713378906,
          57.42088317871094
         ],
         "y": [
          -1.2883353233337402,
          -1.547674298286438,
          -1.991148591041565,
          -4.014353275299072,
          -5.001164436340332,
          -16.97211265563965,
          -17.378215789794922,
          -17.778440475463867,
          -18.065073013305664,
          -18.60030174255371,
          -18.468170166015625,
          -19.208166122436523,
          -19.777528762817383,
          -19.91379737854004,
          -20.20997428894043,
          -19.95304298400879,
          -21.03651237487793,
          -22.147579193115234,
          -22.554039001464844,
          -23.65422248840332,
          -24.357872009277344,
          -25.055801391601562,
          -25.74706268310547,
          -26.45709228515625,
          -27.135831832885742,
          -27.865379333496094,
          -29.2679500579834,
          -30.012128829956055,
          -30.76019859313965,
          -31.500225067138672,
          -32.222537994384766,
          -32.98672866821289,
          -33.709110260009766,
          -34.49979782104492,
          -34.38344955444336,
          -35.83538055419922,
          -35.94396209716797,
          -38.82321548461914,
          -38.424373626708984,
          -39.2342643737793,
          -40.101654052734375,
          -40.930503845214844,
          -41.83845520019531,
          -42.650047302246094,
          -43.513771057128906,
          -45.27734375,
          -46.148494720458984,
          -47.0545654296875,
          -47.961387634277344,
          -48.82975769042969
         ],
         "z": [
          -0.27105480432510376,
          -0.8414853811264038,
          -1.805925965309143,
          -6.172450542449951,
          -7.7724504470825195,
          -29.975664138793945,
          -31.05535888671875,
          -31.60741424560547,
          -32.24137496948242,
          -33.023094177246094,
          -32.81153106689453,
          -34.45950698852539,
          -36.09349060058594,
          -35.12812423706055,
          -35.96846008300781,
          -37.11282730102539,
          -36.98250961303711,
          -38.86724090576172,
          -39.613094329833984,
          -40.973209381103516,
          -42.27368927001953,
          -43.302040100097656,
          -44.265865325927734,
          -45.576786041259766,
          -46.52121353149414,
          -47.58302307128906,
          -49.495201110839844,
          -50.87287902832031,
          -52.039913177490234,
          -53.112701416015625,
          -54.02564239501953,
          -55.22582244873047,
          -56.12861251831055,
          -57.56803894042969,
          -56.4911994934082,
          -58.62946319580078,
          -59.60475540161133,
          -61.91404342651367,
          -62.933589935302734,
          -63.97456741333008,
          -65.1825180053711,
          -66.15620422363281,
          -67.71297454833984,
          -68.56559753417969,
          -69.74209594726562,
          -72.21578979492188,
          -73.22076416015625,
          -74.41301727294922,
          -75.71253204345703,
          -76.86288452148438
         ]
        },
        {
         "hovertemplate": "g4hit_trkid=45<br>x=%{x}<br>y=%{y}<br>z=%{z}<extra></extra>",
         "legendgroup": "45",
         "marker": {
          "color": "#00cc96",
          "opacity": 0.3,
          "size": 3,
          "symbol": "circle"
         },
         "mode": "markers",
         "name": "45",
         "scene": "scene",
         "showlegend": true,
         "type": "scatter3d",
         "x": [
          2.4195311069488525,
          3.3162150382995605,
          3.7999236583709717
         ],
         "y": [
          -0.7938076853752136,
          -1.1064599752426147,
          -1.2781562805175781
         ],
         "z": [
          7.1211395263671875,
          8.823820114135742,
          9.743836402893066
         ]
        }
       ],
       "layout": {
        "height": 800,
        "legend": {
         "title": {
          "text": "g4hit_trkid"
         },
         "tracegroupgap": 0,
         "traceorder": "normal"
        },
        "margin": {
         "t": 60
        },
        "scene": {
         "aspectmode": "auto",
         "aspectratio": {
          "x": 0.9027317336875652,
          "y": 0.858757220009535,
          "z": 1.2899440960076087
         },
         "camera": {
          "center": {
           "x": 0,
           "y": 0,
           "z": 0
          },
          "eye": {
           "x": 0.053690536485069176,
           "y": 0.8235968936131091,
           "z": 1.5497270858990109
          },
          "projection": {
           "type": "perspective"
          },
          "up": {
           "x": 0.9757336532417532,
           "y": 0.17753808046466757,
           "z": -0.12815641972380368
          }
         },
         "domain": {
          "x": [
           0,
           1
          ],
          "y": [
           0,
           1
          ]
         },
         "xaxis": {
          "title": {
           "text": "x"
          },
          "type": "linear"
         },
         "yaxis": {
          "title": {
           "text": "y"
          },
          "type": "linear"
         },
         "zaxis": {
          "title": {
           "text": "z"
          },
          "type": "linear"
         }
        },
        "template": {
         "data": {
          "bar": [
           {
            "error_x": {
             "color": "#2a3f5f"
            },
            "error_y": {
             "color": "#2a3f5f"
            },
            "marker": {
             "line": {
              "color": "#E5ECF6",
              "width": 0.5
             },
             "pattern": {
              "fillmode": "overlay",
              "size": 10,
              "solidity": 0.2
             }
            },
            "type": "bar"
           }
          ],
          "barpolar": [
           {
            "marker": {
             "line": {
              "color": "#E5ECF6",
              "width": 0.5
             },
             "pattern": {
              "fillmode": "overlay",
              "size": 10,
              "solidity": 0.2
             }
            },
            "type": "barpolar"
           }
          ],
          "carpet": [
           {
            "aaxis": {
             "endlinecolor": "#2a3f5f",
             "gridcolor": "white",
             "linecolor": "white",
             "minorgridcolor": "white",
             "startlinecolor": "#2a3f5f"
            },
            "baxis": {
             "endlinecolor": "#2a3f5f",
             "gridcolor": "white",
             "linecolor": "white",
             "minorgridcolor": "white",
             "startlinecolor": "#2a3f5f"
            },
            "type": "carpet"
           }
          ],
          "choropleth": [
           {
            "colorbar": {
             "outlinewidth": 0,
             "ticks": ""
            },
            "type": "choropleth"
           }
          ],
          "contour": [
           {
            "colorbar": {
             "outlinewidth": 0,
             "ticks": ""
            },
            "colorscale": [
             [
              0,
              "#0d0887"
             ],
             [
              0.1111111111111111,
              "#46039f"
             ],
             [
              0.2222222222222222,
              "#7201a8"
             ],
             [
              0.3333333333333333,
              "#9c179e"
             ],
             [
              0.4444444444444444,
              "#bd3786"
             ],
             [
              0.5555555555555556,
              "#d8576b"
             ],
             [
              0.6666666666666666,
              "#ed7953"
             ],
             [
              0.7777777777777778,
              "#fb9f3a"
             ],
             [
              0.8888888888888888,
              "#fdca26"
             ],
             [
              1,
              "#f0f921"
             ]
            ],
            "type": "contour"
           }
          ],
          "contourcarpet": [
           {
            "colorbar": {
             "outlinewidth": 0,
             "ticks": ""
            },
            "type": "contourcarpet"
           }
          ],
          "heatmap": [
           {
            "colorbar": {
             "outlinewidth": 0,
             "ticks": ""
            },
            "colorscale": [
             [
              0,
              "#0d0887"
             ],
             [
              0.1111111111111111,
              "#46039f"
             ],
             [
              0.2222222222222222,
              "#7201a8"
             ],
             [
              0.3333333333333333,
              "#9c179e"
             ],
             [
              0.4444444444444444,
              "#bd3786"
             ],
             [
              0.5555555555555556,
              "#d8576b"
             ],
             [
              0.6666666666666666,
              "#ed7953"
             ],
             [
              0.7777777777777778,
              "#fb9f3a"
             ],
             [
              0.8888888888888888,
              "#fdca26"
             ],
             [
              1,
              "#f0f921"
             ]
            ],
            "type": "heatmap"
           }
          ],
          "heatmapgl": [
           {
            "colorbar": {
             "outlinewidth": 0,
             "ticks": ""
            },
            "colorscale": [
             [
              0,
              "#0d0887"
             ],
             [
              0.1111111111111111,
              "#46039f"
             ],
             [
              0.2222222222222222,
              "#7201a8"
             ],
             [
              0.3333333333333333,
              "#9c179e"
             ],
             [
              0.4444444444444444,
              "#bd3786"
             ],
             [
              0.5555555555555556,
              "#d8576b"
             ],
             [
              0.6666666666666666,
              "#ed7953"
             ],
             [
              0.7777777777777778,
              "#fb9f3a"
             ],
             [
              0.8888888888888888,
              "#fdca26"
             ],
             [
              1,
              "#f0f921"
             ]
            ],
            "type": "heatmapgl"
           }
          ],
          "histogram": [
           {
            "marker": {
             "pattern": {
              "fillmode": "overlay",
              "size": 10,
              "solidity": 0.2
             }
            },
            "type": "histogram"
           }
          ],
          "histogram2d": [
           {
            "colorbar": {
             "outlinewidth": 0,
             "ticks": ""
            },
            "colorscale": [
             [
              0,
              "#0d0887"
             ],
             [
              0.1111111111111111,
              "#46039f"
             ],
             [
              0.2222222222222222,
              "#7201a8"
             ],
             [
              0.3333333333333333,
              "#9c179e"
             ],
             [
              0.4444444444444444,
              "#bd3786"
             ],
             [
              0.5555555555555556,
              "#d8576b"
             ],
             [
              0.6666666666666666,
              "#ed7953"
             ],
             [
              0.7777777777777778,
              "#fb9f3a"
             ],
             [
              0.8888888888888888,
              "#fdca26"
             ],
             [
              1,
              "#f0f921"
             ]
            ],
            "type": "histogram2d"
           }
          ],
          "histogram2dcontour": [
           {
            "colorbar": {
             "outlinewidth": 0,
             "ticks": ""
            },
            "colorscale": [
             [
              0,
              "#0d0887"
             ],
             [
              0.1111111111111111,
              "#46039f"
             ],
             [
              0.2222222222222222,
              "#7201a8"
             ],
             [
              0.3333333333333333,
              "#9c179e"
             ],
             [
              0.4444444444444444,
              "#bd3786"
             ],
             [
              0.5555555555555556,
              "#d8576b"
             ],
             [
              0.6666666666666666,
              "#ed7953"
             ],
             [
              0.7777777777777778,
              "#fb9f3a"
             ],
             [
              0.8888888888888888,
              "#fdca26"
             ],
             [
              1,
              "#f0f921"
             ]
            ],
            "type": "histogram2dcontour"
           }
          ],
          "mesh3d": [
           {
            "colorbar": {
             "outlinewidth": 0,
             "ticks": ""
            },
            "type": "mesh3d"
           }
          ],
          "parcoords": [
           {
            "line": {
             "colorbar": {
              "outlinewidth": 0,
              "ticks": ""
             }
            },
            "type": "parcoords"
           }
          ],
          "pie": [
           {
            "automargin": true,
            "type": "pie"
           }
          ],
          "scatter": [
           {
            "fillpattern": {
             "fillmode": "overlay",
             "size": 10,
             "solidity": 0.2
            },
            "type": "scatter"
           }
          ],
          "scatter3d": [
           {
            "line": {
             "colorbar": {
              "outlinewidth": 0,
              "ticks": ""
             }
            },
            "marker": {
             "colorbar": {
              "outlinewidth": 0,
              "ticks": ""
             }
            },
            "type": "scatter3d"
           }
          ],
          "scattercarpet": [
           {
            "marker": {
             "colorbar": {
              "outlinewidth": 0,
              "ticks": ""
             }
            },
            "type": "scattercarpet"
           }
          ],
          "scattergeo": [
           {
            "marker": {
             "colorbar": {
              "outlinewidth": 0,
              "ticks": ""
             }
            },
            "type": "scattergeo"
           }
          ],
          "scattergl": [
           {
            "marker": {
             "colorbar": {
              "outlinewidth": 0,
              "ticks": ""
             }
            },
            "type": "scattergl"
           }
          ],
          "scattermapbox": [
           {
            "marker": {
             "colorbar": {
              "outlinewidth": 0,
              "ticks": ""
             }
            },
            "type": "scattermapbox"
           }
          ],
          "scatterpolar": [
           {
            "marker": {
             "colorbar": {
              "outlinewidth": 0,
              "ticks": ""
             }
            },
            "type": "scatterpolar"
           }
          ],
          "scatterpolargl": [
           {
            "marker": {
             "colorbar": {
              "outlinewidth": 0,
              "ticks": ""
             }
            },
            "type": "scatterpolargl"
           }
          ],
          "scatterternary": [
           {
            "marker": {
             "colorbar": {
              "outlinewidth": 0,
              "ticks": ""
             }
            },
            "type": "scatterternary"
           }
          ],
          "surface": [
           {
            "colorbar": {
             "outlinewidth": 0,
             "ticks": ""
            },
            "colorscale": [
             [
              0,
              "#0d0887"
             ],
             [
              0.1111111111111111,
              "#46039f"
             ],
             [
              0.2222222222222222,
              "#7201a8"
             ],
             [
              0.3333333333333333,
              "#9c179e"
             ],
             [
              0.4444444444444444,
              "#bd3786"
             ],
             [
              0.5555555555555556,
              "#d8576b"
             ],
             [
              0.6666666666666666,
              "#ed7953"
             ],
             [
              0.7777777777777778,
              "#fb9f3a"
             ],
             [
              0.8888888888888888,
              "#fdca26"
             ],
             [
              1,
              "#f0f921"
             ]
            ],
            "type": "surface"
           }
          ],
          "table": [
           {
            "cells": {
             "fill": {
              "color": "#EBF0F8"
             },
             "line": {
              "color": "white"
             }
            },
            "header": {
             "fill": {
              "color": "#C8D4E3"
             },
             "line": {
              "color": "white"
             }
            },
            "type": "table"
           }
          ]
         },
         "layout": {
          "annotationdefaults": {
           "arrowcolor": "#2a3f5f",
           "arrowhead": 0,
           "arrowwidth": 1
          },
          "autotypenumbers": "strict",
          "coloraxis": {
           "colorbar": {
            "outlinewidth": 0,
            "ticks": ""
           }
          },
          "colorscale": {
           "diverging": [
            [
             0,
             "#8e0152"
            ],
            [
             0.1,
             "#c51b7d"
            ],
            [
             0.2,
             "#de77ae"
            ],
            [
             0.3,
             "#f1b6da"
            ],
            [
             0.4,
             "#fde0ef"
            ],
            [
             0.5,
             "#f7f7f7"
            ],
            [
             0.6,
             "#e6f5d0"
            ],
            [
             0.7,
             "#b8e186"
            ],
            [
             0.8,
             "#7fbc41"
            ],
            [
             0.9,
             "#4d9221"
            ],
            [
             1,
             "#276419"
            ]
           ],
           "sequential": [
            [
             0,
             "#0d0887"
            ],
            [
             0.1111111111111111,
             "#46039f"
            ],
            [
             0.2222222222222222,
             "#7201a8"
            ],
            [
             0.3333333333333333,
             "#9c179e"
            ],
            [
             0.4444444444444444,
             "#bd3786"
            ],
            [
             0.5555555555555556,
             "#d8576b"
            ],
            [
             0.6666666666666666,
             "#ed7953"
            ],
            [
             0.7777777777777778,
             "#fb9f3a"
            ],
            [
             0.8888888888888888,
             "#fdca26"
            ],
            [
             1,
             "#f0f921"
            ]
           ],
           "sequentialminus": [
            [
             0,
             "#0d0887"
            ],
            [
             0.1111111111111111,
             "#46039f"
            ],
            [
             0.2222222222222222,
             "#7201a8"
            ],
            [
             0.3333333333333333,
             "#9c179e"
            ],
            [
             0.4444444444444444,
             "#bd3786"
            ],
            [
             0.5555555555555556,
             "#d8576b"
            ],
            [
             0.6666666666666666,
             "#ed7953"
            ],
            [
             0.7777777777777778,
             "#fb9f3a"
            ],
            [
             0.8888888888888888,
             "#fdca26"
            ],
            [
             1,
             "#f0f921"
            ]
           ]
          },
          "colorway": [
           "#636efa",
           "#EF553B",
           "#00cc96",
           "#ab63fa",
           "#FFA15A",
           "#19d3f3",
           "#FF6692",
           "#B6E880",
           "#FF97FF",
           "#FECB52"
          ],
          "font": {
           "color": "#2a3f5f"
          },
          "geo": {
           "bgcolor": "white",
           "lakecolor": "white",
           "landcolor": "#E5ECF6",
           "showlakes": true,
           "showland": true,
           "subunitcolor": "white"
          },
          "hoverlabel": {
           "align": "left"
          },
          "hovermode": "closest",
          "mapbox": {
           "style": "light"
          },
          "paper_bgcolor": "white",
          "plot_bgcolor": "#E5ECF6",
          "polar": {
           "angularaxis": {
            "gridcolor": "white",
            "linecolor": "white",
            "ticks": ""
           },
           "bgcolor": "#E5ECF6",
           "radialaxis": {
            "gridcolor": "white",
            "linecolor": "white",
            "ticks": ""
           }
          },
          "scene": {
           "xaxis": {
            "backgroundcolor": "#E5ECF6",
            "gridcolor": "white",
            "gridwidth": 2,
            "linecolor": "white",
            "showbackground": true,
            "ticks": "",
            "zerolinecolor": "white"
           },
           "yaxis": {
            "backgroundcolor": "#E5ECF6",
            "gridcolor": "white",
            "gridwidth": 2,
            "linecolor": "white",
            "showbackground": true,
            "ticks": "",
            "zerolinecolor": "white"
           },
           "zaxis": {
            "backgroundcolor": "#E5ECF6",
            "gridcolor": "white",
            "gridwidth": 2,
            "linecolor": "white",
            "showbackground": true,
            "ticks": "",
            "zerolinecolor": "white"
           }
          },
          "shapedefaults": {
           "line": {
            "color": "#2a3f5f"
           }
          },
          "ternary": {
           "aaxis": {
            "gridcolor": "white",
            "linecolor": "white",
            "ticks": ""
           },
           "baxis": {
            "gridcolor": "white",
            "linecolor": "white",
            "ticks": ""
           },
           "bgcolor": "#E5ECF6",
           "caxis": {
            "gridcolor": "white",
            "linecolor": "white",
            "ticks": ""
           }
          },
          "title": {
           "x": 0.05
          },
          "xaxis": {
           "automargin": true,
           "gridcolor": "white",
           "linecolor": "white",
           "ticks": "",
           "title": {
            "standoff": 15
           },
           "zerolinecolor": "white",
           "zerolinewidth": 2
          },
          "yaxis": {
           "automargin": true,
           "gridcolor": "white",
           "linecolor": "white",
           "ticks": "",
           "title": {
            "standoff": 15
           },
           "zerolinecolor": "white",
           "zerolinewidth": 2
          }
         }
        },
        "title": {
         "text": "EventID=0"
        },
        "width": 800
       }
      },
      "image/png": "[encoded data removed]",
      "text/html": [
       "<div>                            <div id=\"7ccfad29-4b91-4ac5-a818-b71d7568a85b\" class=\"plotly-graph-div\" style=\"height:800px; width:800px;\"></div>            <script type=\"text/javascript\">                require([\"plotly\"], function(Plotly) {                    window.PLOTLYENV=window.PLOTLYENV || {};                                    if (document.getElementById(\"7ccfad29-4b91-4ac5-a818-b71d7568a85b\")) {                    Plotly.newPlot(                        \"7ccfad29-4b91-4ac5-a818-b71d7568a85b\",                        [{\"hovertemplate\":\"g4hit_trkid=87<br>x=%{x}<br>y=%{y}<br>z=%{z}<extra></extra>\",\"legendgroup\":\"87\",\"marker\":{\"color\":\"#636efa\",\"opacity\":0.3,\"symbol\":\"circle\",\"size\":3},\"mode\":\"markers\",\"name\":\"87\",\"scene\":\"scene\",\"showlegend\":true,\"x\":[2.160874128341675,3.038215160369873,3.6285295486450195,7.088272571563721,8.819029808044434,28.774059295654297,29.333086013793945,29.879350662231445,30.99622917175293,31.519372940063477,32.07846450805664,35.93791580200195,37.05207443237305,38.69146728515625,39.70396423339844,40.703800201416016,41.71168899536133,42.6948356628418,45.726200103759766,47.74467086791992,48.76852798461914,49.777339935302734,50.78950500488281,51.799705505371094,52.81702423095703,56.88407516479492,57.99726867675781,59.09248352050781,60.204444885253906,61.31666564941406,62.44076156616211,63.545654296875,64.6455307006836,65.76863098144531,66.8960189819336,68.0078125,69.12098693847656,72.48820495605469],\"y\":[1.1735187768936157,1.635972023010254,1.9428348541259766,3.686461925506592,4.515357494354248,12.501090049743652,12.650772094726562,12.82945442199707,13.131484985351562,13.362716674804688,13.512250900268555,14.659457206726074,14.950623512268066,15.446080207824707,15.658562660217285,15.903599739074707,16.127941131591797,16.415895462036133,17.069091796875,17.510831832885742,17.68692970275879,17.890363693237305,18.08392333984375,18.283273696899414,18.461641311645508,19.110355377197266,19.243968963623047,19.430553436279297,19.567798614501953,19.704282760620117,19.8057918548584,19.953144073486328,20.100147247314453,20.167449951171875,20.22002601623535,20.326148986816406,20.427507400512695,20.636558532714844],\"z\":[1.5408166646957397,1.1194045543670654,0.8348019123077393,-1.3724504709243774,-1.3724504709243774,-10.711257934570312,-11.23381233215332,-11.321070671081543,-11.771672248840332,-12.092812538146973,-12.361124992370605,-13.921601295471191,-14.582077980041504,-15.093109130859375,-15.655288696289062,-16.165843963623047,-16.58316421508789,-17.015491485595703,-18.336015701293945,-19.21613311767578,-19.599803924560547,-20.07503890991211,-20.56188201904297,-20.8630313873291,-21.309593200683594,-23.104984283447266,-23.69737434387207,-24.073070526123047,-24.538711547851562,-24.995820999145508,-25.524686813354492,-25.94768714904785,-26.46082878112793,-26.997446060180664,-27.421913146972656,-27.96771812438965,-28.49677276611328,-29.884742736816406],\"type\":\"scatter3d\"},{\"hovertemplate\":\"g4hit_trkid=66<br>x=%{x}<br>y=%{y}<br>z=%{z}<extra></extra>\",\"legendgroup\":\"66\",\"marker\":{\"color\":\"#EF553B\",\"opacity\":0.3,\"symbol\":\"circle\",\"size\":3},\"mode\":\"markers\",\"name\":\"66\",\"scene\":\"scene\",\"showlegend\":true,\"x\":[2.642641067504883,3.4544570446014404,4.212275981903076,7.527457237243652,9.948700904846191,30.894567489624023,31.442792892456055,32.00090408325195,32.54747009277344,33.63954544067383,34.21624755859375,34.636207580566406,34.754180908203125,36.94926071166992,37.50290298461914,38.0502815246582,38.591552734375,39.13484191894531,40.77629089355469,41.74134063720703,42.72306823730469,43.68759536743164,44.659236907958984,45.622901916503906,46.57162094116211,47.527587890625,48.489200592041016,49.458526611328125,50.39979553222656,51.35041046142578,52.31221008300781,53.254905700683594,54.20366287231445,57.03314971923828,58.895484924316406,60.947486877441406,61.94271469116211,62.938751220703125,63.936370849609375,64.9312744140625,65.89930725097656,66.88327026367188,67.8809814453125,68.8437728881836,69.83299255371094,70.78788757324219],\"y\":[0.22684749960899353,0.30841928720474243,0.3892897069454193,0.7845435738563538,1.111668586730957,5.4900922775268555,5.665777206420898,5.791767597198486,5.975796699523926,6.349180698394775,6.381705284118652,7.202226161956787,6.609125137329102,7.300944805145264,7.449399471282959,7.629342079162598,7.839992046356201,8.040488243103027,8.540736198425293,8.92087173461914,9.217145919799805,9.599912643432617,9.938630104064941,10.294626235961914,10.711716651916504,11.099197387695312,11.463584899902344,11.796460151672363,12.244002342224121,12.653336524963379,13.016965866088867,13.458663940429688,13.875608444213867,14.777079582214355,16.304710388183594,17.1055908203125,17.611608505249023,18.11484718322754,18.6126651763916,19.119781494140625,19.719120025634766,20.2637882232666,20.76127052307129,21.378568649291992,21.905200958251953,22.519800186157227],\"z\":[4.725895881652832,5.39013147354126,6.012455940246582,8.427549362182617,10.027549743652344,27.778305053710938,28.54451560974121,28.960241317749023,29.537445068359375,30.40152359008789,30.94520378112793,30.705718994140625,31.349843978881836,33.20432662963867,33.60845184326172,34.204444885253906,34.669334411621094,35.36636734008789,36.46171188354492,37.58932113647461,38.10599136352539,39.13009262084961,39.905452728271484,40.64807891845703,41.75267028808594,42.5022087097168,43.429935455322266,43.991764068603516,45.020233154296875,45.90824508666992,46.5740852355957,47.57984924316406,48.44123458862305,50.798213958740234,52.74949264526367,54.61907958984375,55.366302490234375,56.42084884643555,57.16429901123047,58.098297119140625,59.1865119934082,60.16276168823242,60.90283966064453,61.93524932861328,62.822288513183594,63.83110809326172],\"type\":\"scatter3d\"},{\"hovertemplate\":\"g4hit_trkid=42<br>x=%{x}<br>y=%{y}<br>z=%{z}<extra></extra>\",\"legendgroup\":\"42\",\"marker\":{\"color\":\"#00cc96\",\"opacity\":0.3,\"symbol\":\"circle\",\"size\":3},\"mode\":\"markers\",\"name\":\"42\",\"scene\":\"scene\",\"showlegend\":true,\"x\":[2.1391124725341797,2.667292833328247,3.2252018451690674],\"y\":[1.5412178039550781,1.9417383670806885,2.3675572872161865],\"z\":[-1.5910121202468872,-2.6436519622802734,-3.7498011589050293],\"type\":\"scatter3d\"},{\"hovertemplate\":\"g4hit_trkid=92<br>x=%{x}<br>y=%{y}<br>z=%{z}<extra></extra>\",\"legendgroup\":\"92\",\"marker\":{\"color\":\"#ab63fa\",\"opacity\":0.3,\"symbol\":\"circle\",\"size\":3},\"mode\":\"markers\",\"name\":\"92\",\"scene\":\"scene\",\"showlegend\":true,\"x\":[2.206345558166504,2.758554220199585,3.337617874145508,6.6872358322143555,8.268854141235352,27.642314910888672,28.189298629760742,28.737855911254883,29.264829635620117,29.817594528198242,30.36264991760254,31.9915714263916,32.544677734375,33.08082962036133,33.624053955078125,34.73703384399414,35.286712646484375,35.83604431152344,38.492271423339844,39.459938049316406,40.492435455322266,41.47416687011719,42.494964599609375,43.47525405883789,44.4876823425293,45.506526947021484,46.53428268432617,48.57443618774414,50.621585845947266,58.02323532104492,59.146026611328125,60.253814697265625,61.385231018066406,62.5394172668457,63.65765380859375,64.80445861816406,65.95270538330078,67.0750732421875,68.21270751953125,69.36893463134766,70.5077896118164,71.6763916015625],\"y\":[1.4975090026855469,1.866507887840271,2.249178171157837,4.3781046867370605,5.339125633239746,14.838690757751465,15.030817031860352,15.220077514648438,15.448678016662598,15.630270004272461,15.825910568237305,16.404138565063477,16.575746536254883,16.78173828125,16.97338104248047,17.30288314819336,17.481441497802734,17.66069793701172,18.44270133972168,18.788156509399414,19.002153396606445,19.31707000732422,19.531391143798828,19.837785720825195,20.071128845214844,20.289894104003906,20.488399505615234,20.92032814025879,21.33635711669922,22.41510772705078,22.554763793945312,22.73299789428711,22.850475311279297,22.909393310546875,23.04689598083496,23.081506729125977,23.11185646057129,23.21843719482422,23.28005599975586,23.28690528869629,23.34493064880371,23.31532096862793],\"z\":[4.255263328552246,4.673264026641846,5.109427452087402,6.827549457550049,8.427549362182617,21.817148208618164,22.195781707763672,22.633852005004883,22.9787654876709,23.41920280456543,23.833280563354492,24.735828399658203,25.11693000793457,25.406047821044922,25.93492889404297,26.61287498474121,26.98294448852539,27.459428787231445,29.031953811645508,29.406078338623047,30.36178207397461,30.835647583007812,31.498538970947266,32.20793914794922,32.71244430541992,33.470726013183594,33.97514724731445,35.38973617553711,36.80128860473633,41.274051666259766,41.863197326660156,42.54462814331055,43.347198486328125,43.96274948120117,44.60470199584961,45.449283599853516,46.2015495300293,46.80188751220703,47.49904251098633,48.3111572265625,48.88746643066406,49.754310607910156],\"type\":\"scatter3d\"},{\"hovertemplate\":\"g4hit_trkid=75<br>x=%{x}<br>y=%{y}<br>z=%{z}<extra></extra>\",\"legendgroup\":\"75\",\"marker\":{\"color\":\"#FFA15A\",\"opacity\":0.3,\"symbol\":\"circle\",\"size\":3},\"mode\":\"markers\",\"name\":\"75\",\"scene\":\"scene\",\"showlegend\":true,\"x\":[1.3011391162872314,1.7373806238174438,2.2224249839782715,14.34576416015625,14.551836013793945,14.749632835388184,14.976592063903809,15.166648864746094,15.384427070617676,15.560123443603516,16.18222999572754,16.34455680847168,16.551525115966797,16.721965789794922,16.425966262817383,16.924203872680664,16.916990280151367],\"y\":[2.0859899520874023,2.8097097873687744,3.625253915786743,28.54250717163086,29.0786190032959,29.618810653686523,30.144620895385742,30.688631057739258,31.21896743774414,31.77005958557129,33.37647247314453,33.93415832519531,34.469825744628906,35.02350997924805,35.16947937011719,35.5615119934082,35.565067291259766],\"z\":[8.802308082580566,10.948587417602539,13.361910820007324,84.98200225830078,86.31855010986328,88.32392120361328,89.69645690917969,91.174560546875,92.52194213867188,93.8973159790039,98.42865753173828,99.91886138916016,101.42374420166016,103.06318664550781,104.82720184326172,104.42742919921875,105.2511978149414],\"type\":\"scatter3d\"},{\"hovertemplate\":\"g4hit_trkid=69<br>x=%{x}<br>y=%{y}<br>z=%{z}<extra></extra>\",\"legendgroup\":\"69\",\"marker\":{\"color\":\"#19d3f3\",\"opacity\":0.3,\"symbol\":\"circle\",\"size\":3},\"mode\":\"markers\",\"name\":\"69\",\"scene\":\"scene\",\"showlegend\":true,\"x\":[1.0206265449523926,1.229569435119629,2.4331159591674805,3.0271615982055664,1.8990808725357056,1.6397515535354614,1.4358428716659546,1.2391518354415894,1.0319856405258179,0.7724151611328125,0.5279849171638489,0.24323579668998718,0.05631670728325844,-0.6104565858840942,-0.5396870970726013,-0.8297861814498901,-1.124048113822937,-1.3979148864746094,-2.010234832763672,-1.7264546155929565,-2.5637459754943848,-2.2961533069610596,-2.919706344604492,-3.4064807891845703,-2.637519598007202,-3.1746959686279297,-4.7167439460754395,-4.9646100997924805,-4.451786041259766,-5.367392063140869,-5.623584270477295,-6.212804794311523,-6.511246681213379,-7.036489486694336,-6.771064281463623,-8.592731475830078,-9.92759895324707,-10.553020477294922,-11.384282112121582,-11.730535507202148,-12.472208976745605,-12.763797760009766,-13.587417602539062,-13.36596393585205,-13.680275917053223,-13.197314262390137],\"y\":[2.407532215118408,2.9649648666381836,6.720907211303711,9.147382736206055,31.88803482055664,32.47822570800781,33.06444549560547,33.640838623046875,34.217464447021484,34.795230865478516,35.37266540527344,35.95098114013672,36.527164459228516,37.659278869628906,38.23292541503906,38.22659683227539,38.79227828979492,39.35840606689453,39.90546417236328,39.92333984375,41.58034896850586,41.5978889465332,41.5570182800293,42.547969818115234,42.59836959838867,42.56316375732422,44.47182846069336,44.44468307495117,44.50084686279297,45.42734146118164,45.39928436279297,46.35674285888672,46.31081008911133,47.26264953613281,47.303504943847656,49.08849334716797,49.866390228271484,50.782649993896484,51.657962799072266,51.57621765136719,52.44551086425781,52.37416076660156,53.2234001159668,53.277591705322266,53.200679779052734,53.3188591003418],\"z\":[-2.0115807056427,-3.063246011734009,-9.372450828552246,-14.572450637817383,-55.53327178955078,-56.648887634277344,-57.708946228027344,-59.06330490112305,-60.048702239990234,-61.08453369140625,-62.38105010986328,-63.60588073730469,-64.44022369384766,-67.26458740234375,-67.161865234375,-68.46795654296875,-69.27056121826172,-70.17655944824219,-72.73789978027344,-71.3311996459961,-74.13336181640625,-73.0271987915039,-75.72715759277344,-77.60328674316406,-75.72966003417969,-76.2849349975586,-81.3750991821289,-82.48625183105469,-80.23519897460938,-83.24076843261719,-84.2586898803711,-85.72122192382812,-87.01919555664062,-88.06724548339844,-86.91661834716797,-91.9297103881836,-96.00130462646484,-97.2162857055664,-99.07169342041016,-100.40706634521484,-101.76151275634766,-102.88300323486328,-104.60428619384766,-103.78433990478516,-105.2511978149414,-103.1312026977539],\"type\":\"scatter3d\"},{\"hovertemplate\":\"g4hit_trkid=30<br>x=%{x}<br>y=%{y}<br>z=%{z}<extra></extra>\",\"legendgroup\":\"30\",\"marker\":{\"color\":\"#FF6692\",\"opacity\":0.3,\"symbol\":\"circle\",\"size\":3},\"mode\":\"markers\",\"name\":\"30\",\"scene\":\"scene\",\"showlegend\":true,\"x\":[0.4077235758304596,0.5612058043479919,0.7249000072479248,1.3626552820205688,2.00944447517395,11.759540557861328,12.156241416931152,12.490523338317871,12.874884605407715,13.212198257446289,14.339302062988281,14.70305347442627,15.110642433166504,15.510810852050781,15.889213562011719,16.31476402282715,16.663442611694336,17.101839065551758,17.62213706970215,18.65116310119629,19.53165626525879,20.2917537689209,21.06121826171875,23.586944580078125,24.4573974609375,25.372644424438477,26.216928482055664,27.134929656982422,27.98640251159668,29.02129364013672,29.986968994140625,30.929677963256836,31.93082046508789,33.526432037353516,34.881492614746094,35.82584762573242,37.052513122558594,38.211585998535156,39.35704040527344,40.6858024597168,41.72712707519531,42.833335876464844,44.187713623046875,45.2204704284668,45.456459045410156,46.53316116333008,46.733890533447266,47.75252151489258,49.200828552246094,50.23539733886719,50.50969696044922],\"y\":[2.439955472946167,3.263714551925659,4.099146366119385,7.005321502685547,9.348506927490234,29.08762550354004,29.547048568725586,30.028484344482422,30.484249114990234,30.96071434020996,32.339439392089844,32.80427169799805,33.24981689453125,33.69862747192383,34.157012939453125,34.586585998535156,35.0523681640625,35.47391128540039,35.85506057739258,37.251441955566406,37.955257415771484,38.71243667602539,39.454471588134766,41.56134796142578,42.24508285522461,42.883583068847656,43.56514358520508,44.20197296142578,44.87916946411133,45.44198989868164,46.0242919921875,46.6219367980957,47.1805419921875,48.45001220703125,48.83448028564453,49.50242614746094,49.96337127685547,50.473880767822266,50.98426818847656,51.324527740478516,51.895477294921875,52.41435623168945,52.73405456542969,53.290260314941406,53.08330154418945,53.598236083984375,53.422203063964844,53.98806381225586,54.17710876464844,54.72518539428711,54.46260070800781],\"z\":[0.9527366161346436,0.4064359664916992,-0.14912402629852295,-1.3724504709243774,-2.9724504947662354,-17.860992431640625,-18.348867416381836,-18.883914947509766,-19.20061683654785,-19.494171142578125,-20.74526596069336,-21.064531326293945,-21.562265396118164,-21.817062377929688,-22.08331298828125,-22.725383758544922,-22.995203018188477,-23.38825035095215,-24.03753089904785,-24.64801597595215,-25.55217933654785,-26.233219146728516,-26.845577239990234,-29.059249877929688,-29.81934356689453,-30.582571029663086,-31.288867950439453,-32.00141525268555,-32.449337005615234,-33.478492736816406,-34.28012466430664,-34.911556243896484,-35.727272033691406,-36.57217025756836,-37.96839141845703,-38.50148391723633,-39.39459991455078,-40.29383087158203,-41.148921966552734,-42.23095703125,-42.7684326171875,-43.441139221191406,-44.544288635253906,-44.92503356933594,-45.46719741821289,-45.97130584716797,-46.739200592041016,-46.8009033203125,-47.94596862792969,-48.23910140991211,-48.85919952392578],\"type\":\"scatter3d\"},{\"hovertemplate\":\"g4hit_trkid=89<br>x=%{x}<br>y=%{y}<br>z=%{z}<extra></extra>\",\"legendgroup\":\"89\",\"marker\":{\"color\":\"#B6E880\",\"opacity\":0.3,\"symbol\":\"circle\",\"size\":3},\"mode\":\"markers\",\"name\":\"89\",\"scene\":\"scene\",\"showlegend\":true,\"x\":[1.323499083518982,1.564125895500183,1.9686816930770874,3.4909799098968506,8.676798820495605,8.2798490524292,8.42054557800293,8.43608570098877,8.40908432006836,8.356755256652832,8.340707778930664,8.25752067565918,8.253937721252441,8.133944511413574,8.09552001953125,8.040536880493164,8.028754234313965,7.805567741394043,8.051077842712402,7.596795082092285,7.544423580169678,7.377561092376709,6.744405269622803,6.643465518951416,6.8318986892700195,6.251601696014404,6.561562538146973,6.162691593170166,6.3206682205200195,5.847989559173584,5.530907154083252,5.205333232879639,4.845228672027588,4.627926826477051,4.347119331359863,4.1660003662109375,3.9550609588623047],\"y\":[2.391510009765625,2.8626797199249268,3.6721909046173096,6.986047744750977,30.74418067932129,32.62688064575195,33.181297302246094,33.766334533691406,34.36178207397461,34.96342849731445,35.55619812011719,36.16539764404297,36.7551155090332,37.366737365722656,37.95755386352539,38.55166244506836,39.137176513671875,40.922523498535156,40.873687744140625,40.96405029296875,42.015132904052734,43.07941436767578,45.24223709106445,46.29045867919922,46.26145553588867,47.38345718383789,47.335750579833984,48.42054748535156,48.40324783325195,49.48178482055664,50.543277740478516,51.60570526123047,52.671913146972656,52.695709228515625,53.73773956298828,54.77246856689453,54.78629684448242],\"z\":[7.3721160888671875,8.303181648254395,9.891497611999512,15.627549171447754,59.88319778442383,62.77827453613281,64.04431915283203,65.14493560791016,65.98536682128906,67.24925994873047,68.20790100097656,69.6235122680664,70.36395263671875,71.45419311523438,72.72545623779297,73.81635284423828,74.53506469726562,77.67377471923828,76.24601745605469,78.96319580078125,80.05701446533203,81.98202514648438,87.01919555664062,88.12378692626953,87.01919555664062,90.7357406616211,89.16151428222656,91.85205841064453,90.83519744873047,93.90186309814453,95.85591888427734,97.86089324951172,99.81233215332031,101.01119995117188,102.37799072265625,103.52399444580078,104.6505355834961],\"type\":\"scatter3d\"},{\"hovertemplate\":\"g4hit_trkid=61<br>x=%{x}<br>y=%{y}<br>z=%{z}<extra></extra>\",\"legendgroup\":\"61\",\"marker\":{\"color\":\"#FF97FF\",\"opacity\":0.3,\"symbol\":\"circle\",\"size\":3},\"mode\":\"markers\",\"name\":\"61\",\"scene\":\"scene\",\"showlegend\":true,\"x\":[0.023876257240772247,0.020729413256049156,0.013376626186072826,1.5336545705795288,-2.224172592163086,-2.313174247741699,-2.3953702449798584,-2.471684455871582,-2.56843900680542,-2.7338201999664307,-2.981414794921875,-2.818817377090454,-2.931631565093994,-3.1655352115631104,-2.829071044921875,-3.256399154663086,-2.8172569274902344,-3.632781982421875,-3.82511305809021,-4.079641342163086,-4.29443883895874,-4.270578384399414],\"y\":[2.460261344909668,3.2116739749908447,4.005220413208008,31.33879280090332,31.866727828979492,32.43408966064453,33.001895904541016,33.57008743286133,34.136940002441406,34.69929504394531,34.68306350708008,35.26691818237305,36.40591049194336,37.53696823120117,37.55902099609375,38.10420608520508,38.13298797607422,39.79252243041992,41.48917007446289,42.48806381225586,43.491310119628906,43.49392318725586],\"z\":[8.369556427001953,10.131265640258789,11.991286277770996,77.58436584472656,77.46822357177734,79.05557250976562,80.24443817138672,81.45490264892578,82.93062591552734,84.41815948486328,85.89488220214844,85.78762817382812,88.60635375976562,90.84395599365234,92.53119659423828,92.3486328125,93.80486297607422,98.04319763183594,98.7415542602539,101.4352035522461,105.2511978149414,104.53614807128906],\"type\":\"scatter3d\"},{\"hovertemplate\":\"g4hit_trkid=65<br>x=%{x}<br>y=%{y}<br>z=%{z}<extra></extra>\",\"legendgroup\":\"65\",\"marker\":{\"color\":\"#FECB52\",\"opacity\":0.3,\"symbol\":\"circle\",\"size\":3},\"mode\":\"markers\",\"name\":\"65\",\"scene\":\"scene\",\"showlegend\":true,\"x\":[0.9718627333641052,1.199365496635437,1.5160406827926636,13.783769607543945,13.996670722961426,14.782940864562988,20.030303955078125,15.823675155639648,16.132129669189453],\"y\":[2.410111904144287,2.974199056625366,3.755919933319092,30.08432960510254,30.61553955078125,32.14423370361328,31.2259464263916,34.185848236083984,34.67501449584961],\"z\":[9.52599811553955,11.155021667480469,13.410887718200684,90.81280517578125,92.32219696044922,95.83187866210938,2.739562511444092,102.72457885742188,104.2930679321289],\"type\":\"scatter3d\"},{\"hovertemplate\":\"g4hit_trkid=79<br>x=%{x}<br>y=%{y}<br>z=%{z}<extra></extra>\",\"legendgroup\":\"79\",\"marker\":{\"color\":\"#636efa\",\"opacity\":0.3,\"symbol\":\"circle\",\"size\":3},\"mode\":\"markers\",\"name\":\"79\",\"scene\":\"scene\",\"showlegend\":true,\"x\":[-0.3550134301185608,-0.45493510365486145,-0.5418691635131836,0.3663542866706848,-0.15340739488601685,0.9722538590431213,0.7832200527191162,0.8829389214515686,1.0052201747894287,1.1835095882415771,1.3263041973114014,1.4475973844528198,1.5843902826309204,1.766710638999939,1.8884021043777466,2.0648438930511475,2.2396180629730225,2.3901329040527344,2.646885395050049,3.0684797763824463,2.8413281440734863,3.548321008682251,3.9358065128326416,4.148566722869873,3.5870611667633057,4.15526819229126,4.9016852378845215,6.170101642608643,6.539270401000977,7.055386066436768,6.886335372924805,7.49530029296875,8.1040620803833,7.963539123535156,8.966500282287598,9.413565635681152,11.358176231384277,11.731778144836426,11.765085220336914,12.37827205657959,12.948262214660645,13.664536476135254,14.178152084350586,14.642939567565918,15.703259468078613,15.49945068359375,16.43279457092285,16.61282730102539,17.18877410888672,18.079301834106445,19.232017517089844,20.279396057128906,20.063533782958984,20.97764778137207,21.187715530395508],\"y\":[2.5774166584014893,3.376553535461426,4.139433860778809,31.37147331237793,31.37611961364746,31.930355072021484,33.07868576049805,33.64861297607422,34.218048095703125,34.786258697509766,35.355247497558594,35.92470169067383,36.49382019042969,37.055458068847656,37.62067413330078,38.18230438232422,38.744041442871094,39.307373046875,39.86373519897461,41.54726791381836,41.562156677246094,42.538673400878906,43.53058624267578,43.507286071777344,43.558990478515625,44.533321380615234,46.50511169433594,49.44650650024414,50.43284606933594,51.39048385620117,51.41650390625,52.35546112060547,52.26176452636719,53.316078186035156,55.22707748413086,56.190956115722656,58.92441177368164,59.968658447265625,59.962032318115234,60.958621978759766,61.963802337646484,62.93988800048828,63.95628356933594,64.97200775146484,65.84198760986328,65.89185333251953,66.79290008544922,66.74884796142578,67.73735046386719,69.77830505371094,69.46943664550781,71.44959259033203,71.51251220703125,72.38878631591797,72.32756042480469],\"z\":[-0.13680146634578705,-0.9815868139266968,-1.7907212972640991,-31.148632049560547,-32.27589797973633,-90.28205108642578,-33.3387336730957,-33.95785140991211,-34.55913162231445,-35.35967254638672,-35.87619400024414,-36.567203521728516,-37.21925735473633,-37.8851318359375,-38.43714141845703,-39.130428314208984,-39.75196838378906,-40.37556457519531,-41.31389236450195,-42.84696578979492,-41.65119934082031,-43.79871368408203,-45.56672668457031,-43.0157356262207,-44.088619232177734,-46.36225509643555,-48.718849182128906,-52.330020904541016,-53.32122039794922,-54.64321517944336,-53.35662841796875,-55.58608627319336,-54.619842529296875,-56.8492546081543,-59.322383880615234,-60.101810455322266,-66.81610107421875,-65.37584686279297,-67.84300231933594,-66.73676300048828,-67.85969543457031,-69.32931518554688,-69.63520050048828,-71.48612213134766,-73.25361633300781,-72.17919921875,-74.54438018798828,-75.57119750976562,-75.92770385742188,-78.25847625732422,-78.79728698730469,-81.32011413574219,-80.23519897460938,-82.29427337646484,-83.26180267333984],\"type\":\"scatter3d\"},{\"hovertemplate\":\"g4hit_trkid=26<br>x=%{x}<br>y=%{y}<br>z=%{z}<extra></extra>\",\"legendgroup\":\"26\",\"marker\":{\"color\":\"#EF553B\",\"opacity\":0.3,\"symbol\":\"circle\",\"size\":3},\"mode\":\"markers\",\"name\":\"26\",\"scene\":\"scene\",\"showlegend\":true,\"x\":[-1.1060419082641602,-1.5658708810806274,-1.8531733751296997,-3.3997395038604736,-4.41209602355957,-11.604063987731934,-11.900505065917969,-12.053524017333984,-12.211941719055176,-12.345788955688477,-12.494532585144043,-12.627165794372559,-12.797811508178711,-12.885677337646484,-13.087491035461426,-13.203597068786621,-13.385870933532715,-13.459607124328613,-13.645112991333008,-13.717175483703613,-14.12735652923584,-14.302925109863281,-14.520578384399414,-14.73403263092041,-14.932878494262695,-15.309535026550293,-15.508502960205078,-15.629117965698242,-15.844206809997559,-15.93763256072998,-16.106124877929688,-16.216529846191406,-16.398908615112305,-16.51338005065918,-16.54319953918457,-16.958084106445312,-17.02972984313965,-17.21078109741211,-17.283283233642578,-17.47563362121582,-17.76836395263672,-18.061094284057617,-16.978561401367188,-17.253747940063477,-17.500438690185547,-17.546401977539062,-17.581771850585938,-17.64695167541504,-17.629297256469727,-17.499149322509766],\"y\":[2.195213556289673,3.1232540607452393,3.713674306869507,6.992469310760498,9.228165626525879,29.148086547851562,30.26019287109375,30.81437873840332,31.366466522216797,31.928110122680664,32.48395919799805,33.04607391357422,33.593406677246094,34.17293167114258,34.7081413269043,35.27668380737305,35.819496154785156,36.40451431274414,36.946067810058594,37.53173828125,39.198150634765625,40.21642303466797,41.22040939331055,42.2258186340332,43.23619079589844,45.264068603515625,46.27439880371094,47.31132507324219,48.31618118286133,49.362335205078125,50.38300704956055,51.42340087890625,52.433502197265625,53.46327590942383,54.517723083496094,57.56232452392578,58.68416213989258,60.91682815551758,62.038414001464844,63.125064849853516,64.18246459960938,65.23986053466797,65.52992248535156,66.5920181274414,67.66108703613281,68.7792739868164,69.90005493164062,71.01353454589844,72.14729309082031,73.3085708618164],\"z\":[0.9327559471130371,0.2422046661376953,-0.19590801000595093,-2.9724504947662354,-4.572450160980225,-18.349077224731445,-19.361618041992188,-19.69341468811035,-20.00102424621582,-20.468156814575195,-20.84575843811035,-21.289226531982422,-21.47265625,-21.927350997924805,-22.462055206298828,-22.789297103881836,-23.16257095336914,-23.589805603027344,-23.974258422851562,-24.44891357421875,-25.317413330078125,-26.242149353027344,-26.955617904663086,-27.529897689819336,-28.288211822509766,-29.70169448852539,-30.15656280517578,-31.01531219482422,-31.507204055786133,-32.45313262939453,-32.978092193603516,-33.912086486816406,-34.399375915527344,-35.21199035644531,-36.22941589355469,-37.977413177490234,-38.62704086303711,-40.290496826171875,-41.01725769042969,-41.85386657714844,-42.57941818237305,-43.10810089111328,-43.29217529296875,-44.1781005859375,-44.79866027832031,-45.57969284057617,-46.3510856628418,-46.939422607421875,-47.74759292602539,-48.71080017089844],\"type\":\"scatter3d\"},{\"hovertemplate\":\"g4hit_trkid=32<br>x=%{x}<br>y=%{y}<br>z=%{z}<extra></extra>\",\"legendgroup\":\"32\",\"marker\":{\"color\":\"#00cc96\",\"opacity\":0.3,\"symbol\":\"circle\",\"size\":3},\"mode\":\"markers\",\"name\":\"32\",\"scene\":\"scene\",\"showlegend\":true,\"x\":[-0.6424884796142578,-0.8301643133163452,-1.0098763704299927,-1.6744378805160522,-3.368597984313965,-3.2778003215789795,-3.27553653717041,-3.184979200363159,-3.16286039352417,-3.1553852558135986,-2.992110013961792,-2.851022720336914,-2.7709803581237793,-2.684814453125,-2.663166046142578,-2.5589096546173096,-2.4189138412475586,-2.2961716651916504,-2.1039879322052,-1.8410718441009521,-1.6397204399108887,-1.4167879819869995,-0.9207165837287903,-0.6825119853019714,-0.3992833197116852,0.5314145684242249,1.8918882608413696,2.382502794265747,2.9287948608398438,2.580517530441284,3.5411646366119385,3.95713210105896,4.4818806648254395,4.927854061126709,5.9616923332214355,6.442802429199219,6.998032093048096,7.607354640960693,8.180829048156738,8.83879566192627,10.619112014770508,11.467750549316406],\"y\":[2.4311187267303467,3.177042007446289,3.916005849838257,6.883200168609619,31.190658569335938,31.77598762512207,32.35162353515625,32.936927795410156,33.51473617553711,34.0909423828125,34.68236541748047,36.41119384765625,36.98963165283203,37.56847381591797,38.143089294433594,38.723114013671875,39.305484771728516,39.886722564697266,41.6104850769043,42.649654388427734,43.674957275390625,44.70072937011719,46.75337219238281,47.77947998046875,48.80657196044922,51.866416931152344,55.92036819458008,56.930572509765625,58.84543991088867,58.86826705932617,59.90472412109375,60.97687911987305,62.041908264160156,63.112098693847656,65.23208618164062,66.28302001953125,67.32584381103516,68.36273956298828,69.40355682373047,70.43512725830078,73.51006317138672,74.48943328857422],\"z\":[2.3132400512695312,2.2357540130615234,2.158755302429199,2.0275495052337646,-0.6531327962875366,-0.8260546922683716,-0.8996796607971191,-0.9240702986717224,-0.943164050579071,-1.076242208480835,-1.1428905725479126,-1.3561640977859497,-1.3739687204360962,-1.4033203125,-1.5796093940734863,-2.1376640796661377,-1.634374976158142,-1.7032500505447388,-1.8228203058242798,-2.107109308242798,-2.1283438205718994,-2.256953239440918,-2.5198514461517334,-2.588843822479248,-2.79603910446167,-3.1307969093322754,-3.6657891273498535,-3.7675702571868896,-3.896273374557495,-3.6767032146453857,-4.058125019073486,-4.264101505279541,-4.371984481811523,-4.466148376464844,-4.801421642303467,-4.957531452178955,-4.969140529632568,-5.1600470542907715,-5.299202919006348,-5.366859436035156,-5.830859184265137,-5.954984188079834],\"type\":\"scatter3d\"},{\"hovertemplate\":\"g4hit_trkid=33<br>x=%{x}<br>y=%{y}<br>z=%{z}<extra></extra>\",\"legendgroup\":\"33\",\"marker\":{\"color\":\"#ab63fa\",\"opacity\":0.3,\"symbol\":\"circle\",\"size\":3},\"mode\":\"markers\",\"name\":\"33\",\"scene\":\"scene\",\"showlegend\":true,\"x\":[-1.171921730041504,-1.6684579849243164,-2.014953851699829,-4.086449146270752,-5.242431163787842,-21.887788772583008,-22.88641929626465,-22.286842346191406,-23.296207427978516,-24.24018669128418,-24.778606414794922,-25.365013122558594,-25.912189483642578,-26.47301483154297,-27.001436233520508,-27.603532791137695,-28.15103530883789,-29.92119789123535,-30.55545425415039,-33.294029235839844,-35.59087371826172,-36.62004089355469,-37.66817855834961,-38.84878158569336,-39.963932037353516,-41.10480880737305,-42.280033111572266,-43.463104248046875,-45.799720764160156,-47.000091552734375,-46.911590576171875,-47.183616638183594,-48.1245002746582,-49.481910705566406,-51.82049560546875,-52.9307861328125,-54.31882858276367,-55.63198471069336,-57.05486297607422,-56.94285583496094,-58.30362319946289,-58.50163269042969,-59.599613189697266,-59.810184478759766,-60.01969909667969,-61.00960922241211,-61.216453552246094,-62.4671516418457,-62.3367919921875,-63.73727035522461,-63.91781997680664,-64.95519256591797,-65.0552749633789,-66.63541412353516,-67.85367584228516,-68.0377426147461,-69.22308349609375,-69.37337493896484,-70.57574462890625,-70.75513458251953,-71.98014068603516],\"y\":[2.161686897277832,2.9988067150115967,3.5600433349609375,6.59071159362793,8.116072654724121,22.47663116455078,22.286842346191406,22.88641929626465,22.685895919799805,23.354049682617188,23.618732452392578,23.83328628540039,24.088821411132812,24.33009910583496,24.598541259765625,24.779457092285156,25.022626876831055,25.606571197509766,25.750818252563477,26.703214645385742,27.090599060058594,27.413103103637695,27.709735870361328,27.825706481933594,28.030948638916016,28.163740158081055,28.242042541503906,28.3085994720459,28.436847686767578,28.426156997680664,28.57200050354004,28.123716354370117,28.5406551361084,28.24782371520996,28.022663116455078,28.279726028442383,28.008981704711914,27.82659912109375,27.421720504760742,27.648849487304688,27.369915008544922,26.937820434570312,27.16642951965332,26.687868118286133,26.211711883544922,26.685932159423828,26.215843200683594,26.097373962402344,26.393644332885742,25.8829402923584,25.418655395507812,25.777969360351562,25.520605087280273,24.48418426513672,24.33773422241211,23.795499801635742,23.716581344604492,23.273822784423828,23.144744873046875,22.616287231445312,22.379642486572266],\"z\":[3.953603982925415,4.496980667114258,4.864786148071289,6.827549457550049,8.427549362182617,20.621171951293945,21.3184757232666,21.05458641052246,21.608163833618164,22.316797256469727,22.71695327758789,23.073883056640625,23.32392120361328,23.7653751373291,24.052898406982422,24.52861785888672,24.785703659057617,26.088882446289062,26.443735122680664,27.974836349487305,29.779203414916992,30.11663246154785,30.634977340698242,31.350234985351562,32.071937561035156,32.75505447387695,33.39262390136719,34.0772819519043,35.44440460205078,36.299232482910156,38.3635139465332,38.063507080078125,36.84292984008789,37.90285110473633,39.273773193359375,39.6414909362793,40.58401107788086,41.22719955444336,42.36623764038086,41.65119934082031,42.87481689453125,43.29140853881836,43.62208938598633,44.01853561401367,44.52329635620117,44.55989074707031,45.15765380859375,45.92934036254883,45.04319763183594,46.539283752441406,46.67279052734375,47.49043655395508,46.739200592041016,48.27367401123047,48.831398010253906,49.2741813659668,49.722904205322266,50.18075942993164,50.56238555908203,51.03976821899414,51.55975341796875],\"type\":\"scatter3d\"},{\"hovertemplate\":\"g4hit_trkid=63<br>x=%{x}<br>y=%{y}<br>z=%{z}<extra></extra>\",\"legendgroup\":\"63\",\"marker\":{\"color\":\"#FFA15A\",\"opacity\":0.3,\"symbol\":\"circle\",\"size\":3},\"mode\":\"markers\",\"name\":\"63\",\"scene\":\"scene\",\"showlegend\":true,\"x\":[-0.9090017676353455,-1.1770713329315186,-1.5548123121261597,-2.5164473056793213,-8.676798820495605,-8.987520217895508,-8.561241149902344,-8.701936721801758,-8.701936721801758,-8.842632293701172,-9.054256439208984,-9.065305709838867,-9.183917045593262,-9.229601860046387,-9.246574401855469,-9.279593467712402,-9.54780387878418,-9.499187469482422,-9.638750076293945,-9.516373634338379],\"y\":[2.2954883575439453,2.992589235305786,3.9970059394836426,6.650397300720215,30.74418067932129,31.845149993896484,33.73571014404297,34.290122985839844,34.290122985839844,34.84453582763672,35.970436096191406,36.55657196044922,37.116390228271484,37.694053649902344,38.278743743896484,38.85950469970703,40.55175018310547,41.61442565917969,42.63105773925781,42.66100311279297],\"z\":[8.309614181518555,10.039159774780273,12.52136516571045,19.62755012512207,77.00267028808594,80.38484954833984,83.90577697753906,85.30316925048828,83.1966781616211,86.52581787109375,89.10233306884766,91.02613830566406,91.84636688232422,93.32266998291016,94.87230682373047,96.80974578857422,98.50328826904297,102.70133209228516,104.48944854736328,105.2511978149414],\"type\":\"scatter3d\"},{\"hovertemplate\":\"g4hit_trkid=9<br>x=%{x}<br>y=%{y}<br>z=%{z}<extra></extra>\",\"legendgroup\":\"9\",\"marker\":{\"color\":\"#19d3f3\",\"opacity\":0.3,\"symbol\":\"circle\",\"size\":3},\"mode\":\"markers\",\"name\":\"9\",\"scene\":\"scene\",\"showlegend\":true,\"x\":[-1.6556419134140015,-2.114853858947754,-2.803032398223877],\"y\":[1.963104248046875,2.4572880268096924,3.156538248062134],\"z\":[-2.6503772735595703,-4.016469955444336,-6.005146026611328],\"type\":\"scatter3d\"},{\"hovertemplate\":\"g4hit_trkid=28<br>x=%{x}<br>y=%{y}<br>z=%{z}<extra></extra>\",\"legendgroup\":\"28\",\"marker\":{\"color\":\"#FF6692\",\"opacity\":0.3,\"symbol\":\"circle\",\"size\":3},\"mode\":\"markers\",\"name\":\"28\",\"scene\":\"scene\",\"showlegend\":true,\"x\":[-1.7228899002075195,-2.1870923042297363,-2.8382813930511475,-4.861250400543213,-6.873684406280518,-19.283714294433594,-20.182315826416016,-21.04338836669922,-21.410140991210938,-21.692659378051758,-21.97247886657715,-22.54599952697754,-22.83525276184082,-24.57686996459961,-25.03653335571289,-25.503549575805664,-26.000917434692383,-26.48806381225586,-26.96852684020996,-27.8652400970459,-28.32097625732422,-28.78340721130371,-29.204992294311523,-29.700559616088867,-30.078039169311523,-30.469642639160156,-30.87065315246582,-31.311067581176758,-32.13412857055664,-32.53904724121094,-32.93621063232422,-33.32537078857422,-33.80581283569336,-34.544822692871094,-34.02063751220703,-34.9621696472168,-35.30613327026367,-35.70235824584961,-36.04747772216797,-36.80271911621094,-37.07231521606445,-37.79838943481445],\"y\":[1.8596627712249756,2.3696563243865967,3.0915637016296387,5.390279769897461,7.749497890472412,24.749652862548828,26.228647232055664,27.727436065673828,28.167766571044922,28.66986083984375,29.173933029174805,30.171899795532227,30.669055938720703,33.63710021972656,34.56570053100586,35.48890686035156,36.389862060546875,37.29830551147461,38.21165466308594,40.07671356201172,40.9997444152832,41.918304443359375,42.86415481567383,43.76057434082031,44.73589324951172,45.701778411865234,46.661376953125,47.59464645385742,49.38031768798828,50.42919158935547,51.483245849609375,52.53628158569336,53.527992248535156,55.64604949951172,55.964134216308594,56.676048278808594,57.750579833984375,58.79339599609375,59.86722183227539,61.975433349609375,63.095088958740234,65.22100067138672],\"z\":[3.443366050720215,3.677286148071289,4.0062360763549805,5.2275495529174805,6.827549457550049,13.186484336853027,13.688945770263672,14.281265258789062,14.515203475952148,14.79520320892334,14.875203132629395,15.325226783752441,15.479164123535156,16.636796951293945,17.006929397583008,17.458045959472656,17.737241744995117,18.13872718811035,18.484561920166016,19.17100715637207,19.46381950378418,19.852890014648438,20.21586799621582,20.432218551635742,20.869274139404297,21.250391006469727,21.597991943359375,21.95379638671875,22.5106258392334,22.978656768798828,23.311203002929688,23.792797088623047,24.05438232421875,24.888242721557617,24.065977096557617,25.194616317749023,25.58732032775879,25.98190689086914,26.313461303710938,27.055273056030273,27.5295467376709,28.274499893188477],\"type\":\"scatter3d\"},{\"hovertemplate\":\"g4hit_trkid=78<br>x=%{x}<br>y=%{y}<br>z=%{z}<extra></extra>\",\"legendgroup\":\"78\",\"marker\":{\"color\":\"#B6E880\",\"opacity\":0.3,\"symbol\":\"circle\",\"size\":3},\"mode\":\"markers\",\"name\":\"78\",\"scene\":\"scene\",\"showlegend\":true,\"x\":[-1.5159448385238647,-1.8776214122772217,-2.2454421520233154,-4.056153297424316,-7.963921070098877,-7.424600124359131,-7.396154880523682,-7.13539981842041,-6.970208644866943,-6.803727149963379,-6.183276176452637,-4.294064521789551,-3.6083691120147705,-3.9417996406555176,-3.2378294467926025,-2.959378242492676,-2.5515308380126953,-1.921000361442566,-0.3720170259475708,-0.6277086138725281,0.22817809879779816,0.6567504405975342,0.9783574342727661,1.3067030906677246,2.0306906700134277,1.7236981391906738,2.306540012359619,3.1123974323272705,2.777513027191162,3.926297426223755,3.5073108673095703,4.866153717041016,5.096472263336182,5.960474967956543,5.657788276672363,6.663930892944336,8.30286979675293,7.686487674713135,10.363580703735352,10.907951354980469,11.121841430664062,12.012046813964844,11.612711906433105,14.02709674835205,14.663774490356445,15.06110954284668,15.408469200134277,14.409505844116211,16.386180877685547,16.06977081298828,17.47563362121582,18.343881607055664,17.76836395263672,18.74604034423828,20.41596794128418,22.281333923339844,22.129072189331055,21.6922607421875],\"y\":[2.177987575531006,2.745072364807129,3.341165542602539,6.608436107635498,32.11534881591797,34.59197235107422,35.18080520629883,35.81584548950195,36.4318733215332,37.048160552978516,38.89155197143555,43.49134826660156,44.58045196533203,44.556697845458984,45.627593994140625,45.645843505859375,46.6954345703125,47.75245666503906,49.82807540893555,49.82249450683594,50.85212326049805,50.8427734375,51.85666275024414,51.8494987487793,52.854610443115234,52.86130905151367,52.848594665527344,53.818668365478516,53.84061813354492,54.78818130493164,54.815643310546875,55.74943542480469,55.72470474243164,56.65685272216797,56.689998626708984,56.579811096191406,58.32677459716797,58.42143249511719,60.22957229614258,60.13252639770508,60.08998107910156,61.03146743774414,61.11090087890625,61.734405517578125,62.70804214477539,62.610816955566406,62.52581787109375,62.770263671875,63.41600799560547,63.493431091308594,63.125064849853516,64.01471710205078,64.18246459960938,63.89749526977539,64.55073547363281,65.07608032226562,65.12776184082031,65.27603912353516],\"z\":[5.8150858879089355,6.633806228637695,7.490538120269775,11.627549171447754,44.585052490234375,47.875877380371094,48.3365364074707,49.42906951904297,50.153560638427734,50.62900924682617,53.35360336303711,59.630859375,61.35694122314453,60.582523345947266,62.40510177612305,63.27519989013672,63.99225616455078,65.39520263671875,69.14324951171875,68.36319732666016,70.32849884033203,71.28050231933594,71.79759979248047,72.60320281982422,73.87667083740234,73.0271987915039,74.72319793701172,75.95879364013672,75.14720153808594,77.4009780883789,76.41919708251953,79.00067901611328,79.81120300292969,80.98108673095703,80.23519897460938,82.11964416503906,84.80660247802734,83.62354278564453,87.84638977050781,88.85203552246094,89.56320190429688,90.38032531738281,89.68434143066406,93.64509582519531,94.21183776855469,95.07520294189453,95.49919891357422,93.37920379638672,97.09465026855469,95.92320251464844,97.91899871826172,99.55003356933594,98.38867950439453,100.39363098144531,102.56317901611328,105.2511978149414,104.82720184326172,104.05797576904297],\"type\":\"scatter3d\"},{\"hovertemplate\":\"g4hit_trkid=35<br>x=%{x}<br>y=%{y}<br>z=%{z}<extra></extra>\",\"legendgroup\":\"35\",\"marker\":{\"color\":\"#FF97FF\",\"opacity\":0.3,\"symbol\":\"circle\",\"size\":3},\"mode\":\"markers\",\"name\":\"35\",\"scene\":\"scene\",\"showlegend\":true,\"x\":[-1.4672303199768066,-1.822224497795105,-2.188754081726074,-4.110012531280518,-5.061251163482666,-14.05990219116211,-14.431224822998047,-14.59807014465332,-14.788737297058105,-15.184086799621582,-15.304548263549805,-15.523948669433594,-15.677342414855957,-15.826658248901367,-16.017621994018555,-16.420490264892578,-16.603979110717773,-17.19169807434082,-17.4095401763916,-17.68380355834961,-17.890098571777344,-18.163820266723633,-19.020212173461914,-19.218297958374023,-19.398019790649414,-20.12166976928711,-20.973323822021484,-20.715742111206055,-20.768558502197266,-21.066781997680664,-21.1758975982666,-21.666234970092773,-21.683490753173828,-21.51613426208496,-21.760507583618164,-21.647197723388672],\"y\":[2.252920627593994,2.8122739791870117,3.394998073577881,6.576925754547119,8.238025665283203,28.045745849609375,29.138097763061523,29.693553924560547,30.237260818481445,31.317766189575195,31.896095275878906,32.42563247680664,32.98772048950195,33.551822662353516,34.09538269042969,35.797908782958984,36.34205627441406,37.94894027709961,38.96818923950195,39.962615966796875,40.98694610595703,41.98160934448242,46.06257629394531,47.08067321777344,48.10591125488281,52.20500564575195,55.052616119384766,56.32988357543945,57.479740142822266,59.69561004638672,60.81711959838867,68.75992584228516,69.89761352539062,69.94639587402344,71.01788330078125,71.05091094970703],\"z\":[6.309241771697998,7.2221150398254395,8.16828727722168,13.627549171447754,15.627549171447754,45.23873519897461,47.19221115112305,47.83009338378906,48.781803131103516,50.12198257446289,51.191200256347656,52.0057258605957,52.605262756347656,53.47711181640625,54.22779083251953,56.69398498535156,57.8448600769043,59.097286224365234,60.93647003173828,62.23542022705078,64.24613952636719,65.19641876220703,71.05709838867188,72.62976837158203,74.0172119140625,79.54190063476562,85.20878601074219,85.01099395751953,87.06036376953125,89.74934387207031,91.21854400634766,101.99818420410156,103.59437561035156,104.5495834350586,104.82720184326172,105.2511978149414],\"type\":\"scatter3d\"},{\"hovertemplate\":\"g4hit_trkid=49<br>x=%{x}<br>y=%{y}<br>z=%{z}<extra></extra>\",\"legendgroup\":\"49\",\"marker\":{\"color\":\"#FECB52\",\"opacity\":0.3,\"symbol\":\"circle\",\"size\":3},\"mode\":\"markers\",\"name\":\"49\",\"scene\":\"scene\",\"showlegend\":true,\"x\":[-1.7637661695480347,-2.2547996044158936,-2.91890549659729,-5.1471052169799805,-7.423671245574951,-23.816448211669922,-24.2972469329834,-24.77927017211914,-25.21685218811035,-25.72064781188965,-26.201852798461914,-26.66732406616211,-27.160234451293945,-27.626554489135742,-28.094749450683594,-28.581653594970703,-30.06477165222168,-30.53179931640625,-31.02618980407715,-32.44773864746094,-33.34833526611328,-34.22811508178711,-35.12193298339844,-35.99822998046875,-38.70835494995117,-39.59170913696289,-40.70008850097656,-40.5190544128418,-40.40003967285156,-41.411895751953125,-42.394832611083984,-42.27055740356445],\"y\":[1.7967866659164429,2.2875208854675293,2.9429495334625244,5.0970611572265625,7.196402549743652,20.42304039001465,20.74226951599121,21.060104370117188,21.428613662719727,21.721620559692383,22.040388107299805,22.37709617614746,22.676767349243164,23.00954246520996,23.33997917175293,23.647106170654297,24.54056739807129,24.872461318969727,25.170259475708008,26.127016067504883,26.63555335998535,27.170028686523438,27.68701171875,28.22582244873047,29.74104881286621,30.264705657958984,30.47918128967285,30.726078033447266,30.888397216796875,31.234508514404297,31.620065689086914,31.7895565032959],\"z\":[7.057201385498047,8.2897310256958,9.9464693069458,15.627549171447754,21.62755012512207,57.881446838378906,59.01488494873047,60.23606872558594,61.02230453491211,62.18788528442383,63.26032257080078,64.34092712402344,65.31006622314453,66.42584991455078,67.07276916503906,68.36319732666016,71.43551635742188,72.45855712890625,73.62080383300781,75.9082260131836,78.2780532836914,79.93905639648438,81.75753021240234,83.4551010131836,89.13528442382812,91.04008483886719,91.74922943115234,93.04730224609375,91.900634765625,94.6192398071289,96.66072082519531,95.3729019165039],\"type\":\"scatter3d\"},{\"hovertemplate\":\"g4hit_trkid=29<br>x=%{x}<br>y=%{y}<br>z=%{z}<extra></extra>\",\"legendgroup\":\"29\",\"marker\":{\"color\":\"#636efa\",\"opacity\":0.3,\"symbol\":\"circle\",\"size\":3},\"mode\":\"markers\",\"name\":\"29\",\"scene\":\"scene\",\"showlegend\":true,\"x\":[-1.586740493774414,-2.0082976818084717,-23.381988525390625,-23.904409408569336,-24.415151596069336,-24.359386444091797],\"y\":[2.06908917427063,2.586550235748291,20.918447494506836,21.190214157104492,21.47530174255371,21.538888931274414],\"z\":[10.257833480834961,12.21434497833252,94.41178131103516,96.64441680908203,98.47567749023438,97.48530578613281],\"type\":\"scatter3d\"},{\"hovertemplate\":\"g4hit_trkid=62<br>x=%{x}<br>y=%{y}<br>z=%{z}<extra></extra>\",\"legendgroup\":\"62\",\"marker\":{\"color\":\"#EF553B\",\"opacity\":0.3,\"symbol\":\"circle\",\"size\":3},\"mode\":\"markers\",\"name\":\"62\",\"scene\":\"scene\",\"showlegend\":true,\"x\":[-1.7872495651245117,-2.2801804542541504,-18.70138168334961,-20.461132049560547,-20.763168334960938],\"y\":[1.7606642246246338,2.2567317485809326,25.189197540283203,23.783042907714844,24.278919219970703],\"z\":[10.644157409667969,12.883755683898926,70.61676025390625,101.28435516357422,104.34313201904297],\"type\":\"scatter3d\"},{\"hovertemplate\":\"g4hit_trkid=47<br>x=%{x}<br>y=%{y}<br>z=%{z}<extra></extra>\",\"legendgroup\":\"47\",\"marker\":{\"color\":\"#00cc96\",\"opacity\":0.3,\"symbol\":\"circle\",\"size\":3},\"mode\":\"markers\",\"name\":\"47\",\"scene\":\"scene\",\"showlegend\":true,\"x\":[-1.8535277843475342],\"y\":[1.6587145328521729],\"z\":[10.922564506530762],\"type\":\"scatter3d\"},{\"hovertemplate\":\"g4hit_trkid=39<br>x=%{x}<br>y=%{y}<br>z=%{z}<extra></extra>\",\"legendgroup\":\"39\",\"marker\":{\"color\":\"#ab63fa\",\"opacity\":0.3,\"symbol\":\"circle\",\"size\":3},\"mode\":\"markers\",\"name\":\"39\",\"scene\":\"scene\",\"showlegend\":true,\"x\":[-2.399320125579834,-2.902027130126953,-3.693744659423828,-7.000503063201904,-25.723970413208008,-26.1210880279541,-25.9932861328125,-27.771888732910156,-28.17896842956543,-28.277379989624023,-28.55800437927246,-29.345109939575195,-29.750877380371094,-30.12482452392578,-30.523075103759766,-30.917150497436523,-31.29929542541504,-31.657894134521484,-32.85246276855469,-33.44663619995117,-35.395484924316406,-36.660640716552734,-37.2704963684082,-37.867408752441406,-38.43437194824219,-39.05915451049805,-39.593177795410156,-40.19178009033203,-40.795387268066406,-41.288082122802734,-41.820194244384766,-42.9371337890625,-42.775489807128906,-43.39595031738281,-43.8305549621582,-43.95024108886719,-46.43336868286133],\"y\":[1.1758655309677124,1.435427188873291,1.852162480354309,3.7126224040985107,17.969465255737305,18.39773178100586,18.572031021118164,20.015474319458008,20.427576065063477,20.293359756469727,20.877925872802734,21.739023208618164,22.15291404724121,22.610204696655273,23.034345626831055,23.464181900024414,23.910289764404297,24.38317108154297,25.622737884521484,26.513071060180664,28.976829528808594,30.66179084777832,31.519460678100586,32.38681411743164,33.28831100463867,34.12388229370117,35.06294250488281,35.92837142944336,36.7880859375,37.77427291870117,38.69717025756836,40.3387336730957,40.507591247558594,41.4459228515625,42.578399658203125,42.45337677001953,47.73381042480469],\"z\":[0.397663950920105,-0.06189131736755371,-0.7889926433563232,-4.572450160980225,-22.651132583618164,-23.388477325439453,-24.64494514465332,-24.404836654663086,-25.520601272583008,-24.11301612854004,-26.058835983276367,-27.122577667236328,-27.45450782775879,-27.972383499145508,-28.490570068359375,-28.94392204284668,-29.268476486206055,-29.905000686645508,-30.917688369750977,-32.13604736328125,-34.67390441894531,-36.27989959716797,-37.167030334472656,-37.99174880981445,-38.79582977294922,-39.54188919067383,-40.63153076171875,-41.35601806640625,-42.081172943115234,-43.05039978027344,-44.09424591064453,-45.13080596923828,-45.965396881103516,-46.482540130615234,-47.713497161865234,-47.16320037841797,-51.90926742553711],\"type\":\"scatter3d\"},{\"hovertemplate\":\"g4hit_trkid=36<br>x=%{x}<br>y=%{y}<br>z=%{z}<extra></extra>\",\"legendgroup\":\"36\",\"marker\":{\"color\":\"#FFA15A\",\"opacity\":0.3,\"symbol\":\"circle\",\"size\":3},\"mode\":\"markers\",\"name\":\"36\",\"scene\":\"scene\",\"showlegend\":true,\"x\":[-2.4296367168426514,-3.2848398685455322,-4.127112865447998,-7.290417194366455,-9.780381202697754,-32.41497039794922,-32.96980667114258,-35.14055633544922,-36.22412872314453,-36.752662658691406,-37.806427001953125,-39.3489875793457,-40.95490264892578,-45.05616760253906,-45.28462219238281,-47.54062271118164,-48.29170608520508,-48.3742790222168,-49.09861755371094,-49.01499557495117,-49.74492645263672,-49.85902786254883,-50.444053649902344,-51.12123107910156,-51.78966522216797,-51.69684600830078,-52.348304748535156,-52.13286590576172,-53.61762619018555,-53.770931243896484,-53.83802032470703,-54.05727767944336,-54.55508041381836,-54.36199188232422,-54.84778594970703,-55.033241271972656,-55.50720977783203,-55.25857925415039,-55.85610580444336,-55.581016540527344,-55.963130950927734,-56.3408317565918,-56.149620056152344,-56.527435302734375,-56.021461486816406,-56.81004333496094,-56.42463302612305,-56.8713493347168,-56.959659576416016,-56.65450668334961,-56.937068939208984,-56.57931137084961,-56.91609573364258,-56.20640563964844,-56.742637634277344,-56.2436637878418,-56.57687759399414,-56.73479080200195,-56.49325180053711,-55.686729431152344,-56.09925842285156,-56.03822326660156,-55.56033706665039,-56.2608757019043],\"y\":[0.6027788519859314,0.7806070446968079,0.9367580413818359,1.3678542375564575,1.5479286909103394,-2.6048831939697266,-2.8847498893737793,-4.079050540924072,-4.692657947540283,-5.040325164794922,-5.71366024017334,-6.963912010192871,-7.6427836418151855,-12.52967643737793,-11.677064895629883,-14.948286056518555,-15.916302680969238,-15.673049926757812,-16.714523315429688,-16.96086311340332,-17.985851287841797,-17.649723052978516,-19.017715454101562,-20.09247589111328,-21.189712524414062,-21.42690658569336,-22.48062515258789,-22.970243453979492,-24.417760848999023,-24.069347381591797,-26.5035343170166,-26.05892562866211,-27.529909133911133,-27.921457290649414,-29.34720802307129,-29.00916862487793,-30.426095962524414,-30.879287719726562,-32.07099914550781,-32.53726577758789,-34.02229309082031,-33.39986038208008,-35.82582473754883,-35.20708084106445,-36.01763153076172,-36.812103271484375,-37.38890838623047,-38.69501876831055,-40.49799346923828,-40.9141731262207,-42.384124755859375,-42.87204360961914,-44.23515319824219,-45.119407653808594,-44.45127868652344,-46.82570266723633,-46.410526275634766,-46.21377182006836,-48.2236442565918,-49.143306732177734,-48.672908782958984,-50.406375885009766,-50.949459075927734,-50.15249252319336],\"z\":[4.638175964355469,5.339936256408691,6.032924175262451,8.427549362182617,10.027549743652344,29.305679321289062,29.699968338012695,31.75540542602539,32.70282745361328,32.99181365966797,34.31451416015625,35.86112594604492,36.66231918334961,42.287200927734375,42.04491424560547,45.46719741821289,46.20625305175781,45.46719741821289,46.81541061401367,47.58720016479492,48.15669250488281,47.49392318725586,49.19265365600586,50.164066314697266,51.05747604370117,51.82719802856445,52.29252624511719,53.09919738769531,53.86842727661133,53.35906982421875,55.962249755859375,55.354644775390625,56.67588424682617,57.08744812011719,58.442562103271484,57.8623161315918,59.0301399230957,59.61559295654297,60.42573928833008,60.9789924621582,62.2330322265625,61.40328598022461,63.75013732910156,62.919586181640625,64.54719543457031,64.3405990600586,64.9638900756836,65.69071197509766,67.2191162109375,67.86499786376953,68.80221557617188,69.47805786132812,70.28008270263672,71.91183471679688,70.90719604492188,72.61775970458984,73.66883087158203,72.03624725341797,73.5372314453125,74.80269622802734,74.08866119384766,75.47506713867188,76.08534240722656,74.72319793701172],\"type\":\"scatter3d\"},{\"hovertemplate\":\"g4hit_trkid=8<br>x=%{x}<br>y=%{y}<br>z=%{z}<extra></extra>\",\"legendgroup\":\"8\",\"marker\":{\"color\":\"#19d3f3\",\"opacity\":0.3,\"symbol\":\"circle\",\"size\":3},\"mode\":\"markers\",\"name\":\"8\",\"scene\":\"scene\",\"showlegend\":true,\"x\":[-2.58168363571167,-3.3720107078552246,-4.121947288513184,-8.074880599975586,-9.896089553833008,-31.299209594726562,-31.518054962158203,-32.07246780395508,-32.62688064575195,-32.94611740112305,-33.181297302246094,-34.04708480834961,-35.14805221557617,-27.494295120239258,-36.76054763793945,-37.273841857910156,-37.795249938964844,-38.3015022277832,-40.139034271240234,-36.49429702758789,-42.57431411743164,-46.1286735534668,-45.98457717895508,-47.109432220458984,-47.92408752441406,-47.9816780090332,-48.787628173828125,-50.518341064453125,-51.35392761230469,-52.21509552001953,-53.034706115722656,-54.397125244140625,-54.873069763183594,-55.53101348876953,-56.44792175292969,-58.03392028808594,-59.062171936035156,-58.90203094482422,-59.898502349853516,-60.74187088012695,-63.25215530395508,-63.17384338378906,-64.0587158203125,-64.85051727294922,-65.67143249511719,-66.43960571289062,-67.24910736083984],\"y\":[-0.3466287851333618,-0.463479220867157,-0.5784978866577148,-1.2723616361618042,-1.6308915615081787,-6.387622356414795,-7.998457908630371,-8.139153480529785,-8.2798490524292,-9.29824161529541,-8.42054557800293,-9.608963966369629,-9.919685363769531,-25.744625091552734,-10.519425392150879,-10.802382469177246,-11.0574951171875,-11.364614486694336,-11.162270545959473,-22.12963104248047,-13.707401275634766,-15.937795639038086,-16.362293243408203,-16.223873138427734,-16.99927520751953,-16.829618453979492,-17.630661010742188,-18.826688766479492,-19.494094848632812,-20.09571647644043,-20.80421257019043,-22.64621353149414,-21.435026168823242,-22.77002716064453,-23.433347702026367,-25.276813507080078,-25.663898468017578,-26.027847290039062,-26.487150192260742,-27.294416427612305,-29.737438201904297,-29.896240234375,-30.582326889038086,-31.457136154174805,-32.272918701171875,-33.19565963745117,-34.03458023071289],\"z\":[2.903887987136841,3.0091519355773926,3.1114919185638428,3.627549409866333,3.627549409866333,61.613189697265625,7.329452991485596,7.390570163726807,7.4480156898498535,7.519921779632568,7.447101593017578,7.672820091247559,7.848281383514404,69.56453704833984,8.083757400512695,8.135156631469727,8.212859153747559,8.343578338623047,47.66276931762695,39.15182876586914,8.99860954284668,9.638218879699707,10.720843315124512,11.22193717956543,9.843226432800293,8.218483924865723,9.984108924865723,10.287375450134277,10.433694839477539,10.512460708618164,10.776741981506348,12.309758186340332,12.187054634094238,11.17354679107666,11.302023887634277,11.722328186035156,11.767398834228516,11.77639102935791,11.972999572753906,12.123906135559082,12.589491844177246,14.486015319824219,12.7279691696167,12.917046546936035,13.077750205993652,13.28403091430664,13.373687744140625],\"type\":\"scatter3d\"},{\"hovertemplate\":\"g4hit_trkid=60<br>x=%{x}<br>y=%{y}<br>z=%{z}<extra></extra>\",\"legendgroup\":\"60\",\"marker\":{\"color\":\"#FF6692\",\"opacity\":0.3,\"symbol\":\"circle\",\"size\":3},\"mode\":\"markers\",\"name\":\"60\",\"scene\":\"scene\",\"showlegend\":true,\"x\":[-2.576197385787964,-3.3802132606506348,-4.147424697875977,-8.075496673583984,-10.599167823791504,-31.282413482666016,-32.95314407348633,-33.50425338745117,-34.053131103515625,-34.60574722290039,-35.16364669799805,-35.711265563964844,-36.264163970947266,-36.81227111816406,-38.4485969543457,-38.979705810546875,-39.51078796386719,-41.1326904296875,-42.080596923828125,-43.01728820800781,-44.885616302490234,-46.71617889404297,-47.64944076538086,-48.558223724365234,-49.41780090332031,-50.323455810546875,-51.940155029296875,-52.203514099121094,-52.90917205810547,-53.76198959350586,-54.551422119140625,-56.26321792602539,-57.12511444091797,-58.75579071044922,-58.807247161865234,-59.59154510498047,-60.4465446472168,-62.795143127441406,-62.6276969909668,-63.55263137817383,-63.46869659423828,-64.23723602294922,-65.03730773925781,-64.88733673095703,-65.66044616699219,-65.8492202758789,-66.92073059082031,-67.69471740722656],\"y\":[-0.3574090898036957,-0.4480523467063904,-0.5251314640045166,-0.7926620841026306,-0.8509470224380493,2.3938522338867188,3.0368874073028564,3.258570671081543,3.5006439685821533,3.708559989929199,3.868229627609253,4.121758460998535,4.3271002769470215,4.5761895179748535,5.3013200759887695,5.610538482666016,5.9199137687683105,6.606689929962158,7.157498359680176,7.738005638122559,8.808808326721191,10.069487571716309,10.60122013092041,11.181516647338867,11.962896347045898,12.555963516235352,14.444046020507812,13.461166381835938,14.766961097717285,15.488536834716797,16.42758560180664,17.494632720947266,18.400272369384766,20.422414779663086,20.270832061767578,21.373342514038086,22.237396240234375,25.278709411621094,25.709299087524414,26.354400634765625,26.54515838623047,27.52247428894043,28.428146362304688,28.76896858215332,29.735910415649414,29.306882858276367,32.22003173828125,33.13097381591797],\"z\":[3.7781641483306885,4.149511814117432,4.500391960144043,6.827549457550049,6.827549457550049,17.131820678710938,18.01103973388672,18.424476623535156,18.682960510253906,18.930797576904297,19.134899139404297,19.4630069732666,19.709938049316406,20.027202606201172,20.875202178955078,21.143733978271484,21.536296844482422,22.150297164916992,22.75528907775879,23.359344482421875,24.262493133544922,25.381906509399414,25.812055587768555,26.302398681640625,27.014257431030273,27.370515823364258,28.54460906982422,28.192617416381836,28.972515106201172,29.524797439575195,30.315969467163086,30.745803833007812,31.05120277404785,32.88853073120117,32.323204040527344,33.43598556518555,33.910736083984375,35.691795349121094,35.94486618041992,36.26668930053711,36.98720169067383,36.96613311767578,37.40023422241211,37.96185302734375,38.285125732421875,38.009788513183594,39.620243072509766,40.07634353637695],\"type\":\"scatter3d\"},{\"hovertemplate\":\"g4hit_trkid=4<br>x=%{x}<br>y=%{y}<br>z=%{z}<extra></extra>\",\"legendgroup\":\"4\",\"marker\":{\"color\":\"#B6E880\",\"opacity\":0.3,\"symbol\":\"circle\",\"size\":3},\"mode\":\"markers\",\"name\":\"4\",\"scene\":\"scene\",\"showlegend\":true,\"x\":[-2.679337501525879,-3.5051445960998535,-4.266125679016113,-8.075641632080078,-10.599363327026367,-30.72317886352539,-31.251440048217773,-31.80543327331543,-32.32781219482422,-32.87392807006836,-33.41740798950195,-33.93954086303711,-34.469879150390625,-35.0119743347168,-35.528297424316406,-37.127227783203125,-38.171016693115234,-38.725433349609375,-40.34255599975586,-41.122459411621094,-42.10588836669922,-43.01350784301758,-43.05583953857422,-43.957969665527344,-44.86019515991211,-45.73856735229492,-45.78380584716797,-46.6629638671875,-48.445457458496094,-49.33802032470703,-50.196495056152344,-51.091400146484375,-51.96711730957031,-52.815513610839844,-53.61579513549805,-53.70000076293945,-55.32227325439453,-55.3983268737793,-56.23421859741211,-57.0775146484375,-57.12525177001953,-58.01337432861328,-58.88404846191406,-59.79841995239258,-59.737403869628906,-60.62260818481445,-61.52136993408203,-61.448951721191406,-62.33747482299805,-63.154415130615234,-63.2381706237793,-64.02876281738281,-63.96391677856445,-64.86506652832031,-65.65525817871094,-65.72834777832031,-66.54911804199219,-67.29248046875,-68.16534423828125,-68.02338409423828],\"y\":[-0.1547391414642334,-0.21308909356594086,-0.27649256587028503,-0.6795621514320374,-1.0303469896316528,-6.351720333099365,-6.627769470214844,-6.774466514587402,-7.080094814300537,-7.266396522521973,-7.455636978149414,-7.728249549865723,-7.967336654663086,-8.158366203308105,-8.454732894897461,-9.139628410339355,-9.686806678771973,-9.827502250671387,-10.40270709991455,-11.435751914978027,-11.709232330322266,-12.242793083190918,-12.09755802154541,-12.64995002746582,-13.202024459838867,-13.83592700958252,-13.68072509765625,-14.311934471130371,-15.463372230529785,-16.00925636291504,-16.655576705932617,-17.194568634033203,-17.790096282958984,-18.466100692749023,-19.28384780883789,-19.03577995300293,-20.279891967773438,-20.074249267578125,-20.96173667907715,-21.82012176513672,-21.69736099243164,-22.440467834472656,-23.228439331054688,-23.904043197631836,-24.060949325561523,-24.811561584472656,-25.522871017456055,-25.687450408935547,-26.39208984375,-27.25941276550293,-27.069067001342773,-27.996267318725586,-28.14364242553711,-28.819580078125,-29.747699737548828,-29.581592559814453,-30.440214157104492,-31.466201782226562,-32.1766357421875,-32.46449661254883],\"z\":[5.8495893478393555,6.854568004608154,7.781832218170166,11.627549171447754,15.627549171447754,40.472843170166016,41.61738204956055,42.207698822021484,43.022342681884766,43.797698974609375,44.24309158325195,45.06814193725586,45.63457107543945,46.365081787109375,47.29615020751953,49.23289489746094,50.87744140625,51.67569351196289,53.094749450683594,54.84846115112305,56.18073654174805,57.7203254699707,56.915199279785156,58.42459487915039,59.82071304321289,61.61606979370117,60.644962310791016,62.461673736572266,65.21070098876953,66.29574584960938,67.84561157226562,68.88349914550781,70.2100830078125,71.59517669677734,73.71935272216797,72.5718994140625,75.25047302246094,74.17913055419922,76.5023193359375,78.43960571289062,77.56846618652344,79.42076110839844,80.9012680053711,81.9620361328125,82.7791976928711,83.96697998046875,85.02569580078125,85.74720001220703,86.80272674560547,88.37628173828125,87.44319915771484,89.51046752929688,90.41120147705078,90.98367309570312,92.81041717529297,92.1072006225586,93.60926055908203,95.59607696533203,96.43572998046875,97.38792419433594],\"type\":\"scatter3d\"},{\"hovertemplate\":\"g4hit_trkid=91<br>x=%{x}<br>y=%{y}<br>z=%{z}<extra></extra>\",\"legendgroup\":\"91\",\"marker\":{\"color\":\"#FF97FF\",\"opacity\":0.3,\"symbol\":\"circle\",\"size\":3},\"mode\":\"markers\",\"name\":\"91\",\"scene\":\"scene\",\"showlegend\":true,\"x\":[-1.7390937805175781,-2.2217020988464355,-2.8438732624053955,-5.237931251525879,-8.521438598632812,-20.305744171142578,-22.15987777709961,-22.4466609954834,-22.773883819580078,-23.048986434936523,-23.371915817260742,-23.659595489501953,-23.946773529052734,-24.214527130126953,-16.13841438293457,-25.16729164123535,-11.742599487304688,-26.579252243041992,-27.055158615112305,-27.54462432861328,-28.02381706237793,-28.46100616455078,-28.940101623535156,-29.421344757080078,-29.88873863220215,-30.318437576293945,-30.769119262695312,-30.66721534729004,-31.182178497314453,-31.621129989624023,-32.00394058227539,-33.25432586669922,-33.71968078613281,-33.67132568359375],\"y\":[-1.8012726306915283,-2.3090567588806152,-2.9726548194885254,-5.590479373931885,-30.193696975708008,-25.39618682861328,-28.308483123779297,-28.81171226501465,-29.282487869262695,-29.795095443725586,-30.269315719604492,-30.771827697753906,-31.272544860839844,-31.785465240478516,-38.41239547729492,-33.204185485839844,-41.03302001953125,-35.9658088684082,-36.88249588012695,-37.789241790771484,-38.703521728515625,-39.648597717285156,-40.562950134277344,-41.47572708129883,-42.39865493774414,-43.347721099853516,-44.27412796020508,-44.342220306396484,-45.225677490234375,-46.1599235534668,-47.131683349609375,-49.95125961303711,-50.959747314453125,-50.99205780029297],\"z\":[6.758076190948486,7.924620628356934,9.439252853393555,15.627549171447754,51.54698181152344,56.77018737792969,62.51765060424805,63.55267333984375,64.33846282958984,65.28839874267578,66.17329406738281,67.2242202758789,68.16866302490234,69.43133544921875,83.51133728027344,70.42005157470703,105.2511978149414,77.23910522460938,78.95549011230469,80.66960144042969,82.28382110595703,84.1552734375,85.84809875488281,87.41532897949219,88.85601806640625,90.93077087402344,92.43851470947266,93.48980712890625,94.36133575439453,95.92927551269531,98.0828857421875,103.11470031738281,104.46824645996094,105.2511978149414],\"type\":\"scatter3d\"},{\"hovertemplate\":\"g4hit_trkid=58<br>x=%{x}<br>y=%{y}<br>z=%{z}<extra></extra>\",\"legendgroup\":\"58\",\"marker\":{\"color\":\"#FECB52\",\"opacity\":0.3,\"symbol\":\"circle\",\"size\":3},\"mode\":\"markers\",\"name\":\"58\",\"scene\":\"scene\",\"showlegend\":true,\"x\":[-1.5126043558120728,-2.070596694946289,-2.42315411567688,-12.081048965454102,-11.962783813476562,-12.01480770111084,-12.112964630126953,-12.166380882263184,-12.210043907165527,-12.238515853881836,-12.24649715423584,-12.249070167541504,-12.255941390991211,-12.248865127563477,-12.279383659362793,-12.185120582580566,-12.214014053344727,-12.045931816101074,-12.182766914367676],\"y\":[-1.9485150575637817,-2.707834482192993,-3.200896978378296,-28.958881378173828,-29.008586883544922,-29.60205078125,-30.791263580322266,-31.384185791015625,-31.980897903442383,-32.583518981933594,-33.19410705566406,-33.80439376831055,-34.40608215332031,-35.012508392333984,-35.606170654296875,-36.84621047973633,-37.440425872802734,-37.49748229980469,-37.45103454589844],\"z\":[8.82716178894043,11.206818580627441,12.733397483825684,81.91178131103516,83.47050476074219,84.80219268798828,87.74103546142578,89.31663513183594,90.71405792236328,92.191650390625,93.64698791503906,95.60598754882812,97.08768463134766,98.67691802978516,99.76338195800781,103.18585205078125,104.50064086914062,102.8121109008789,105.2511978149414],\"type\":\"scatter3d\"},{\"hovertemplate\":\"g4hit_trkid=74<br>x=%{x}<br>y=%{y}<br>z=%{z}<extra></extra>\",\"legendgroup\":\"74\",\"marker\":{\"color\":\"#636efa\",\"opacity\":0.3,\"symbol\":\"circle\",\"size\":3},\"mode\":\"markers\",\"name\":\"74\",\"scene\":\"scene\",\"showlegend\":true,\"x\":[-1.967836856842041],\"y\":[-1.6525652408599854],\"z\":[13.146265983581543],\"type\":\"scatter3d\"},{\"hovertemplate\":\"g4hit_trkid=76<br>x=%{x}<br>y=%{y}<br>z=%{z}<extra></extra>\",\"legendgroup\":\"76\",\"marker\":{\"color\":\"#EF553B\",\"opacity\":0.3,\"symbol\":\"circle\",\"size\":3},\"mode\":\"markers\",\"name\":\"76\",\"scene\":\"scene\",\"showlegend\":true,\"x\":[-1.3060513734817505,-1.5412479639053345,-1.9385056495666504,-3.5734786987304688],\"y\":[-2.3924331665039062,-2.8696742057800293,-3.6777729988098145,-7.476553440093994],\"z\":[3.747462034225464,3.9726099967956543,4.345907211303711,6.827549457550049],\"type\":\"scatter3d\"},{\"hovertemplate\":\"g4hit_trkid=68<br>x=%{x}<br>y=%{y}<br>z=%{z}<extra></extra>\",\"legendgroup\":\"68\",\"marker\":{\"color\":\"#00cc96\",\"opacity\":0.3,\"symbol\":\"circle\",\"size\":3},\"mode\":\"markers\",\"name\":\"68\",\"scene\":\"scene\",\"showlegend\":true,\"x\":[-0.8032026290893555,-1.136911153793335,-1.318244218826294,-2.74249005317688,-4.094738006591797,-16.295127868652344,-18.436656951904297,-18.907419204711914,-19.770479202270508,-20.24936866760254,-20.70250129699707,-21.12967872619629,-21.625579833984375,-22.088279724121094,-22.535552978515625,-23.098257064819336,-24.30182456970215,-27.153331756591797,-28.070240020751953,-28.944353103637695,-29.956880569458008,-30.914342880249023,-31.76959991455078,-32.8985710144043,-33.82493591308594,-34.845760345458984,-35.82826614379883,-36.88520050048828,-37.916351318359375,-38.99093246459961,-40.910274505615234,-40.7085075378418,-44.45404052734375,-45.80371856689453,-47.07192611694336,-48.22687530517578,-48.491241455078125,-49.456153869628906,-50.73409652709961,-52.08638381958008,-51.90287780761719,-53.292694091796875,-55.837337493896484,-57.04863739013672,-58.386741638183594,-58.63179016113281,-59.862083435058594,-60.1031379699707],\"y\":[-2.419034242630005,-3.3191471099853516,-3.792508125305176,-7.196692943572998,-9.984624862670898,-26.808053970336914,-28.851295471191406,-29.224639892578125,-30.023759841918945,-30.391674041748047,-30.77680015563965,-31.17926597595215,-31.53581428527832,-31.914546966552734,-32.3035888671875,-32.603946685791016,-33.83877182006836,-35.54487609863281,-36.12310028076172,-36.730289459228516,-37.22639083862305,-37.76668930053711,-38.38901138305664,-38.77616500854492,-39.32132339477539,-39.78364562988281,-40.27956771850586,-40.71022033691406,-41.15471267700195,-41.538978576660156,-42.39000701904297,-42.58315658569336,-43.513572692871094,-43.69015121459961,-43.951839447021484,-44.33183670043945,-44.0372200012207,-44.60081481933594,-44.807472229003906,-44.929359436035156,-45.13860321044922,-45.21769714355469,-45.579254150390625,-45.822723388671875,-45.908199310302734,-45.602874755859375,-45.8161735534668,-45.48741912841797],\"z\":[4.303996562957764,4.959328651428223,5.304360866546631,8.427549362182617,10.027549743652344,23.750350952148438,25.837148666381836,26.22820281982422,26.974172592163086,27.410860061645508,27.759899139404297,28.111297607421875,28.52261734008789,28.97718048095703,29.293210983276367,30.026758193969727,30.52051544189453,33.13053894042969,33.83803939819336,34.4689826965332,35.32128143310547,36.03943634033203,36.529476165771484,37.49557876586914,38.23015594482422,38.84977340698242,39.643009185791016,40.55194091796875,41.16046142578125,41.94147491455078,43.24238967895508,42.49919891357422,45.76154708862305,46.737510681152344,47.68983459472656,48.365013122558594,48.613006591796875,49.20182800292969,50.07912826538086,51.19325637817383,50.555198669433594,51.81584548950195,53.47090148925781,54.21179962158203,55.02010726928711,55.50539779663086,56.1749382019043,56.737396240234375],\"type\":\"scatter3d\"},{\"hovertemplate\":\"g4hit_trkid=41<br>x=%{x}<br>y=%{y}<br>z=%{z}<extra></extra>\",\"legendgroup\":\"41\",\"marker\":{\"color\":\"#ab63fa\",\"opacity\":0.3,\"symbol\":\"circle\",\"size\":3},\"mode\":\"markers\",\"name\":\"41\",\"scene\":\"scene\",\"showlegend\":true,\"x\":[0.44262492656707764,0.5071491599082947,0.5322354435920715,-19.635334014892578,-19.10277557373047,-19.371660232543945,-18.833215713500977,-19.819564819335938,-20.45864486694336,-20.765981674194336,-21.43189239501953,-21.99547576904297,-23.065549850463867,-22.495296478271484,-22.573974609375,-23.48400115966797,-24.19894027709961,-24.29350471496582,-25.403228759765625,-25.575603485107422,-26.263225555419922,-26.443328857421875,-26.521879196166992],\"y\":[-2.5328304767608643,-3.3487911224365234,-4.144032955169678,-24.467449188232422,-24.894872665405273,-24.67906951904297,-25.092533111572266,-24.31958770751953,-24.540071487426758,-24.276453018188477,-24.453222274780273,-23.95713996887207,-23.724565505981445,-24.270463943481445,-24.195146560668945,-24.115785598754883,-23.39713478088379,-23.298351287841797,-22.9510440826416,-22.754487991333008,-22.837881088256836,-22.63251304626465,-22.542943954467773],\"z\":[-3.629666566848755,-5.630289077758789,-7.564829349517822,-87.44609069824219,-85.34387969970703,-86.38548278808594,-84.33790588378906,-88.29119873046875,-89.04772186279297,-90.38359069824219,-91.33264923095703,-93.8031997680664,-96.5936050415039,-93.91381072998047,-94.7677993774414,-97.08338928222656,-97.94949340820312,-99.73919677734375,-102.28451538085938,-103.1312026977539,-104.02474212646484,-104.82720184326172,-105.2511978149414],\"type\":\"scatter3d\"},{\"hovertemplate\":\"g4hit_trkid=97<br>x=%{x}<br>y=%{y}<br>z=%{z}<extra></extra>\",\"legendgroup\":\"97\",\"marker\":{\"color\":\"#FFA15A\",\"opacity\":0.3,\"symbol\":\"circle\",\"size\":3},\"mode\":\"markers\",\"name\":\"97\",\"scene\":\"scene\",\"showlegend\":true,\"x\":[1.0296214818954468,1.6631300449371338,2.550200939178467],\"y\":[-2.2341043949127197,-3.8941445350646973,-7.2194952964782715],\"z\":[5.285257339477539,7.328882694244385,11.627549171447754],\"type\":\"scatter3d\"},{\"hovertemplate\":\"g4hit_trkid=6<br>x=%{x}<br>y=%{y}<br>z=%{z}<extra></extra>\",\"legendgroup\":\"6\",\"marker\":{\"color\":\"#19d3f3\",\"opacity\":0.3,\"symbol\":\"circle\",\"size\":3},\"mode\":\"markers\",\"name\":\"6\",\"scene\":\"scene\",\"showlegend\":true,\"x\":[0.3725813925266266,0.4743289053440094,1.0761077404022217],\"y\":[-2.5684762001037598,-3.366241931915283,-31.355987548828125],\"z\":[10.696441650390625,13.215606689453125,100.66336059570312],\"type\":\"scatter3d\"},{\"hovertemplate\":\"g4hit_trkid=51<br>x=%{x}<br>y=%{y}<br>z=%{z}<extra></extra>\",\"legendgroup\":\"51\",\"marker\":{\"color\":\"#FF6692\",\"opacity\":0.3,\"symbol\":\"circle\",\"size\":3},\"mode\":\"markers\",\"name\":\"51\",\"scene\":\"scene\",\"showlegend\":true,\"x\":[1.9211665391921997,2.733713150024414,3.595062494277954],\"y\":[-1.5546720027923584,-1.9859522581100464,-2.3856401443481445],\"z\":[-0.44834670424461365,-1.5895500183105469,-2.735758066177368],\"type\":\"scatter3d\"},{\"hovertemplate\":\"g4hit_trkid=84<br>x=%{x}<br>y=%{y}<br>z=%{z}<extra></extra>\",\"legendgroup\":\"84\",\"marker\":{\"color\":\"#B6E880\",\"opacity\":0.3,\"symbol\":\"circle\",\"size\":3},\"mode\":\"markers\",\"name\":\"84\",\"scene\":\"scene\",\"showlegend\":true,\"x\":[1.7324130535125732,2.2172985076904297,2.8940389156341553,5.554554462432861,8.054840087890625,27.149742126464844,27.736988067626953,28.345298767089844,28.85889434814453,28.930797576904297,29.537967681884766,29.315692901611328,30.13247299194336,30.778459548950195,31.361631393432617,31.96055030822754,32.55374526977539,33.189640045166016,33.816795349121094,34.43260955810547,35.07039260864258,35.67546081542969,36.36141586303711,38.103450775146484,38.26780700683594,39.33579635620117,41.6068229675293,42.730926513671875,43.84791564941406,45.04602813720703,46.183528900146484,47.30453872680664,48.457096099853516,50.8390998840332,50.721473693847656,51.93204116821289,53.20200729370117,54.277278900146484,38.79597854614258,39.79200744628906,39.336669921875,40.72499465942383,41.2242431640625,55.50579833984375,40.01982879638672,37.1405029296875,36.626548767089844,37.58707809448242,38.030731201171875,39.6236457824707,40.410152435302734,39.37613296508789,45.0390739440918,45.6496696472168,44.21059799194336,44.67243957519531,43.790611267089844,43.0273323059082,45.965999603271484,45.35911560058594,43.49028396606445,42.7606201171875,57.70706558227539,57.55588912963867,42.02642059326172,40.941551208496094,36.70648956298828,41.369407653808594,41.69709777832031,40.500640869140625,36.05577087402344,40.35890197753906,37.060157775878906,40.18834686279297,42.872596740722656,43.6016845703125,47.12516403198242,47.489200592041016,44.43708419799805,47.768943786621094,43.23188781738281,44.39615249633789,46.951622009277344,58.85810852050781,58.953880310058594,39.17143630981445,40.934627532958984,39.659461975097656,40.261558532714844,41.41242980957031,40.56590270996094,35.47626495361328,36.02029037475586,41.75395202636719,42.06538772583008,40.091636657714844,41.406150817871094,44.5779914855957,45.02056121826172,46.17613983154297,45.42403030395508,49.38910675048828,48.97303009033203,45.45660400390625,46.1417236328125,45.827247619628906,45.825775146484375,45.034305572509766,44.70167541503906,60.13653564453125,60.221900939941406,38.708030700683594,39.149112701416016,35.47269058227539,39.48460388183594,35.085670471191406,38.28645324707031,50.49755096435547,51.09126281738281,61.376678466796875,61.31663513183594,38.78534698486328,38.33218765258789,38.026973724365234,52.382286071777344,52.103553771972656,62.63521194458008,35.28556442260742,38.203887939453125,38.62350845336914,34.90192413330078,35.109188079833984,53.57998275756836,63.80605697631836,63.8788948059082,38.29060745239258,35.26343536376953,38.644046783447266,34.909908294677734,54.8997917175293,65.0281753540039,65.08401489257812,38.42671585083008,35.291038513183594,35.42542266845703,66.22698211669922,66.2944107055664,57.46773910522461,67.43103790283203,67.4637680053711,38.98249053955078,35.76634979248047,58.42939758300781,68.59120178222656,36.1265983581543,59.52837371826172,69.79981994628906,21.550273895263672,36.48627471923828,60.591915130615234,70.94629669189453,70.92915344238281,19.232017517089844,61.60796356201172,72.07105255126953,72.0530014038086,72.06018829345703,19.524747848510742,73.17434692382812,73.18604278564453,37.9827766418457,63.538291931152344,74.2706298828125,74.25836181640625,38.596073150634766,64.45590209960938,75.33414459228516,75.32164764404297],\"y\":[-1.845014214515686,-2.3330132961273193,-2.988785982131958,-5.316518783569336,-7.239167213439941,-15.732043266296387,-15.855269432067871,-15.935615539550781,-16.188600540161133,-16.057538986206055,-16.13996124267578,-16.545114517211914,-16.245468139648438,-16.257139205932617,-16.383304595947266,-16.467044830322266,-16.55735969543457,-16.561092376708984,-16.58254051208496,-16.626991271972656,-16.62689781188965,-16.693138122558594,-16.559988021850586,-16.840547561645508,-16.467016220092773,-16.574092864990234,-16.397602081298828,-16.32308578491211,-16.266870498657227,-15.951868057250977,-15.776195526123047,-15.649107933044434,-15.429078102111816,-14.574118614196777,-14.97768783569336,-14.471875190734863,-13.674846649169922,-13.57475757598877,41.72560501098633,40.772117614746094,41.2080078125,39.84123229980469,39.31970977783203,-12.848397254943848,43.2424201965332,45.729705810546875,46.14219665527344,45.37129211425781,45.00373077392578,43.60678482055664,42.86876678466797,43.82384490966797,37.99042892456055,37.2402229309082,38.935123443603516,38.40849685668945,39.41402816772461,40.244510650634766,36.84608459472656,37.60224533081055,39.75648498535156,40.52312469482422,-11.85480785369873,-12.61483097076416,42.84024429321289,43.878780364990234,47.4847412109375,43.469200134277344,43.15550231933594,44.296852111816406,47.97346496582031,44.42115783691406,47.20089340209961,44.57072830200195,41.99262619018555,41.23101043701172,37.154510498046875,36.70093536376953,40.34074020385742,36.33470153808594,41.61730194091797,40.38741683959961,37.37074279785156,-11.691514015197754,-11.210034370422363,46.913116455078125,45.37543487548828,46.49372482299805,45.965702056884766,44.94672775268555,45.698795318603516,49.758750915527344,49.3598518371582,44.61979293823242,44.321659088134766,46.11471939086914,44.95273971557617,41.7976188659668,41.335304260253906,40.02159881591797,40.879215240478516,35.98039245605469,36.5478515625,40.842071533203125,40.06084442138672,40.41943359375,40.42111587524414,41.320945739746094,41.668418884277344,-10.887795448303223,-10.413411140441895,48.69174575805664,48.337738037109375,51.10785675048828,48.068477630615234,51.366455078125,49.030094146728516,36.3239860534668,35.49752426147461,-10.122401237487793,-10.512505531311035,50.03639602661133,50.38544845581055,50.6092414855957,35.540035247802734,35.957191467285156,-9.157275199890137,53.87175369262695,51.83989715576172,51.53221893310547,54.12809371948242,53.989601135253906,35.722225189208984,-8.76184368133545,-8.24044418334961,53.136688232421875,55.205970764160156,52.877532958984375,55.42451095581055,35.72166061401367,-7.823623180389404,-7.313708305358887,54.39726257324219,56.47648620605469,56.39493942260742,-6.9545392990112305,-6.33883810043335,35.772239685058594,-6.037483215332031,-5.629903316497803,56.67926788330078,58.75456237792969,36.302207946777344,-5.202419281005859,59.819210052490234,36.60588455200195,-3.5364394187927246,67.64134216308594,60.88420486450195,36.967952728271484,-2.2608120441436768,-3.0463638305664062,69.46943664550781,37.408287048339844,-1.0037273168563843,-1.8311946392059326,-1.5018963813781738,70.5268325805664,-0.7302248477935791,-0.19454392790794373,63.82585906982422,38.45667266845703,0.7782021760940552,1.3406598567962646,64.73695373535156,39.059234619140625,2.3279969692230225,2.9006118774414062],\"z\":[1.6377960443496704,1.3776912689208984,1.0233999490737915,0.42754969000816345,-1.3724504709243774,-8.882804870605469,-9.162023544311523,-9.367687225341797,-10.833468437194824,-9.61829662322998,-9.802391052246094,-11.040555000305176,-10.048187255859375,-10.08735179901123,-10.442703247070312,-10.53796100616455,-10.859874725341797,-11.10339069366455,-11.165132522583008,-11.543272972106934,-11.799383163452148,-12.128969192504883,-12.367304801940918,-12.69585132598877,-13.000913619995117,-13.32028865814209,-14.120367050170898,-14.486421585083008,-14.791953086853027,-15.35672664642334,-15.70142936706543,-15.936726570129395,-16.34113311767578,-17.445680618286133,-17.225772857666016,-17.778461456298828,-18.322046279907227,-18.652772903442383,-70.20379638671875,-70.59168243408203,-70.38700103759766,-70.87933349609375,-71.06672668457031,-19.203889846801758,-70.15628814697266,-69.03282928466797,-68.74215698242188,-69.16453552246094,-69.3787841796875,-69.93805694580078,-70.22879791259766,-69.85603332519531,-72.21516418457031,-72.50689697265625,-71.8024673461914,-72.04932403564453,-71.65182495117188,-71.25021362304688,-72.61450958251953,-72.36516571044922,-71.4891586303711,-71.18074798583984,-20.0788516998291,-19.466148376464844,-103.81683349609375,-103.27999114990234,-68.53653717041016,-103.48416900634766,-103.60790252685547,-103.14079284667969,-68.26290130615234,-104.13567352294922,-68.56914520263672,-103.43955993652344,-104.12679290771484,-104.42129516601562,-72.90733337402344,-73.01029205322266,-105.2511978149414,-73.1148681640625,-104.30767059326172,-104.82720184326172,-72.17919921875,-20.25745391845703,-20.58485221862793,-102.14407348632812,-102.7054214477539,-102.3248519897461,-102.64999389648438,-103.16275787353516,-102.27488708496094,-67.62574768066406,-67.93113708496094,-103.6600112915039,-104.29641723632812,-101.1878662109375,-104.68586730957031,-104.47474670410156,-104.63123321533203,-105.2511978149414,-104.72920227050781,-73.59471893310547,-73.38597106933594,-105.2511978149414,-104.82720184326172,-105.2511978149414,-104.82720184326172,-105.2511978149414,-105.2511978149414,-20.87685203552246,-21.078367233276367,-101.50426483154297,-101.71001434326172,-67.36878204345703,-101.89887237548828,-67.25823211669922,-101.36825561523438,-73.77616119384766,-74.10563659667969,-21.429813385009766,-20.875202178955078,-101.13121795654297,-100.85302734375,-100.73957824707031,-74.4288330078125,-74.24557495117188,-22.100828170776367,-66.63480377197266,-100.31773376464844,-100.59957122802734,-66.42039489746094,-65.81919860839844,-74.69429016113281,-22.419631958007812,-22.710329055786133,-99.84342193603516,-66.21118927001953,-100.0804672241211,-66.0067367553711,-75.05728149414062,-22.924531936645508,-23.187414169311523,-99.35702514648438,-65.79609680175781,-66.66719818115234,-23.457632064819336,-23.701868057250977,-75.8732681274414,-23.981781005859375,-24.183687210083008,-98.45397186279297,-65.08850860595703,-76.04362487792969,-24.452922821044922,-64.81563568115234,-76.30924987792969,-25.305187225341797,-31.887624740600586,-64.4212875366211,-76.62727355957031,-25.862781524658203,-25.569133758544922,-13.170609474182129,-76.90711975097656,-26.48062515258789,-25.96320343017578,-26.270601272583008,-13.010992050170898,-26.72892951965332,-26.86616325378418,-63.487579345703125,-77.49410247802734,-27.37920379638672,-27.565921783447266,-63.113189697265625,-77.78643798828125,-28.066999435424805,-28.29003143310547],\"type\":\"scatter3d\"},{\"hovertemplate\":\"g4hit_trkid=59<br>x=%{x}<br>y=%{y}<br>z=%{z}<extra></extra>\",\"legendgroup\":\"59\",\"marker\":{\"color\":\"#FF97FF\",\"opacity\":0.3,\"symbol\":\"circle\",\"size\":3},\"mode\":\"markers\",\"name\":\"59\",\"scene\":\"scene\",\"showlegend\":true,\"x\":[1.5316946506500244,1.9226456880569458,2.336240768432617,4.954987049102783,6.1285319328308105,20.723012924194336,21.160011291503906,21.60568618774414,22.00885581970215,22.47945213317871,22.916994094848633,23.347625732421875,23.77945899963379,24.22682762145996,24.69939422607422,25.129575729370117,25.581497192382812,26.020206451416016,26.47617530822754,27.41709327697754,29.575969696044922,30.401216506958008,31.2509822845459,32.75494384765625,34.10765838623047,33.469879150390625,34.836212158203125,35.56476593017578,36.34879684448242,38.9474983215332,39.914772033691406,40.75314712524414,44.38239669799805,45.34469985961914,47.297752380371094,48.31676483154297,49.32209396362305,53.45564270019531,54.42597198486328,55.495487213134766,56.54738998413086,57.59054183959961,58.621986389160156],\"y\":[-2.153761148452759,-2.6904537677764893,-3.254940986633301,-6.682709693908691,-8.156216621398926,-23.55337905883789,-23.930896759033203,-24.30080795288086,-24.707992553710938,-25.056047439575195,-25.433090209960938,-25.816192626953125,-26.198240280151367,-26.56666374206543,-26.911291122436523,-27.29128074645996,-27.65045738220215,-28.02228355407715,-28.377586364746094,-29.060449600219727,-30.770496368408203,-31.393447875976562,-31.99292755126953,-33.37910079956055,-33.469879150390625,-34.10765838623047,-34.184810638427734,-34.899742126464844,-35.556724548339844,-37.27005386352539,-37.735618591308594,-38.33583068847656,-40.403099060058594,-40.96967315673828,-42.07038497924805,-42.572296142578125,-43.08980941772461,-45.03188705444336,-45.58506393432617,-46.00519561767578,-46.447269439697266,-46.900245666503906,-47.3678092956543],\"z\":[4.8472418785095215,5.42132043838501,6.026588439941406,10.027549743652344,11.627549171447754,29.332351684570312,29.843093872070312,30.532133102416992,30.78417205810547,31.326101303100586,31.776710510253906,32.285587310791016,32.733524322509766,33.207672119140625,33.857608795166016,34.36283493041992,34.78590774536133,35.24491500854492,35.76030349731445,37.01197814941406,39.0922737121582,39.97934341430664,40.95487594604492,42.480072021484375,43.580833435058594,43.404205322265625,44.33892822265625,45.22016143798828,46.015907287597656,48.622135162353516,49.856388092041016,50.540409088134766,54.223262786865234,55.02104187011719,56.84105682373047,57.86540603637695,58.8134880065918,62.85378646850586,63.56346130371094,64.69481658935547,65.71965026855469,66.69156646728516,67.47035217285156],\"type\":\"scatter3d\"},{\"hovertemplate\":\"g4hit_trkid=18<br>x=%{x}<br>y=%{y}<br>z=%{z}<extra></extra>\",\"legendgroup\":\"18\",\"marker\":{\"color\":\"#FECB52\",\"opacity\":0.3,\"symbol\":\"circle\",\"size\":3},\"mode\":\"markers\",\"name\":\"18\",\"scene\":\"scene\",\"showlegend\":true,\"x\":[1.5746707916259766,1.97268545627594,2.389192819595337,2.6101245880126953,4.857179164886475,5.908290386199951,16.402053833007812,16.63336753845215,16.821290969848633,17.06475067138672,17.284536361694336,17.54595947265625,17.746450424194336,17.95979881286621,18.184616088867188,18.81385612487793,19.018959045410156,19.246440887451172,19.427940368652344,20.030942916870117,20.37149429321289,22.319725036621094,22.579936981201172,22.84427261352539,23.172134399414062,23.421743392944336,23.693077087402344,23.932373046875,24.179180145263672,24.377389907836914,24.883684158325195,25.034727096557617,25.037246704101562,25.12900733947754,25.5827579498291,25.786378860473633,25.97463035583496,26.192977905273438,26.308185577392578,26.52488899230957,26.67139434814453,26.821109771728516,27.021337509155273,27.053014755249023],\"y\":[-2.0876545906066895,-2.629751205444336,-3.2046561241149902,-3.5121254920959473,-6.739500522613525,-8.303948402404785,-27.41220474243164,-27.940876007080078,-28.495878219604492,-29.01717758178711,-29.552845001220703,-30.06324577331543,-30.610620498657227,-31.149126052856445,-31.67817497253418,-33.29012680053711,-33.829994201660156,-34.357582092285156,-34.910396575927734,-36.527164459228516,-37.50450897216797,-43.408504486083984,-44.418212890625,-45.42588424682617,-46.40222930908203,-47.41716384887695,-48.421382904052734,-49.44140625,-50.45772171020508,-51.49800491333008,-53.41261291503906,-53.339141845703125,-54.543617248535156,-54.50324249267578,-56.70072937011719,-57.80970764160156,-58.925445556640625,-60.0279426574707,-61.17582321166992,-62.2790412902832,-63.413150787353516,-64.54584503173828,-65.64877319335938,-65.6364517211914],\"z\":[6.2751288414001465,7.233810901641846,8.246747970581055,8.787688255310059,13.627549171447754,17.62755012512207,48.09519958496094,48.842464447021484,49.88114929199219,50.86859130859375,51.41989517211914,52.507652282714844,53.122467041015625,53.971290588378906,54.84687042236328,57.22708511352539,58.252647399902344,58.99922180175781,59.8194580078125,62.300621032714844,63.859989166259766,72.66944885253906,74.08025360107422,75.8110580444336,77.04019927978516,78.6467056274414,80.20443725585938,81.6584701538086,83.23065185546875,85.07025909423828,87.5448226928711,86.23249816894531,89.52876281738281,88.57386779785156,92.1891098022461,93.72686004638672,95.38094329833984,97.00603485107422,99.0035171508789,100.38137817382812,102.14599609375,103.83660125732422,105.2511978149414,104.82720184326172],\"type\":\"scatter3d\"},{\"hovertemplate\":\"g4hit_trkid=16<br>x=%{x}<br>y=%{y}<br>z=%{z}<extra></extra>\",\"legendgroup\":\"16\",\"marker\":{\"color\":\"#636efa\",\"opacity\":0.3,\"symbol\":\"circle\",\"size\":3},\"mode\":\"markers\",\"name\":\"16\",\"scene\":\"scene\",\"showlegend\":true,\"x\":[1.7900402545928955,2.2939536571502686,2.9586405754089355,5.582026481628418,28.893030166625977,24.782079696655273,25.267684936523438,25.743579864501953,26.731428146362305,26.566614151000977,27.199506759643555,27.687219619750977,28.189733505249023,28.673383712768555,29.152620315551758,29.664180755615234,30.137235641479492,30.643552780151367,31.14630889892578,33.178348541259766,33.058650970458984,33.76634216308594,34.93043899536133,35.83792495727539,36.71465301513672,36.73661804199219],\"y\":[-1.7563716173171997,-2.240023612976074,-2.8697056770324707,-5.288836479187012,-12.230707168579102,-20.157106399536133,-20.46585464477539,-20.786697387695312,-21.38345718383789,-21.58881187438965,-21.714038848876953,-22.020156860351562,-22.30783462524414,-22.619016647338867,-22.935697555541992,-23.212100982666016,-23.536483764648438,-23.819421768188477,-24.10679817199707,-25.202531814575195,-25.36577796936035,-26.114727020263672,-26.26520538330078,-26.753660202026367,-27.284069061279297,-27.254114151000977],\"z\":[8.126864433288574,9.680970191955566,11.718769073486328,19.62755012512207,33.1107177734375,73.9357681274414,75.11752319335938,76.2853012084961,79.26483917236328,82.12481689453125,80.1273422241211,81.52867126464844,82.9541015625,84.03671264648438,85.4132080078125,86.69112396240234,88.00971984863281,89.21775817871094,90.58465576171875,38.60861587524414,93.6568603515625,99.44463348388672,100.24141693115234,102.81572723388672,104.19815063476562,105.2511978149414],\"type\":\"scatter3d\"},{\"hovertemplate\":\"g4hit_trkid=50<br>x=%{x}<br>y=%{y}<br>z=%{z}<extra></extra>\",\"legendgroup\":\"50\",\"marker\":{\"color\":\"#EF553B\",\"opacity\":0.3,\"symbol\":\"circle\",\"size\":3},\"mode\":\"markers\",\"name\":\"50\",\"scene\":\"scene\",\"showlegend\":true,\"x\":[2.3933701515197754,2.8677093982696533,3.6680350303649902,7.208246231079102,8.864740371704102,26.390380859375,26.806928634643555,27.227405548095703,27.723783493041992,27.366153717041016,28.14234161376953,29.02368927001953,30.0190486907959,29.927997589111328,30.41799545288086,30.589672088623047,31.241518020629883,32.56282424926758,32.97913360595703,34.297607421875,35.054988861083984,35.816192626953125,36.575992584228516,37.32101821899414,38.08898162841797,38.81969451904297,40.32256317138672,41.042545318603516,41.759674072265625,42.482704162597656,43.218719482421875,43.92403030395508,44.65999221801758,45.34587478637695,45.43118667602539,46.77468490600586,46.690032958984375,48.59929656982422,48.919403076171875,49.67609786987305,50.38665008544922,51.12813186645508,51.806129455566406,52.56146240234375,53.27495574951172,54.672943115234375,55.38047790527344,56.059329986572266,56.723243713378906,57.42088317871094],\"y\":[-1.2883353233337402,-1.547674298286438,-1.991148591041565,-4.014353275299072,-5.001164436340332,-16.97211265563965,-17.378215789794922,-17.778440475463867,-18.065073013305664,-18.60030174255371,-18.468170166015625,-19.208166122436523,-19.777528762817383,-19.91379737854004,-20.20997428894043,-19.95304298400879,-21.03651237487793,-22.147579193115234,-22.554039001464844,-23.65422248840332,-24.357872009277344,-25.055801391601562,-25.74706268310547,-26.45709228515625,-27.135831832885742,-27.865379333496094,-29.2679500579834,-30.012128829956055,-30.76019859313965,-31.500225067138672,-32.222537994384766,-32.98672866821289,-33.709110260009766,-34.49979782104492,-34.38344955444336,-35.83538055419922,-35.94396209716797,-38.82321548461914,-38.424373626708984,-39.2342643737793,-40.101654052734375,-40.930503845214844,-41.83845520019531,-42.650047302246094,-43.513771057128906,-45.27734375,-46.148494720458984,-47.0545654296875,-47.961387634277344,-48.82975769042969],\"z\":[-0.27105480432510376,-0.8414853811264038,-1.805925965309143,-6.172450542449951,-7.7724504470825195,-29.975664138793945,-31.05535888671875,-31.60741424560547,-32.24137496948242,-33.023094177246094,-32.81153106689453,-34.45950698852539,-36.09349060058594,-35.12812423706055,-35.96846008300781,-37.11282730102539,-36.98250961303711,-38.86724090576172,-39.613094329833984,-40.973209381103516,-42.27368927001953,-43.302040100097656,-44.265865325927734,-45.576786041259766,-46.52121353149414,-47.58302307128906,-49.495201110839844,-50.87287902832031,-52.039913177490234,-53.112701416015625,-54.02564239501953,-55.22582244873047,-56.12861251831055,-57.56803894042969,-56.4911994934082,-58.62946319580078,-59.60475540161133,-61.91404342651367,-62.933589935302734,-63.97456741333008,-65.1825180053711,-66.15620422363281,-67.71297454833984,-68.56559753417969,-69.74209594726562,-72.21578979492188,-73.22076416015625,-74.41301727294922,-75.71253204345703,-76.86288452148438],\"type\":\"scatter3d\"},{\"hovertemplate\":\"g4hit_trkid=45<br>x=%{x}<br>y=%{y}<br>z=%{z}<extra></extra>\",\"legendgroup\":\"45\",\"marker\":{\"color\":\"#00cc96\",\"opacity\":0.3,\"symbol\":\"circle\",\"size\":3},\"mode\":\"markers\",\"name\":\"45\",\"scene\":\"scene\",\"showlegend\":true,\"x\":[2.4195311069488525,3.3162150382995605,3.7999236583709717],\"y\":[-0.7938076853752136,-1.1064599752426147,-1.2781562805175781],\"z\":[7.1211395263671875,8.823820114135742,9.743836402893066],\"type\":\"scatter3d\"}],                        {\"template\":{\"data\":{\"histogram2dcontour\":[{\"type\":\"histogram2dcontour\",\"colorbar\":{\"outlinewidth\":0,\"ticks\":\"\"},\"colorscale\":[[0.0,\"#0d0887\"],[0.1111111111111111,\"#46039f\"],[0.2222222222222222,\"#7201a8\"],[0.3333333333333333,\"#9c179e\"],[0.4444444444444444,\"#bd3786\"],[0.5555555555555556,\"#d8576b\"],[0.6666666666666666,\"#ed7953\"],[0.7777777777777778,\"#fb9f3a\"],[0.8888888888888888,\"#fdca26\"],[1.0,\"#f0f921\"]]}],\"choropleth\":[{\"type\":\"choropleth\",\"colorbar\":{\"outlinewidth\":0,\"ticks\":\"\"}}],\"histogram2d\":[{\"type\":\"histogram2d\",\"colorbar\":{\"outlinewidth\":0,\"ticks\":\"\"},\"colorscale\":[[0.0,\"#0d0887\"],[0.1111111111111111,\"#46039f\"],[0.2222222222222222,\"#7201a8\"],[0.3333333333333333,\"#9c179e\"],[0.4444444444444444,\"#bd3786\"],[0.5555555555555556,\"#d8576b\"],[0.6666666666666666,\"#ed7953\"],[0.7777777777777778,\"#fb9f3a\"],[0.8888888888888888,\"#fdca26\"],[1.0,\"#f0f921\"]]}],\"heatmap\":[{\"type\":\"heatmap\",\"colorbar\":{\"outlinewidth\":0,\"ticks\":\"\"},\"colorscale\":[[0.0,\"#0d0887\"],[0.1111111111111111,\"#46039f\"],[0.2222222222222222,\"#7201a8\"],[0.3333333333333333,\"#9c179e\"],[0.4444444444444444,\"#bd3786\"],[0.5555555555555556,\"#d8576b\"],[0.6666666666666666,\"#ed7953\"],[0.7777777777777778,\"#fb9f3a\"],[0.8888888888888888,\"#fdca26\"],[1.0,\"#f0f921\"]]}],\"heatmapgl\":[{\"type\":\"heatmapgl\",\"colorbar\":{\"outlinewidth\":0,\"ticks\":\"\"},\"colorscale\":[[0.0,\"#0d0887\"],[0.1111111111111111,\"#46039f\"],[0.2222222222222222,\"#7201a8\"],[0.3333333333333333,\"#9c179e\"],[0.4444444444444444,\"#bd3786\"],[0.5555555555555556,\"#d8576b\"],[0.6666666666666666,\"#ed7953\"],[0.7777777777777778,\"#fb9f3a\"],[0.8888888888888888,\"#fdca26\"],[1.0,\"#f0f921\"]]}],\"contourcarpet\":[{\"type\":\"contourcarpet\",\"colorbar\":{\"outlinewidth\":0,\"ticks\":\"\"}}],\"contour\":[{\"type\":\"contour\",\"colorbar\":{\"outlinewidth\":0,\"ticks\":\"\"},\"colorscale\":[[0.0,\"#0d0887\"],[0.1111111111111111,\"#46039f\"],[0.2222222222222222,\"#7201a8\"],[0.3333333333333333,\"#9c179e\"],[0.4444444444444444,\"#bd3786\"],[0.5555555555555556,\"#d8576b\"],[0.6666666666666666,\"#ed7953\"],[0.7777777777777778,\"#fb9f3a\"],[0.8888888888888888,\"#fdca26\"],[1.0,\"#f0f921\"]]}],\"surface\":[{\"type\":\"surface\",\"colorbar\":{\"outlinewidth\":0,\"ticks\":\"\"},\"colorscale\":[[0.0,\"#0d0887\"],[0.1111111111111111,\"#46039f\"],[0.2222222222222222,\"#7201a8\"],[0.3333333333333333,\"#9c179e\"],[0.4444444444444444,\"#bd3786\"],[0.5555555555555556,\"#d8576b\"],[0.6666666666666666,\"#ed7953\"],[0.7777777777777778,\"#fb9f3a\"],[0.8888888888888888,\"#fdca26\"],[1.0,\"#f0f921\"]]}],\"mesh3d\":[{\"type\":\"mesh3d\",\"colorbar\":{\"outlinewidth\":0,\"ticks\":\"\"}}],\"scatter\":[{\"fillpattern\":{\"fillmode\":\"overlay\",\"size\":10,\"solidity\":0.2},\"type\":\"scatter\"}],\"parcoords\":[{\"type\":\"parcoords\",\"line\":{\"colorbar\":{\"outlinewidth\":0,\"ticks\":\"\"}}}],\"scatterpolargl\":[{\"type\":\"scatterpolargl\",\"marker\":{\"colorbar\":{\"outlinewidth\":0,\"ticks\":\"\"}}}],\"bar\":[{\"error_x\":{\"color\":\"#2a3f5f\"},\"error_y\":{\"color\":\"#2a3f5f\"},\"marker\":{\"line\":{\"color\":\"#E5ECF6\",\"width\":0.5},\"pattern\":{\"fillmode\":\"overlay\",\"size\":10,\"solidity\":0.2}},\"type\":\"bar\"}],\"scattergeo\":[{\"type\":\"scattergeo\",\"marker\":{\"colorbar\":{\"outlinewidth\":0,\"ticks\":\"\"}}}],\"scatterpolar\":[{\"type\":\"scatterpolar\",\"marker\":{\"colorbar\":{\"outlinewidth\":0,\"ticks\":\"\"}}}],\"histogram\":[{\"marker\":{\"pattern\":{\"fillmode\":\"overlay\",\"size\":10,\"solidity\":0.2}},\"type\":\"histogram\"}],\"scattergl\":[{\"type\":\"scattergl\",\"marker\":{\"colorbar\":{\"outlinewidth\":0,\"ticks\":\"\"}}}],\"scatter3d\":[{\"type\":\"scatter3d\",\"line\":{\"colorbar\":{\"outlinewidth\":0,\"ticks\":\"\"}},\"marker\":{\"colorbar\":{\"outlinewidth\":0,\"ticks\":\"\"}}}],\"scattermapbox\":[{\"type\":\"scattermapbox\",\"marker\":{\"colorbar\":{\"outlinewidth\":0,\"ticks\":\"\"}}}],\"scatterternary\":[{\"type\":\"scatterternary\",\"marker\":{\"colorbar\":{\"outlinewidth\":0,\"ticks\":\"\"}}}],\"scattercarpet\":[{\"type\":\"scattercarpet\",\"marker\":{\"colorbar\":{\"outlinewidth\":0,\"ticks\":\"\"}}}],\"carpet\":[{\"aaxis\":{\"endlinecolor\":\"#2a3f5f\",\"gridcolor\":\"white\",\"linecolor\":\"white\",\"minorgridcolor\":\"white\",\"startlinecolor\":\"#2a3f5f\"},\"baxis\":{\"endlinecolor\":\"#2a3f5f\",\"gridcolor\":\"white\",\"linecolor\":\"white\",\"minorgridcolor\":\"white\",\"startlinecolor\":\"#2a3f5f\"},\"type\":\"carpet\"}],\"table\":[{\"cells\":{\"fill\":{\"color\":\"#EBF0F8\"},\"line\":{\"color\":\"white\"}},\"header\":{\"fill\":{\"color\":\"#C8D4E3\"},\"line\":{\"color\":\"white\"}},\"type\":\"table\"}],\"barpolar\":[{\"marker\":{\"line\":{\"color\":\"#E5ECF6\",\"width\":0.5},\"pattern\":{\"fillmode\":\"overlay\",\"size\":10,\"solidity\":0.2}},\"type\":\"barpolar\"}],\"pie\":[{\"automargin\":true,\"type\":\"pie\"}]},\"layout\":{\"autotypenumbers\":\"strict\",\"colorway\":[\"#636efa\",\"#EF553B\",\"#00cc96\",\"#ab63fa\",\"#FFA15A\",\"#19d3f3\",\"#FF6692\",\"#B6E880\",\"#FF97FF\",\"#FECB52\"],\"font\":{\"color\":\"#2a3f5f\"},\"hovermode\":\"closest\",\"hoverlabel\":{\"align\":\"left\"},\"paper_bgcolor\":\"white\",\"plot_bgcolor\":\"#E5ECF6\",\"polar\":{\"bgcolor\":\"#E5ECF6\",\"angularaxis\":{\"gridcolor\":\"white\",\"linecolor\":\"white\",\"ticks\":\"\"},\"radialaxis\":{\"gridcolor\":\"white\",\"linecolor\":\"white\",\"ticks\":\"\"}},\"ternary\":{\"bgcolor\":\"#E5ECF6\",\"aaxis\":{\"gridcolor\":\"white\",\"linecolor\":\"white\",\"ticks\":\"\"},\"baxis\":{\"gridcolor\":\"white\",\"linecolor\":\"white\",\"ticks\":\"\"},\"caxis\":{\"gridcolor\":\"white\",\"linecolor\":\"white\",\"ticks\":\"\"}},\"coloraxis\":{\"colorbar\":{\"outlinewidth\":0,\"ticks\":\"\"}},\"colorscale\":{\"sequential\":[[0.0,\"#0d0887\"],[0.1111111111111111,\"#46039f\"],[0.2222222222222222,\"#7201a8\"],[0.3333333333333333,\"#9c179e\"],[0.4444444444444444,\"#bd3786\"],[0.5555555555555556,\"#d8576b\"],[0.6666666666666666,\"#ed7953\"],[0.7777777777777778,\"#fb9f3a\"],[0.8888888888888888,\"#fdca26\"],[1.0,\"#f0f921\"]],\"sequentialminus\":[[0.0,\"#0d0887\"],[0.1111111111111111,\"#46039f\"],[0.2222222222222222,\"#7201a8\"],[0.3333333333333333,\"#9c179e\"],[0.4444444444444444,\"#bd3786\"],[0.5555555555555556,\"#d8576b\"],[0.6666666666666666,\"#ed7953\"],[0.7777777777777778,\"#fb9f3a\"],[0.8888888888888888,\"#fdca26\"],[1.0,\"#f0f921\"]],\"diverging\":[[0,\"#8e0152\"],[0.1,\"#c51b7d\"],[0.2,\"#de77ae\"],[0.3,\"#f1b6da\"],[0.4,\"#fde0ef\"],[0.5,\"#f7f7f7\"],[0.6,\"#e6f5d0\"],[0.7,\"#b8e186\"],[0.8,\"#7fbc41\"],[0.9,\"#4d9221\"],[1,\"#276419\"]]},\"xaxis\":{\"gridcolor\":\"white\",\"linecolor\":\"white\",\"ticks\":\"\",\"title\":{\"standoff\":15},\"zerolinecolor\":\"white\",\"automargin\":true,\"zerolinewidth\":2},\"yaxis\":{\"gridcolor\":\"white\",\"linecolor\":\"white\",\"ticks\":\"\",\"title\":{\"standoff\":15},\"zerolinecolor\":\"white\",\"automargin\":true,\"zerolinewidth\":2},\"scene\":{\"xaxis\":{\"backgroundcolor\":\"#E5ECF6\",\"gridcolor\":\"white\",\"linecolor\":\"white\",\"showbackground\":true,\"ticks\":\"\",\"zerolinecolor\":\"white\",\"gridwidth\":2},\"yaxis\":{\"backgroundcolor\":\"#E5ECF6\",\"gridcolor\":\"white\",\"linecolor\":\"white\",\"showbackground\":true,\"ticks\":\"\",\"zerolinecolor\":\"white\",\"gridwidth\":2},\"zaxis\":{\"backgroundcolor\":\"#E5ECF6\",\"gridcolor\":\"white\",\"linecolor\":\"white\",\"showbackground\":true,\"ticks\":\"\",\"zerolinecolor\":\"white\",\"gridwidth\":2}},\"shapedefaults\":{\"line\":{\"color\":\"#2a3f5f\"}},\"annotationdefaults\":{\"arrowcolor\":\"#2a3f5f\",\"arrowhead\":0,\"arrowwidth\":1},\"geo\":{\"bgcolor\":\"white\",\"landcolor\":\"#E5ECF6\",\"subunitcolor\":\"white\",\"showland\":true,\"showlakes\":true,\"lakecolor\":\"white\"},\"title\":{\"x\":0.05},\"mapbox\":{\"style\":\"light\"}}},\"scene\":{\"domain\":{\"x\":[0.0,1.0],\"y\":[0.0,1.0]},\"xaxis\":{\"title\":{\"text\":\"x\"}},\"yaxis\":{\"title\":{\"text\":\"y\"}},\"zaxis\":{\"title\":{\"text\":\"z\"}},\"camera\":{\"up\":{\"x\":1,\"y\":0,\"z\":0},\"center\":{\"x\":0,\"y\":0,\"z\":0},\"eye\":{\"x\":1.25,\"y\":1.25,\"z\":1.25}}},\"legend\":{\"title\":{\"text\":\"g4hit_trkid\"},\"tracegroupgap\":0,\"traceorder\":\"normal\"},\"margin\":{\"t\":60},\"title\":{\"text\":\"EventID=0\"},\"width\":800,\"height\":800},                        {\"responsive\": true}                    ).then(function(){\n",
       "                            \n",
       "var gd = document.getElementById('7ccfad29-4b91-4ac5-a818-b71d7568a85b');\n",
       "var x = new MutationObserver(function (mutations, observer) {{\n",
       "        var display = window.getComputedStyle(gd).display;\n",
       "        if (!display || display === 'none') {{\n",
       "            console.log([gd, 'removed!']);\n",
       "            Plotly.purge(gd);\n",
       "            observer.disconnect();\n",
       "        }}\n",
       "}});\n",
       "\n",
       "// Listen for the removal of the full notebook cells\n",
       "var notebookContainer = gd.closest('#notebook-container');\n",
       "if (notebookContainer) {{\n",
       "    x.observe(notebookContainer, {childList: true});\n",
       "}}\n",
       "\n",
       "// Listen for the clearing of the current output cell\n",
       "var outputEl = gd.closest('.output');\n",
       "if (outputEl) {{\n",
       "    x.observe(outputEl, {childList: true});\n",
       "}}\n",
       "\n",
       "                        })                };                });            </script>        </div>"
      ]
     },
     "metadata": {},
     "output_type": "display_data"
    }
   ],
   "source": [
    "## Interactive 3D Scatter. \n",
    "## try: single click or double click the detector type in the legend.\n",
    "\n",
    "fig = px.scatter_3d(df, x='x', y='y', z='z', color='g4hit_trkid', opacity=0.3)#, symbol='D')\n",
    "fig.update_traces(marker_size=3)\n",
    "fig.update_layout(title=f\"event {event_id}\", width=800, height=800)\n",
    "camera = dict(\n",
    "    up=dict(x=1, y=0, z=0),\n",
    "    center=dict(x=0, y=0, z=0),\n",
    "    eye=dict(x=1.25, y=1.25, z=1.25)\n",
    ")\n",
    "fig.update_layout(scene_camera=camera, title=f\"EventID={event_id}\")\n",
    "fig.update_layout(legend_traceorder=\"normal\")\n",
    "fig.show()"
   ]
  },
  {
   "cell_type": "code",
   "execution_count": null,
   "id": "8b7d5ef5-4924-48fa-83dd-0279c7978f83",
   "metadata": {},
   "outputs": [],
   "source": []
  }
 ],
 "metadata": {
  "kernelspec": {
   "display_name": "Python (myvenv)",
   "language": "python",
   "name": "venv"
  },
  "language_info": {
   "codemirror_mode": {
    "name": "ipython",
    "version": 3
   },
   "file_extension": ".py",
   "mimetype": "text/x-python",
   "name": "python",
   "nbconvert_exporter": "python",
   "pygments_lexer": "ipython3",
   "version": "3.10.8"
  }
 },
 "nbformat": 4,
 "nbformat_minor": 5
}
