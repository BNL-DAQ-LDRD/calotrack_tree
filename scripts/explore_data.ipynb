{
 "cells": [
  {
   "cell_type": "code",
   "execution_count": null,
   "id": "a48e4ed8-c992-40dd-b661-bc2366a8405c",
   "metadata": {},
   "outputs": [],
   "source": [
    "import uproot\n",
    "import matplotlib.pyplot as plt\n",
    "import numpy as np\n",
    "import pandas as pd\n",
    "import plotly.express as px\n",
    "\n",
    "# https://github.com/BNL-DAQ-LDRD/calotrack_tree/tree/main\n",
    "# enum detid {\n",
    "#     mvtxId = 0,\n",
    "#     inttId = 1,\n",
    "#     tpcId = 2,\n",
    "#     tpotId = 3,\n",
    "#     cemcId = 4,\n",
    "#     ihcalId = 5,\n",
    "#     ohcalId = 6,\n",
    "#     epdId = 7,\n",
    "#     mbdId = 8\n",
    "# };\n",
    "\n",
    "# input hits in calarometer is \"nHits_\", and in trackers \"reco_cluster_\"\n",
    "# groundtruth hits in calarometer is \"particle_\" and in trackers \"truth_cluster_\""
   ]
  },
  {
   "cell_type": "code",
   "execution_count": null,
   "id": "dadb685b-3040-448d-a16f-e4b8e838b42b",
   "metadata": {},
   "outputs": [],
   "source": [
    "data_file = \"./data/ppmb100evt_2.root\" # sample data shared by Shuhang containing 100 events\n",
    "with uproot.open(data_file) as fp:\n",
    "    print(list(fp['T;1'].keys()))\n",
    "data = uproot.open(data_file)[\"T;1\"]\n",
    "detid = {\"mvtx\": 0,\"intt\": 1,\"tpc\": 2,\"tpot\": 3,\"cemc\": 4,\"ihcal\": 5,\"ohcal\": 6,\"epd\": 7,\"mbd\": 8 };\n",
    "id2det = {x:str(x)+'-'+y for y,x in detid.items()}"
   ]
  },
  {
   "cell_type": "code",
   "execution_count": null,
   "id": "9287ca75-0a33-4868-939f-542d6462102d",
   "metadata": {},
   "outputs": [],
   "source": [
    "## combine all hits and clusters per event\n",
    "def get_event(event_id):\n",
    "    calx = data[\"Hit_x\"].array(library=\"np\")[event_id]\n",
    "    caly = data[\"Hit_y\"].array(library=\"np\")[event_id]\n",
    "    calz = data[\"Hit_z\"].array(library=\"np\")[event_id]\n",
    "    calE = data[\"Hit_E\"].array(library=\"np\")[event_id]\n",
    "    calD = data[\"Hit_detid\"].array(library=\"np\")[event_id]\n",
    "    trkx = data[\"reco_cluster_x\"].array(library=\"np\")[event_id]\n",
    "    trky = data[\"reco_cluster_y\"].array(library=\"np\")[event_id]\n",
    "    trkz = data[\"reco_cluster_z\"].array(library=\"np\")[event_id]\n",
    "    trkE = data[\"reco_cluster_E\"].array(library=\"np\")[event_id]\n",
    "    trkD = data[\"reco_cluster_detid\"].array(library=\"np\")[event_id]\n",
    "    x = np.concatenate([trkx, calx])\n",
    "    y = np.concatenate([trky, caly])\n",
    "    z = np.concatenate([trkz, calz])\n",
    "    E = np.concatenate([trkE, calE])\n",
    "    D = np.concatenate([trkD, calD])\n",
    "    df = pd.DataFrame({\"x\": x, \"y\": y, \"z\": z, \"E\": E, \"D\": D})\n",
    "    df[\"detector type\"] = df[\"D\"].apply(lambda x: id2det[x])\n",
    "    return df"
   ]
  },
  {
   "cell_type": "code",
   "execution_count": null,
   "id": "30ffbb37-18ef-42b5-8463-494783dde6c9",
   "metadata": {
    "scrolled": true
   },
   "outputs": [],
   "source": [
    "event_id = 9  # pick different events\n",
    "## Pie Chart of number of \"hits\" and \"clusters\" from different detectors\n",
    "df = get_event(event_id)\n",
    "tmp = df[\"detector type\"].to_list();\n",
    "a, b= np.unique(tmp, return_counts=True)\n",
    "tmp_df = pd.DataFrame({'name': a, 'count': b})\n",
    "fig = px.pie(tmp_df, values='count', names='name')\n",
    "fig.update_layout(legend_traceorder=\"normal\")\n",
    "fig.show()"
   ]
  },
  {
   "cell_type": "code",
   "execution_count": null,
   "id": "e123a172-61e3-4d14-b9d6-9fc374d5a1f0",
   "metadata": {},
   "outputs": [],
   "source": [
    "## Interactive 3D Scatter. \n",
    "## try: single click or double click the detector type in the legend.\n",
    "\n",
    "fig = px.scatter_3d(df, x='x', y='y', z='z', color='detector type', opacity=0.3)#, symbol='D')\n",
    "fig.update_traces(marker_size=3)\n",
    "fig.update_layout(title=f\"event {event_id}\", width=800, height=800)\n",
    "camera = dict(\n",
    "    up=dict(x=1, y=0, z=0),\n",
    "    center=dict(x=0, y=0, z=0),\n",
    "    eye=dict(x=1.25, y=1.25, z=1.25)\n",
    ")\n",
    "fig.update_layout(scene_camera=camera, title=f\"EventID={event_id}\")\n",
    "fig.update_layout(legend_traceorder=\"normal\")\n",
    "fig.show()"
   ]
  }
 ],
 "metadata": {
  "kernelspec": {
   "display_name": "Python 3 (ipykernel)",
   "language": "python",
   "name": "python3"
  },
  "language_info": {
   "codemirror_mode": {
    "name": "ipython",
    "version": 3
   },
   "file_extension": ".py",
   "mimetype": "text/x-python",
   "name": "python",
   "nbconvert_exporter": "python",
   "pygments_lexer": "ipython3",
   "version": "3.12.3"
  }
 },
 "nbformat": 4,
 "nbformat_minor": 5
}
