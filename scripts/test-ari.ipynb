{
 "cells": [
  {
   "cell_type": "code",
   "execution_count": 9,
   "metadata": {},
   "outputs": [
    {
     "name": "stdout",
     "output_type": "stream",
     "text": [
      "ARI 1: 0.761904776096344\n",
      "ARI 2: 0.761904776096344\n"
     ]
    }
   ],
   "source": [
    "import torch\n",
    "from torchmetrics.clustering import AdjustedRandScore\n",
    "\n",
    "# Initialize the metric\n",
    "ari = AdjustedRandScore()\n",
    "\n",
    "# Example predictions and ground truth labels\n",
    "target = torch.tensor([-1, -1, 1, 1, 2, 2])\n",
    "preds1 = torch.tensor([1, 2, 3, 3, 4, 4])\n",
    "preds2 = torch.tensor([1, 2, 4, 4, 3, 3])\n",
    "\n",
    "# Compute ARI\n",
    "score1 = ari(preds1, target)\n",
    "score2 = ari(preds2, target)\n",
    "print(f\"ARI 1: {score1}\")\n",
    "print(f\"ARI 2: {score2}\")"
   ]
  },
  {
   "cell_type": "code",
   "execution_count": null,
   "metadata": {},
   "outputs": [],
   "source": []
  }
 ],
 "metadata": {
  "kernelspec": {
   "display_name": "Python (myvenv)",
   "language": "python",
   "name": "venv"
  },
  "language_info": {
   "codemirror_mode": {
    "name": "ipython",
    "version": 3
   },
   "file_extension": ".py",
   "mimetype": "text/x-python",
   "name": "python",
   "nbconvert_exporter": "python",
   "pygments_lexer": "ipython3",
   "version": "3.10.8"
  }
 },
 "nbformat": 4,
 "nbformat_minor": 2
}
